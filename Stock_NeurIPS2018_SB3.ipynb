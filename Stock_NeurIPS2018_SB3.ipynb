{
 "cells": [
  {
   "cell_type": "markdown",
   "metadata": {
    "id": "yfv52r2G33jY"
   },
   "source": [
    "<a href=\"https://colab.research.google.com/github/AI4Finance-Foundation/FinRL-Tutorials/blob/master/1-Introduction/Stock_NeurIPS2018_SB3.ipynb\" target=\"_parent\"><img src=\"https://colab.research.google.com/assets/colab-badge.svg\" alt=\"Open In Colab\"/></a>"
   ]
  },
  {
   "cell_type": "markdown",
   "metadata": {
    "id": "gXaoZs2lh1hi"
   },
   "source": [
    "# Deep Reinforcement Learning for Stock Trading from Scratch: Multiple Stock Trading\n",
    "\n",
    "* **Pytorch Version** \n",
    "\n"
   ]
  },
  {
   "cell_type": "markdown",
   "metadata": {
    "id": "lGunVt8oLCVS"
   },
   "source": [
    "# Content"
   ]
  },
  {
   "cell_type": "markdown",
   "metadata": {
    "id": "HOzAKQ-SLGX6"
   },
   "source": [
    "* [1. Task Description](#0)\n",
    "* [2. Install Python packages](#1)\n",
    "    * [2.1. Install Packages](#1.1)    \n",
    "    * [2.2. A List of Python Packages](#1.2)\n",
    "    * [2.3. Import Packages](#1.3)\n",
    "    * [2.4. Create Folders](#1.4)\n",
    "* [3. Download and Preprocess Data](#2)\n",
    "* [4. Preprocess Data](#3)        \n",
    "    * [4.1. Technical Indicators](#3.1)\n",
    "    * [4.2. Perform Feature Engineering](#3.2)\n",
    "* [5. Build Market Environment in OpenAI Gym-style](#4)  \n",
    "    * [5.1. Data Split](#4.1)  \n",
    "    * [5.3. Environment for Training](#4.2)    \n",
    "* [6. Train DRL Agents](#5)\n",
    "* [7. Backtesting Performance](#6)  \n",
    "    * [7.1. BackTestStats](#6.1)\n",
    "    * [7.2. BackTestPlot](#6.2)   \n",
    "  "
   ]
  },
  {
   "cell_type": "markdown",
   "metadata": {
    "id": "sApkDlD9LIZv"
   },
   "source": [
    "<a id='0'></a>\n",
    "# Part 1. Task Discription"
   ]
  },
  {
   "cell_type": "markdown",
   "metadata": {
    "id": "HjLD2TZSLKZ-"
   },
   "source": [
    "We train a DRL agent for stock trading. This task is modeled as a Markov Decision Process (MDP), and the objective function is maximizing (expected) cumulative return.\n",
    "\n",
    "We specify the state-action-reward as follows:\n",
    "\n",
    "* **State s**: The state space represents an agent's perception of the market environment. Just like a human trader analyzing various information, here our agent passively observes many features and learns by interacting with the market environment (usually by replaying historical data).\n",
    "\n",
    "* **Action a**: The action space includes allowed actions that an agent can take at each state. For example, a ∈ {−1, 0, 1}, where −1, 0, 1 represent\n",
    "selling, holding, and buying. When an action operates multiple shares, a ∈{−k, ..., −1, 0, 1, ..., k}, e.g.. \"Buy\n",
    "10 shares of AAPL\" or \"Sell 10 shares of AAPL\" are 10 or −10, respectively\n",
    "\n",
    "* **Reward function r(s, a, s′)**: Reward is an incentive for an agent to learn a better policy. For example, it can be the change of the portfolio value when taking a at state s and arriving at new state s',  i.e., r(s, a, s′) = v′ − v, where v′ and v represent the portfolio values at state s′ and s, respectively\n",
    "\n",
    "\n",
    "**Market environment**: 30 consituent stocks of Dow Jones Industrial Average (DJIA) index. Accessed at the starting date of the testing period.\n",
    "\n",
    "\n",
    "The data for this case study is obtained from Yahoo Finance API. The data contains Open-High-Low-Close price and volume.\n"
   ]
  },
  {
   "cell_type": "markdown",
   "metadata": {
    "id": "Ffsre789LY08"
   },
   "source": [
    "<a id='1'></a>\n",
    "# Part 2. Install Python Packages"
   ]
  },
  {
   "cell_type": "markdown",
   "metadata": {
    "id": "Uy5_PTmOh1hj"
   },
   "source": [
    "<a id='1.1'></a>\n",
    "## 2.1. Install packages\n"
   ]
  },
  {
   "cell_type": "code",
   "execution_count": 1,
   "metadata": {
    "colab": {
     "base_uri": "https://localhost:8080/"
    },
    "id": "mPT0ipYE28wL",
    "outputId": "ae04aff7-94ea-473e-9bc1-d26f56ac3426"
   },
   "outputs": [],
   "source": [
    "# ## install required packages\n",
    "# !pip install swig\n",
    "# !pip install wrds\n",
    "# !pip install pyportfolioopt\n",
    "# ## install finrl library\n",
    "# !pip install -q condacolab\n",
    "# import condacolab\n",
    "# condacolab.install()\n",
    "# !apt-get update -y -qq && apt-get install -y -qq cmake libopenmpi-dev python3-dev zlib1g-dev libgl1-mesa-glx swig\n",
    "# !pip install git+https://github.com/AI4Finance-Foundation/FinRL.git"
   ]
  },
  {
   "cell_type": "markdown",
   "metadata": {
    "id": "osBHhVysOEzi"
   },
   "source": [
    "\n",
    "<a id='1.2'></a>\n",
    "## 2.2. A list of Python packages \n",
    "* Yahoo Finance API\n",
    "* pandas\n",
    "* numpy\n",
    "* matplotlib\n",
    "* stockstats\n",
    "* OpenAI gym\n",
    "* stable-baselines\n",
    "* tensorflow\n",
    "* pyfolio"
   ]
  },
  {
   "cell_type": "markdown",
   "metadata": {
    "id": "nGv01K8Sh1hn"
   },
   "source": [
    "<a id='1.3'></a>\n",
    "## 2.3. Import Packages"
   ]
  },
  {
   "cell_type": "code",
   "execution_count": 2,
   "metadata": {
    "colab": {
     "base_uri": "https://localhost:8080/"
    },
    "id": "lPqeTTwoh1hn",
    "outputId": "08159edd-35c4-4dd6-8462-3e64f26d71f4"
   },
   "outputs": [
    {
     "name": "stderr",
     "output_type": "stream",
     "text": [
      "d:\\Anaconda\\envs\\fin\\lib\\site-packages\\pyfolio\\pos.py:26: UserWarning: Module \"zipline.assets\" not found; multipliers will not be applied to position notionals.\n",
      "  warnings.warn(\n"
     ]
    }
   ],
   "source": [
    "import pandas as pd\n",
    "import numpy as np\n",
    "import matplotlib\n",
    "import matplotlib.pyplot as plt\n",
    "# matplotlib.use('Agg')\n",
    "import datetime\n",
    "\n",
    "%matplotlib inline\n",
    "from finrl.meta.preprocessor.yahoodownloader import YahooDownloader\n",
    "from finrl.meta.preprocessor.preprocessors import FeatureEngineer, data_split\n",
    "from finrl.meta.env_stock_trading.env_stocktrading import StockTradingEnv\n",
    "from finrl.agents.stablebaselines3.models import DRLAgent\n",
    "from stable_baselines3.common.logger import configure\n",
    "from finrl.meta.data_processor import DataProcessor\n",
    "\n",
    "from finrl.plot import backtest_stats, backtest_plot, get_daily_return, get_baseline\n",
    "from pprint import pprint\n",
    "\n",
    "import sys\n",
    "sys.path.append(\"../FinRL\")\n",
    "\n",
    "import itertools"
   ]
  },
  {
   "cell_type": "markdown",
   "metadata": {
    "id": "T2owTj985RW4"
   },
   "source": [
    "<a id='1.4'></a>\n",
    "## 2.4. Create Folders"
   ]
  },
  {
   "cell_type": "code",
   "execution_count": 3,
   "metadata": {
    "id": "RtUc_ofKmpdy"
   },
   "outputs": [],
   "source": [
    "from finrl import config\n",
    "from finrl import config_tickers\n",
    "import os\n",
    "from finrl.main import check_and_make_directories\n",
    "from finrl.config import (\n",
    "    DATA_SAVE_DIR,\n",
    "    TRAINED_MODEL_DIR,\n",
    "    TENSORBOARD_LOG_DIR,\n",
    "    RESULTS_DIR,\n",
    "    INDICATORS,\n",
    "    TRAIN_START_DATE,\n",
    "    TRAIN_END_DATE,\n",
    "    TEST_START_DATE,\n",
    "    TEST_END_DATE,\n",
    "    TRADE_START_DATE,\n",
    "    TRADE_END_DATE,\n",
    ")\n",
    "check_and_make_directories([DATA_SAVE_DIR, TRAINED_MODEL_DIR, TENSORBOARD_LOG_DIR, RESULTS_DIR])\n",
    "\n"
   ]
  },
  {
   "cell_type": "markdown",
   "metadata": {
    "id": "A289rQWMh1hq"
   },
   "source": [
    "<a id='2'></a>\n",
    "# Part 3. Download Data\n",
    "Yahoo Finance provides stock data, financial news, financial reports, etc. Yahoo Finance is free.\n",
    "* FinRL uses a class **YahooDownloader** in FinRL-Meta to fetch data via Yahoo Finance API\n",
    "* Call Limit: Using the Public API (without authentication), you are limited to 2,000 requests per hour per IP (or up to a total of 48,000 requests a day)."
   ]
  },
  {
   "cell_type": "markdown",
   "metadata": {
    "id": "NPeQ7iS-LoMm"
   },
   "source": [
    "\n",
    "\n",
    "-----\n",
    "class YahooDownloader:\n",
    "    Retrieving daily stock data from\n",
    "    Yahoo Finance API\n",
    "\n",
    "    Attributes\n",
    "    ----------\n",
    "        start_date : str\n",
    "            start date of the data (modified from config.py)\n",
    "        end_date : str\n",
    "            end date of the data (modified from config.py)\n",
    "        ticker_list : list\n",
    "            a list of stock tickers (modified from config.py)\n",
    "\n",
    "    Methods\n",
    "    -------\n",
    "    fetch_data()\n"
   ]
  },
  {
   "cell_type": "code",
   "execution_count": 4,
   "metadata": {
    "colab": {
     "base_uri": "https://localhost:8080/",
     "height": 35
    },
    "id": "h3XJnvrbLp-C",
    "outputId": "2a4358a8-0656-4d5e-dc3e-b693cae3c5b8"
   },
   "outputs": [
    {
     "data": {
      "text/plain": [
       "'2020-07-31'"
      ]
     },
     "execution_count": 4,
     "metadata": {},
     "output_type": "execute_result"
    }
   ],
   "source": [
    "# from config.py, TRAIN_START_DATE is a string\n",
    "TRAIN_START_DATE\n",
    "# from config.py, TRAIN_END_DATE is a string\n",
    "TRAIN_END_DATE"
   ]
  },
  {
   "cell_type": "code",
   "execution_count": 5,
   "metadata": {
    "id": "FUnY8WEfLq3C"
   },
   "outputs": [],
   "source": [
    "TRAIN_START_DATE = '2010-01-01'\n",
    "TRAIN_END_DATE = '2021-10-01'\n",
    "TRADE_START_DATE = '2021-10-01'\n",
    "TRADE_END_DATE = '2023-03-01'"
   ]
  },
  {
   "cell_type": "code",
   "execution_count": 6,
   "metadata": {
    "colab": {
     "base_uri": "https://localhost:8080/"
    },
    "id": "yCKm4om-s9kE",
    "outputId": "a9d4f123-e338-4eca-feb1-358503317d9a"
   },
   "outputs": [
    {
     "name": "stdout",
     "output_type": "stream",
     "text": [
      "[*********************100%***********************]  1 of 1 completed\n",
      "[*********************100%***********************]  1 of 1 completed\n",
      "[*********************100%***********************]  1 of 1 completed\n",
      "[*********************100%***********************]  1 of 1 completed\n",
      "[*********************100%***********************]  1 of 1 completed\n",
      "[*********************100%***********************]  1 of 1 completed\n",
      "[*********************100%***********************]  1 of 1 completed\n",
      "[*********************100%***********************]  1 of 1 completed\n",
      "[*********************100%***********************]  1 of 1 completed\n",
      "[*********************100%***********************]  1 of 1 completed\n",
      "[*********************100%***********************]  1 of 1 completed\n",
      "[*********************100%***********************]  1 of 1 completed\n",
      "[*********************100%***********************]  1 of 1 completed\n",
      "[*********************100%***********************]  1 of 1 completed\n",
      "[*********************100%***********************]  1 of 1 completed\n",
      "[*********************100%***********************]  1 of 1 completed\n",
      "[*********************100%***********************]  1 of 1 completed\n",
      "[*********************100%***********************]  1 of 1 completed\n",
      "[*********************100%***********************]  1 of 1 completed\n",
      "[*********************100%***********************]  1 of 1 completed\n",
      "[*********************100%***********************]  1 of 1 completed\n",
      "[*********************100%***********************]  1 of 1 completed\n",
      "[*********************100%***********************]  1 of 1 completed\n",
      "[*********************100%***********************]  1 of 1 completed\n",
      "[*********************100%***********************]  1 of 1 completed\n",
      "[*********************100%***********************]  1 of 1 completed\n",
      "[*********************100%***********************]  1 of 1 completed\n",
      "[*********************100%***********************]  1 of 1 completed\n",
      "[*********************100%***********************]  1 of 1 completed\n",
      "[*********************100%***********************]  1 of 1 completed\n",
      "Shape of DataFrame:  (97013, 8)\n"
     ]
    }
   ],
   "source": [
    "df = YahooDownloader(start_date = TRAIN_START_DATE,\n",
    "                     end_date = TRADE_END_DATE,\n",
    "                     ticker_list = config_tickers.DOW_30_TICKER).fetch_data()"
   ]
  },
  {
   "cell_type": "code",
   "execution_count": 7,
   "metadata": {
    "colab": {
     "base_uri": "https://localhost:8080/"
    },
    "id": "JzqRRTOX6aFu",
    "outputId": "e302049c-08e1-4ff0-ce60-7faf71776eb7"
   },
   "outputs": [
    {
     "name": "stdout",
     "output_type": "stream",
     "text": [
      "['AXP', 'AMGN', 'AAPL', 'BA', 'CAT', 'CSCO', 'CVX', 'GS', 'HD', 'HON', 'IBM', 'INTC', 'JNJ', 'KO', 'JPM', 'MCD', 'MMM', 'MRK', 'MSFT', 'NKE', 'PG', 'TRV', 'UNH', 'CRM', 'VZ', 'V', 'WBA', 'WMT', 'DIS', 'DOW']\n"
     ]
    }
   ],
   "source": [
    "print(config_tickers.DOW_30_TICKER)"
   ]
  },
  {
   "cell_type": "code",
   "execution_count": 8,
   "metadata": {
    "colab": {
     "base_uri": "https://localhost:8080/"
    },
    "id": "CV3HrZHLh1hy",
    "outputId": "81ee90f7-c290-40d9-81a0-8b771f3699ed"
   },
   "outputs": [
    {
     "data": {
      "text/plain": [
       "(97013, 8)"
      ]
     },
     "execution_count": 8,
     "metadata": {},
     "output_type": "execute_result"
    }
   ],
   "source": [
    "df.shape"
   ]
  },
  {
   "cell_type": "code",
   "execution_count": 9,
   "metadata": {
    "colab": {
     "base_uri": "https://localhost:8080/",
     "height": 206
    },
    "id": "4hYkeaPiICHS",
    "outputId": "b64d30ce-6f5a-461e-c6fe-1baee4642b4d"
   },
   "outputs": [
    {
     "data": {
      "text/html": [
       "<div>\n",
       "<style scoped>\n",
       "    .dataframe tbody tr th:only-of-type {\n",
       "        vertical-align: middle;\n",
       "    }\n",
       "\n",
       "    .dataframe tbody tr th {\n",
       "        vertical-align: top;\n",
       "    }\n",
       "\n",
       "    .dataframe thead th {\n",
       "        text-align: right;\n",
       "    }\n",
       "</style>\n",
       "<table border=\"1\" class=\"dataframe\">\n",
       "  <thead>\n",
       "    <tr style=\"text-align: right;\">\n",
       "      <th></th>\n",
       "      <th>date</th>\n",
       "      <th>open</th>\n",
       "      <th>high</th>\n",
       "      <th>low</th>\n",
       "      <th>close</th>\n",
       "      <th>volume</th>\n",
       "      <th>tic</th>\n",
       "      <th>day</th>\n",
       "    </tr>\n",
       "  </thead>\n",
       "  <tbody>\n",
       "    <tr>\n",
       "      <th>0</th>\n",
       "      <td>2010-01-04</td>\n",
       "      <td>7.622500</td>\n",
       "      <td>7.660714</td>\n",
       "      <td>7.585000</td>\n",
       "      <td>6.505279</td>\n",
       "      <td>493729600</td>\n",
       "      <td>AAPL</td>\n",
       "      <td>0</td>\n",
       "    </tr>\n",
       "    <tr>\n",
       "      <th>1</th>\n",
       "      <td>2010-01-04</td>\n",
       "      <td>56.630001</td>\n",
       "      <td>57.869999</td>\n",
       "      <td>56.560001</td>\n",
       "      <td>42.888950</td>\n",
       "      <td>5277400</td>\n",
       "      <td>AMGN</td>\n",
       "      <td>0</td>\n",
       "    </tr>\n",
       "    <tr>\n",
       "      <th>2</th>\n",
       "      <td>2010-01-04</td>\n",
       "      <td>40.810001</td>\n",
       "      <td>41.099998</td>\n",
       "      <td>40.389999</td>\n",
       "      <td>33.675964</td>\n",
       "      <td>6894300</td>\n",
       "      <td>AXP</td>\n",
       "      <td>0</td>\n",
       "    </tr>\n",
       "    <tr>\n",
       "      <th>3</th>\n",
       "      <td>2010-01-04</td>\n",
       "      <td>55.720001</td>\n",
       "      <td>56.389999</td>\n",
       "      <td>54.799999</td>\n",
       "      <td>43.777550</td>\n",
       "      <td>6186700</td>\n",
       "      <td>BA</td>\n",
       "      <td>0</td>\n",
       "    </tr>\n",
       "    <tr>\n",
       "      <th>4</th>\n",
       "      <td>2010-01-04</td>\n",
       "      <td>57.650002</td>\n",
       "      <td>59.189999</td>\n",
       "      <td>57.509998</td>\n",
       "      <td>41.156914</td>\n",
       "      <td>7325600</td>\n",
       "      <td>CAT</td>\n",
       "      <td>0</td>\n",
       "    </tr>\n",
       "  </tbody>\n",
       "</table>\n",
       "</div>"
      ],
      "text/plain": [
       "         date       open       high        low      close     volume   tic  \\\n",
       "0  2010-01-04   7.622500   7.660714   7.585000   6.505279  493729600  AAPL   \n",
       "1  2010-01-04  56.630001  57.869999  56.560001  42.888950    5277400  AMGN   \n",
       "2  2010-01-04  40.810001  41.099998  40.389999  33.675964    6894300   AXP   \n",
       "3  2010-01-04  55.720001  56.389999  54.799999  43.777550    6186700    BA   \n",
       "4  2010-01-04  57.650002  59.189999  57.509998  41.156914    7325600   CAT   \n",
       "\n",
       "   day  \n",
       "0    0  \n",
       "1    0  \n",
       "2    0  \n",
       "3    0  \n",
       "4    0  "
      ]
     },
     "execution_count": 9,
     "metadata": {},
     "output_type": "execute_result"
    }
   ],
   "source": [
    "df.sort_values(['date','tic'],ignore_index=True).head()"
   ]
  },
  {
   "cell_type": "markdown",
   "metadata": {
    "id": "uqC6c40Zh1iH"
   },
   "source": [
    "# Part 4: Preprocess Data\n",
    "We need to check for missing data and do feature engineering to convert the data point into a state.\n",
    "* **Adding technical indicators**. In practical trading, various information needs to be taken into account, such as historical prices, current holding shares, technical indicators, etc. Here, we demonstrate two trend-following technical indicators: MACD and RSI.\n",
    "* **Adding turbulence index**. Risk-aversion reflects whether an investor prefers to protect the capital. It also influences one's trading strategy when facing different market volatility level. To control the risk in a worst-case scenario, such as financial crisis of 2007–2008, FinRL employs the turbulence index that measures extreme fluctuation of asset price."
   ]
  },
  {
   "cell_type": "code",
   "execution_count": 10,
   "metadata": {
    "colab": {
     "base_uri": "https://localhost:8080/"
    },
    "id": "PmKP-1ii3RLS",
    "outputId": "6e4b4cc7-593b-4403-eb2a-828f55ed5a89"
   },
   "outputs": [
    {
     "name": "stdout",
     "output_type": "stream",
     "text": [
      "Successfully added technical indicators\n",
      "[*********************100%***********************]  1 of 1 completed\n",
      "Shape of DataFrame:  (3310, 8)\n",
      "Successfully added vix\n",
      "Successfully added turbulence index\n"
     ]
    }
   ],
   "source": [
    "fe = FeatureEngineer(\n",
    "                    use_technical_indicator=True,\n",
    "                    tech_indicator_list = INDICATORS,\n",
    "                    use_vix=True,\n",
    "                    use_turbulence=True,\n",
    "                    user_defined_feature = False)\n",
    "\n",
    "processed = fe.preprocess_data(df)"
   ]
  },
  {
   "cell_type": "code",
   "execution_count": 11,
   "metadata": {
    "id": "Kixon2tR3RLT"
   },
   "outputs": [],
   "source": [
    "list_ticker = processed[\"tic\"].unique().tolist()\n",
    "list_date = list(pd.date_range(processed['date'].min(),processed['date'].max()).astype(str))\n",
    "combination = list(itertools.product(list_date,list_ticker))\n",
    "\n",
    "processed_full = pd.DataFrame(combination,columns=[\"date\",\"tic\"]).merge(processed,on=[\"date\",\"tic\"],how=\"left\")\n",
    "processed_full = processed_full[processed_full['date'].isin(processed['date'])]\n",
    "processed_full = processed_full.sort_values(['date','tic'])\n",
    "\n",
    "processed_full = processed_full.fillna(0)"
   ]
  },
  {
   "cell_type": "code",
   "execution_count": 12,
   "metadata": {
    "colab": {
     "base_uri": "https://localhost:8080/",
     "height": 407
    },
    "id": "grvhGJJII3Xn",
    "outputId": "627d411c-d197-4019-8940-4d88a68dbfc9"
   },
   "outputs": [
    {
     "data": {
      "text/html": [
       "<div>\n",
       "<style scoped>\n",
       "    .dataframe tbody tr th:only-of-type {\n",
       "        vertical-align: middle;\n",
       "    }\n",
       "\n",
       "    .dataframe tbody tr th {\n",
       "        vertical-align: top;\n",
       "    }\n",
       "\n",
       "    .dataframe thead th {\n",
       "        text-align: right;\n",
       "    }\n",
       "</style>\n",
       "<table border=\"1\" class=\"dataframe\">\n",
       "  <thead>\n",
       "    <tr style=\"text-align: right;\">\n",
       "      <th></th>\n",
       "      <th>date</th>\n",
       "      <th>tic</th>\n",
       "      <th>open</th>\n",
       "      <th>high</th>\n",
       "      <th>low</th>\n",
       "      <th>close</th>\n",
       "      <th>volume</th>\n",
       "      <th>day</th>\n",
       "      <th>macd</th>\n",
       "      <th>boll_ub</th>\n",
       "      <th>boll_lb</th>\n",
       "      <th>rsi_30</th>\n",
       "      <th>cci_30</th>\n",
       "      <th>dx_30</th>\n",
       "      <th>close_30_sma</th>\n",
       "      <th>close_60_sma</th>\n",
       "      <th>vix</th>\n",
       "      <th>turbulence</th>\n",
       "    </tr>\n",
       "  </thead>\n",
       "  <tbody>\n",
       "    <tr>\n",
       "      <th>0</th>\n",
       "      <td>2010-01-04</td>\n",
       "      <td>AAPL</td>\n",
       "      <td>7.622500</td>\n",
       "      <td>7.660714</td>\n",
       "      <td>7.585000</td>\n",
       "      <td>6.505279</td>\n",
       "      <td>493729600.0</td>\n",
       "      <td>0.0</td>\n",
       "      <td>0.0</td>\n",
       "      <td>6.526812</td>\n",
       "      <td>6.494995</td>\n",
       "      <td>100.0</td>\n",
       "      <td>66.666667</td>\n",
       "      <td>100.0</td>\n",
       "      <td>6.505279</td>\n",
       "      <td>6.505279</td>\n",
       "      <td>20.040001</td>\n",
       "      <td>0.0</td>\n",
       "    </tr>\n",
       "    <tr>\n",
       "      <th>1</th>\n",
       "      <td>2010-01-04</td>\n",
       "      <td>AMGN</td>\n",
       "      <td>56.630001</td>\n",
       "      <td>57.869999</td>\n",
       "      <td>56.560001</td>\n",
       "      <td>42.888950</td>\n",
       "      <td>5277400.0</td>\n",
       "      <td>0.0</td>\n",
       "      <td>0.0</td>\n",
       "      <td>6.526812</td>\n",
       "      <td>6.494995</td>\n",
       "      <td>100.0</td>\n",
       "      <td>66.666667</td>\n",
       "      <td>100.0</td>\n",
       "      <td>42.888950</td>\n",
       "      <td>42.888950</td>\n",
       "      <td>20.040001</td>\n",
       "      <td>0.0</td>\n",
       "    </tr>\n",
       "    <tr>\n",
       "      <th>2</th>\n",
       "      <td>2010-01-04</td>\n",
       "      <td>AXP</td>\n",
       "      <td>40.810001</td>\n",
       "      <td>41.099998</td>\n",
       "      <td>40.389999</td>\n",
       "      <td>33.675964</td>\n",
       "      <td>6894300.0</td>\n",
       "      <td>0.0</td>\n",
       "      <td>0.0</td>\n",
       "      <td>6.526812</td>\n",
       "      <td>6.494995</td>\n",
       "      <td>100.0</td>\n",
       "      <td>66.666667</td>\n",
       "      <td>100.0</td>\n",
       "      <td>33.675964</td>\n",
       "      <td>33.675964</td>\n",
       "      <td>20.040001</td>\n",
       "      <td>0.0</td>\n",
       "    </tr>\n",
       "    <tr>\n",
       "      <th>3</th>\n",
       "      <td>2010-01-04</td>\n",
       "      <td>BA</td>\n",
       "      <td>55.720001</td>\n",
       "      <td>56.389999</td>\n",
       "      <td>54.799999</td>\n",
       "      <td>43.777550</td>\n",
       "      <td>6186700.0</td>\n",
       "      <td>0.0</td>\n",
       "      <td>0.0</td>\n",
       "      <td>6.526812</td>\n",
       "      <td>6.494995</td>\n",
       "      <td>100.0</td>\n",
       "      <td>66.666667</td>\n",
       "      <td>100.0</td>\n",
       "      <td>43.777550</td>\n",
       "      <td>43.777550</td>\n",
       "      <td>20.040001</td>\n",
       "      <td>0.0</td>\n",
       "    </tr>\n",
       "    <tr>\n",
       "      <th>4</th>\n",
       "      <td>2010-01-04</td>\n",
       "      <td>CAT</td>\n",
       "      <td>57.650002</td>\n",
       "      <td>59.189999</td>\n",
       "      <td>57.509998</td>\n",
       "      <td>41.156914</td>\n",
       "      <td>7325600.0</td>\n",
       "      <td>0.0</td>\n",
       "      <td>0.0</td>\n",
       "      <td>6.526812</td>\n",
       "      <td>6.494995</td>\n",
       "      <td>100.0</td>\n",
       "      <td>66.666667</td>\n",
       "      <td>100.0</td>\n",
       "      <td>41.156914</td>\n",
       "      <td>41.156914</td>\n",
       "      <td>20.040001</td>\n",
       "      <td>0.0</td>\n",
       "    </tr>\n",
       "    <tr>\n",
       "      <th>5</th>\n",
       "      <td>2010-01-04</td>\n",
       "      <td>CRM</td>\n",
       "      <td>18.652500</td>\n",
       "      <td>18.882500</td>\n",
       "      <td>18.547501</td>\n",
       "      <td>18.705000</td>\n",
       "      <td>7906000.0</td>\n",
       "      <td>0.0</td>\n",
       "      <td>0.0</td>\n",
       "      <td>6.526812</td>\n",
       "      <td>6.494995</td>\n",
       "      <td>100.0</td>\n",
       "      <td>66.666667</td>\n",
       "      <td>100.0</td>\n",
       "      <td>18.705000</td>\n",
       "      <td>18.705000</td>\n",
       "      <td>20.040001</td>\n",
       "      <td>0.0</td>\n",
       "    </tr>\n",
       "    <tr>\n",
       "      <th>6</th>\n",
       "      <td>2010-01-04</td>\n",
       "      <td>CSCO</td>\n",
       "      <td>24.110001</td>\n",
       "      <td>24.840000</td>\n",
       "      <td>24.010000</td>\n",
       "      <td>17.394135</td>\n",
       "      <td>59853700.0</td>\n",
       "      <td>0.0</td>\n",
       "      <td>0.0</td>\n",
       "      <td>6.526812</td>\n",
       "      <td>6.494995</td>\n",
       "      <td>100.0</td>\n",
       "      <td>66.666667</td>\n",
       "      <td>100.0</td>\n",
       "      <td>17.394135</td>\n",
       "      <td>17.394135</td>\n",
       "      <td>20.040001</td>\n",
       "      <td>0.0</td>\n",
       "    </tr>\n",
       "    <tr>\n",
       "      <th>7</th>\n",
       "      <td>2010-01-04</td>\n",
       "      <td>CVX</td>\n",
       "      <td>78.199997</td>\n",
       "      <td>79.199997</td>\n",
       "      <td>78.160004</td>\n",
       "      <td>46.851883</td>\n",
       "      <td>10173800.0</td>\n",
       "      <td>0.0</td>\n",
       "      <td>0.0</td>\n",
       "      <td>6.526812</td>\n",
       "      <td>6.494995</td>\n",
       "      <td>100.0</td>\n",
       "      <td>66.666667</td>\n",
       "      <td>100.0</td>\n",
       "      <td>46.851883</td>\n",
       "      <td>46.851883</td>\n",
       "      <td>20.040001</td>\n",
       "      <td>0.0</td>\n",
       "    </tr>\n",
       "    <tr>\n",
       "      <th>8</th>\n",
       "      <td>2010-01-04</td>\n",
       "      <td>DIS</td>\n",
       "      <td>32.500000</td>\n",
       "      <td>32.750000</td>\n",
       "      <td>31.870001</td>\n",
       "      <td>27.933920</td>\n",
       "      <td>13700400.0</td>\n",
       "      <td>0.0</td>\n",
       "      <td>0.0</td>\n",
       "      <td>6.526812</td>\n",
       "      <td>6.494995</td>\n",
       "      <td>100.0</td>\n",
       "      <td>66.666667</td>\n",
       "      <td>100.0</td>\n",
       "      <td>27.933920</td>\n",
       "      <td>27.933920</td>\n",
       "      <td>20.040001</td>\n",
       "      <td>0.0</td>\n",
       "    </tr>\n",
       "    <tr>\n",
       "      <th>9</th>\n",
       "      <td>2010-01-04</td>\n",
       "      <td>GS</td>\n",
       "      <td>170.050003</td>\n",
       "      <td>174.250000</td>\n",
       "      <td>169.509995</td>\n",
       "      <td>139.862839</td>\n",
       "      <td>9135000.0</td>\n",
       "      <td>0.0</td>\n",
       "      <td>0.0</td>\n",
       "      <td>6.526812</td>\n",
       "      <td>6.494995</td>\n",
       "      <td>100.0</td>\n",
       "      <td>66.666667</td>\n",
       "      <td>100.0</td>\n",
       "      <td>139.862839</td>\n",
       "      <td>139.862839</td>\n",
       "      <td>20.040001</td>\n",
       "      <td>0.0</td>\n",
       "    </tr>\n",
       "  </tbody>\n",
       "</table>\n",
       "</div>"
      ],
      "text/plain": [
       "         date   tic        open        high         low       close  \\\n",
       "0  2010-01-04  AAPL    7.622500    7.660714    7.585000    6.505279   \n",
       "1  2010-01-04  AMGN   56.630001   57.869999   56.560001   42.888950   \n",
       "2  2010-01-04   AXP   40.810001   41.099998   40.389999   33.675964   \n",
       "3  2010-01-04    BA   55.720001   56.389999   54.799999   43.777550   \n",
       "4  2010-01-04   CAT   57.650002   59.189999   57.509998   41.156914   \n",
       "5  2010-01-04   CRM   18.652500   18.882500   18.547501   18.705000   \n",
       "6  2010-01-04  CSCO   24.110001   24.840000   24.010000   17.394135   \n",
       "7  2010-01-04   CVX   78.199997   79.199997   78.160004   46.851883   \n",
       "8  2010-01-04   DIS   32.500000   32.750000   31.870001   27.933920   \n",
       "9  2010-01-04    GS  170.050003  174.250000  169.509995  139.862839   \n",
       "\n",
       "        volume  day  macd   boll_ub   boll_lb  rsi_30     cci_30  dx_30  \\\n",
       "0  493729600.0  0.0   0.0  6.526812  6.494995   100.0  66.666667  100.0   \n",
       "1    5277400.0  0.0   0.0  6.526812  6.494995   100.0  66.666667  100.0   \n",
       "2    6894300.0  0.0   0.0  6.526812  6.494995   100.0  66.666667  100.0   \n",
       "3    6186700.0  0.0   0.0  6.526812  6.494995   100.0  66.666667  100.0   \n",
       "4    7325600.0  0.0   0.0  6.526812  6.494995   100.0  66.666667  100.0   \n",
       "5    7906000.0  0.0   0.0  6.526812  6.494995   100.0  66.666667  100.0   \n",
       "6   59853700.0  0.0   0.0  6.526812  6.494995   100.0  66.666667  100.0   \n",
       "7   10173800.0  0.0   0.0  6.526812  6.494995   100.0  66.666667  100.0   \n",
       "8   13700400.0  0.0   0.0  6.526812  6.494995   100.0  66.666667  100.0   \n",
       "9    9135000.0  0.0   0.0  6.526812  6.494995   100.0  66.666667  100.0   \n",
       "\n",
       "   close_30_sma  close_60_sma        vix  turbulence  \n",
       "0      6.505279      6.505279  20.040001         0.0  \n",
       "1     42.888950     42.888950  20.040001         0.0  \n",
       "2     33.675964     33.675964  20.040001         0.0  \n",
       "3     43.777550     43.777550  20.040001         0.0  \n",
       "4     41.156914     41.156914  20.040001         0.0  \n",
       "5     18.705000     18.705000  20.040001         0.0  \n",
       "6     17.394135     17.394135  20.040001         0.0  \n",
       "7     46.851883     46.851883  20.040001         0.0  \n",
       "8     27.933920     27.933920  20.040001         0.0  \n",
       "9    139.862839    139.862839  20.040001         0.0  "
      ]
     },
     "execution_count": 12,
     "metadata": {},
     "output_type": "execute_result"
    }
   ],
   "source": [
    "processed_full.sort_values(['date','tic'],ignore_index=True).head(10)"
   ]
  },
  {
   "cell_type": "code",
   "execution_count": 13,
   "metadata": {
    "id": "5vdORQ384Qx-"
   },
   "outputs": [],
   "source": [
    "mvo_df = processed_full.sort_values(['date','tic'],ignore_index=True)[['date','tic','close']]"
   ]
  },
  {
   "cell_type": "markdown",
   "metadata": {
    "id": "-QsYaY0Dh1iw"
   },
   "source": [
    "<a id='4'></a>\n",
    "# Part 5. Build A Market Environment in OpenAI Gym-style\n",
    "The training process involves observing stock price change, taking an action and reward's calculation. By interacting with the market environment, the agent will eventually derive a trading strategy that may maximize (expected) rewards.\n",
    "\n",
    "Our market environment, based on OpenAI Gym, simulates stock markets with historical market data."
   ]
  },
  {
   "cell_type": "markdown",
   "metadata": {
    "id": "5TOhcryx44bb"
   },
   "source": [
    "## Data Split\n",
    "We split the data into training set and testing set as follows:\n",
    "\n",
    "Training data period: 2009-01-01 to 2020-07-01\n",
    "\n",
    "Trading data period: 2020-07-01 to 2021-10-31\n"
   ]
  },
  {
   "cell_type": "code",
   "execution_count": 14,
   "metadata": {
    "colab": {
     "base_uri": "https://localhost:8080/"
    },
    "id": "W0qaVGjLtgbI",
    "outputId": "5e364280-c418-470f-e25c-f03f56adbda7"
   },
   "outputs": [
    {
     "name": "stdout",
     "output_type": "stream",
     "text": [
      "85753\n",
      "10237\n"
     ]
    }
   ],
   "source": [
    "train = data_split(processed_full, TRAIN_START_DATE,TRAIN_END_DATE)\n",
    "trade = data_split(processed_full, TRADE_START_DATE,TRADE_END_DATE)\n",
    "print(len(train))\n",
    "print(len(trade))"
   ]
  },
  {
   "cell_type": "code",
   "execution_count": 15,
   "metadata": {
    "colab": {
     "base_uri": "https://localhost:8080/",
     "height": 444
    },
    "id": "p52zNCOhTtLR",
    "outputId": "e205ad4d-49ad-472b-8b60-0dc14a629113"
   },
   "outputs": [
    {
     "data": {
      "text/html": [
       "<div>\n",
       "<style scoped>\n",
       "    .dataframe tbody tr th:only-of-type {\n",
       "        vertical-align: middle;\n",
       "    }\n",
       "\n",
       "    .dataframe tbody tr th {\n",
       "        vertical-align: top;\n",
       "    }\n",
       "\n",
       "    .dataframe thead th {\n",
       "        text-align: right;\n",
       "    }\n",
       "</style>\n",
       "<table border=\"1\" class=\"dataframe\">\n",
       "  <thead>\n",
       "    <tr style=\"text-align: right;\">\n",
       "      <th></th>\n",
       "      <th>date</th>\n",
       "      <th>tic</th>\n",
       "      <th>open</th>\n",
       "      <th>high</th>\n",
       "      <th>low</th>\n",
       "      <th>close</th>\n",
       "      <th>volume</th>\n",
       "      <th>day</th>\n",
       "      <th>macd</th>\n",
       "      <th>boll_ub</th>\n",
       "      <th>boll_lb</th>\n",
       "      <th>rsi_30</th>\n",
       "      <th>cci_30</th>\n",
       "      <th>dx_30</th>\n",
       "      <th>close_30_sma</th>\n",
       "      <th>close_60_sma</th>\n",
       "      <th>vix</th>\n",
       "      <th>turbulence</th>\n",
       "    </tr>\n",
       "  </thead>\n",
       "  <tbody>\n",
       "    <tr>\n",
       "      <th>2956</th>\n",
       "      <td>2021-09-30</td>\n",
       "      <td>UNH</td>\n",
       "      <td>401.489990</td>\n",
       "      <td>403.489990</td>\n",
       "      <td>390.459991</td>\n",
       "      <td>383.180176</td>\n",
       "      <td>3779900.0</td>\n",
       "      <td>3.0</td>\n",
       "      <td>-4.349258</td>\n",
       "      <td>419.212252</td>\n",
       "      <td>386.863771</td>\n",
       "      <td>40.895397</td>\n",
       "      <td>-222.938219</td>\n",
       "      <td>41.980385</td>\n",
       "      <td>405.947461</td>\n",
       "      <td>405.438421</td>\n",
       "      <td>23.139999</td>\n",
       "      <td>24.872007</td>\n",
       "    </tr>\n",
       "    <tr>\n",
       "      <th>2956</th>\n",
       "      <td>2021-09-30</td>\n",
       "      <td>V</td>\n",
       "      <td>227.580002</td>\n",
       "      <td>228.789993</td>\n",
       "      <td>222.630005</td>\n",
       "      <td>220.257782</td>\n",
       "      <td>7128500.0</td>\n",
       "      <td>3.0</td>\n",
       "      <td>-1.538725</td>\n",
       "      <td>228.639280</td>\n",
       "      <td>216.529603</td>\n",
       "      <td>44.079005</td>\n",
       "      <td>-54.614484</td>\n",
       "      <td>19.569853</td>\n",
       "      <td>224.777295</td>\n",
       "      <td>231.479431</td>\n",
       "      <td>23.139999</td>\n",
       "      <td>24.872007</td>\n",
       "    </tr>\n",
       "    <tr>\n",
       "      <th>2956</th>\n",
       "      <td>2021-09-30</td>\n",
       "      <td>VZ</td>\n",
       "      <td>54.500000</td>\n",
       "      <td>54.509998</td>\n",
       "      <td>54.000000</td>\n",
       "      <td>49.822674</td>\n",
       "      <td>18736600.0</td>\n",
       "      <td>3.0</td>\n",
       "      <td>-0.237534</td>\n",
       "      <td>50.960817</td>\n",
       "      <td>49.550736</td>\n",
       "      <td>41.824885</td>\n",
       "      <td>-102.899406</td>\n",
       "      <td>21.682953</td>\n",
       "      <td>50.425972</td>\n",
       "      <td>50.960237</td>\n",
       "      <td>23.139999</td>\n",
       "      <td>24.872007</td>\n",
       "    </tr>\n",
       "    <tr>\n",
       "      <th>2956</th>\n",
       "      <td>2021-09-30</td>\n",
       "      <td>WBA</td>\n",
       "      <td>48.790001</td>\n",
       "      <td>48.930000</td>\n",
       "      <td>46.919998</td>\n",
       "      <td>43.957287</td>\n",
       "      <td>6449400.0</td>\n",
       "      <td>3.0</td>\n",
       "      <td>-0.253539</td>\n",
       "      <td>48.531810</td>\n",
       "      <td>43.597246</td>\n",
       "      <td>44.613722</td>\n",
       "      <td>-107.390132</td>\n",
       "      <td>0.941150</td>\n",
       "      <td>45.886550</td>\n",
       "      <td>44.857786</td>\n",
       "      <td>23.139999</td>\n",
       "      <td>24.872007</td>\n",
       "    </tr>\n",
       "    <tr>\n",
       "      <th>2956</th>\n",
       "      <td>2021-09-30</td>\n",
       "      <td>WMT</td>\n",
       "      <td>140.639999</td>\n",
       "      <td>141.729996</td>\n",
       "      <td>139.250000</td>\n",
       "      <td>136.114777</td>\n",
       "      <td>7485900.0</td>\n",
       "      <td>3.0</td>\n",
       "      <td>-1.554834</td>\n",
       "      <td>146.155108</td>\n",
       "      <td>135.633132</td>\n",
       "      <td>40.165811</td>\n",
       "      <td>-151.542599</td>\n",
       "      <td>45.466733</td>\n",
       "      <td>142.345308</td>\n",
       "      <td>141.246724</td>\n",
       "      <td>23.139999</td>\n",
       "      <td>24.872007</td>\n",
       "    </tr>\n",
       "  </tbody>\n",
       "</table>\n",
       "</div>"
      ],
      "text/plain": [
       "            date  tic        open        high         low       close  \\\n",
       "2956  2021-09-30  UNH  401.489990  403.489990  390.459991  383.180176   \n",
       "2956  2021-09-30    V  227.580002  228.789993  222.630005  220.257782   \n",
       "2956  2021-09-30   VZ   54.500000   54.509998   54.000000   49.822674   \n",
       "2956  2021-09-30  WBA   48.790001   48.930000   46.919998   43.957287   \n",
       "2956  2021-09-30  WMT  140.639999  141.729996  139.250000  136.114777   \n",
       "\n",
       "          volume  day      macd     boll_ub     boll_lb     rsi_30  \\\n",
       "2956   3779900.0  3.0 -4.349258  419.212252  386.863771  40.895397   \n",
       "2956   7128500.0  3.0 -1.538725  228.639280  216.529603  44.079005   \n",
       "2956  18736600.0  3.0 -0.237534   50.960817   49.550736  41.824885   \n",
       "2956   6449400.0  3.0 -0.253539   48.531810   43.597246  44.613722   \n",
       "2956   7485900.0  3.0 -1.554834  146.155108  135.633132  40.165811   \n",
       "\n",
       "          cci_30      dx_30  close_30_sma  close_60_sma        vix  turbulence  \n",
       "2956 -222.938219  41.980385    405.947461    405.438421  23.139999   24.872007  \n",
       "2956  -54.614484  19.569853    224.777295    231.479431  23.139999   24.872007  \n",
       "2956 -102.899406  21.682953     50.425972     50.960237  23.139999   24.872007  \n",
       "2956 -107.390132   0.941150     45.886550     44.857786  23.139999   24.872007  \n",
       "2956 -151.542599  45.466733    142.345308    141.246724  23.139999   24.872007  "
      ]
     },
     "execution_count": 15,
     "metadata": {},
     "output_type": "execute_result"
    }
   ],
   "source": [
    "train.tail()"
   ]
  },
  {
   "cell_type": "code",
   "execution_count": 16,
   "metadata": {
    "colab": {
     "base_uri": "https://localhost:8080/",
     "height": 357
    },
    "id": "k9zU9YaTTvFq",
    "outputId": "b23fd388-7411-4c78-8ebf-eb33df9b40a4"
   },
   "outputs": [
    {
     "data": {
      "text/html": [
       "<div>\n",
       "<style scoped>\n",
       "    .dataframe tbody tr th:only-of-type {\n",
       "        vertical-align: middle;\n",
       "    }\n",
       "\n",
       "    .dataframe tbody tr th {\n",
       "        vertical-align: top;\n",
       "    }\n",
       "\n",
       "    .dataframe thead th {\n",
       "        text-align: right;\n",
       "    }\n",
       "</style>\n",
       "<table border=\"1\" class=\"dataframe\">\n",
       "  <thead>\n",
       "    <tr style=\"text-align: right;\">\n",
       "      <th></th>\n",
       "      <th>date</th>\n",
       "      <th>tic</th>\n",
       "      <th>open</th>\n",
       "      <th>high</th>\n",
       "      <th>low</th>\n",
       "      <th>close</th>\n",
       "      <th>volume</th>\n",
       "      <th>day</th>\n",
       "      <th>macd</th>\n",
       "      <th>boll_ub</th>\n",
       "      <th>boll_lb</th>\n",
       "      <th>rsi_30</th>\n",
       "      <th>cci_30</th>\n",
       "      <th>dx_30</th>\n",
       "      <th>close_30_sma</th>\n",
       "      <th>close_60_sma</th>\n",
       "      <th>vix</th>\n",
       "      <th>turbulence</th>\n",
       "    </tr>\n",
       "  </thead>\n",
       "  <tbody>\n",
       "    <tr>\n",
       "      <th>0</th>\n",
       "      <td>2021-10-01</td>\n",
       "      <td>AAPL</td>\n",
       "      <td>141.899994</td>\n",
       "      <td>142.919998</td>\n",
       "      <td>139.110001</td>\n",
       "      <td>141.404266</td>\n",
       "      <td>94639600.0</td>\n",
       "      <td>4.0</td>\n",
       "      <td>-1.703490</td>\n",
       "      <td>155.382851</td>\n",
       "      <td>137.132182</td>\n",
       "      <td>46.927738</td>\n",
       "      <td>-142.190128</td>\n",
       "      <td>41.749873</td>\n",
       "      <td>147.171798</td>\n",
       "      <td>146.269418</td>\n",
       "      <td>21.1</td>\n",
       "      <td>120.12375</td>\n",
       "    </tr>\n",
       "    <tr>\n",
       "      <th>0</th>\n",
       "      <td>2021-10-01</td>\n",
       "      <td>AMGN</td>\n",
       "      <td>213.589996</td>\n",
       "      <td>214.610001</td>\n",
       "      <td>210.800003</td>\n",
       "      <td>203.845871</td>\n",
       "      <td>2629400.0</td>\n",
       "      <td>4.0</td>\n",
       "      <td>-3.097330</td>\n",
       "      <td>212.767991</td>\n",
       "      <td>199.379584</td>\n",
       "      <td>40.408540</td>\n",
       "      <td>-96.757004</td>\n",
       "      <td>36.189244</td>\n",
       "      <td>208.480833</td>\n",
       "      <td>217.103341</td>\n",
       "      <td>21.1</td>\n",
       "      <td>120.12375</td>\n",
       "    </tr>\n",
       "    <tr>\n",
       "      <th>0</th>\n",
       "      <td>2021-10-01</td>\n",
       "      <td>AXP</td>\n",
       "      <td>168.500000</td>\n",
       "      <td>175.119995</td>\n",
       "      <td>168.479996</td>\n",
       "      <td>170.695389</td>\n",
       "      <td>3956000.0</td>\n",
       "      <td>4.0</td>\n",
       "      <td>2.281748</td>\n",
       "      <td>174.864266</td>\n",
       "      <td>149.785748</td>\n",
       "      <td>56.265100</td>\n",
       "      <td>117.565546</td>\n",
       "      <td>15.667511</td>\n",
       "      <td>161.812906</td>\n",
       "      <td>164.064442</td>\n",
       "      <td>21.1</td>\n",
       "      <td>120.12375</td>\n",
       "    </tr>\n",
       "    <tr>\n",
       "      <th>0</th>\n",
       "      <td>2021-10-01</td>\n",
       "      <td>BA</td>\n",
       "      <td>222.850006</td>\n",
       "      <td>226.720001</td>\n",
       "      <td>220.600006</td>\n",
       "      <td>226.000000</td>\n",
       "      <td>9113600.0</td>\n",
       "      <td>4.0</td>\n",
       "      <td>0.730320</td>\n",
       "      <td>226.909442</td>\n",
       "      <td>205.727561</td>\n",
       "      <td>51.614047</td>\n",
       "      <td>116.649440</td>\n",
       "      <td>2.027170</td>\n",
       "      <td>217.175334</td>\n",
       "      <td>221.968500</td>\n",
       "      <td>21.1</td>\n",
       "      <td>120.12375</td>\n",
       "    </tr>\n",
       "    <tr>\n",
       "      <th>0</th>\n",
       "      <td>2021-10-01</td>\n",
       "      <td>CAT</td>\n",
       "      <td>192.899994</td>\n",
       "      <td>195.869995</td>\n",
       "      <td>191.240005</td>\n",
       "      <td>187.928055</td>\n",
       "      <td>3695500.0</td>\n",
       "      <td>4.0</td>\n",
       "      <td>-3.640321</td>\n",
       "      <td>205.735911</td>\n",
       "      <td>181.432787</td>\n",
       "      <td>41.999456</td>\n",
       "      <td>-112.087712</td>\n",
       "      <td>36.203176</td>\n",
       "      <td>196.993865</td>\n",
       "      <td>200.522105</td>\n",
       "      <td>21.1</td>\n",
       "      <td>120.12375</td>\n",
       "    </tr>\n",
       "  </tbody>\n",
       "</table>\n",
       "</div>"
      ],
      "text/plain": [
       "         date   tic        open        high         low       close  \\\n",
       "0  2021-10-01  AAPL  141.899994  142.919998  139.110001  141.404266   \n",
       "0  2021-10-01  AMGN  213.589996  214.610001  210.800003  203.845871   \n",
       "0  2021-10-01   AXP  168.500000  175.119995  168.479996  170.695389   \n",
       "0  2021-10-01    BA  222.850006  226.720001  220.600006  226.000000   \n",
       "0  2021-10-01   CAT  192.899994  195.869995  191.240005  187.928055   \n",
       "\n",
       "       volume  day      macd     boll_ub     boll_lb     rsi_30      cci_30  \\\n",
       "0  94639600.0  4.0 -1.703490  155.382851  137.132182  46.927738 -142.190128   \n",
       "0   2629400.0  4.0 -3.097330  212.767991  199.379584  40.408540  -96.757004   \n",
       "0   3956000.0  4.0  2.281748  174.864266  149.785748  56.265100  117.565546   \n",
       "0   9113600.0  4.0  0.730320  226.909442  205.727561  51.614047  116.649440   \n",
       "0   3695500.0  4.0 -3.640321  205.735911  181.432787  41.999456 -112.087712   \n",
       "\n",
       "       dx_30  close_30_sma  close_60_sma   vix  turbulence  \n",
       "0  41.749873    147.171798    146.269418  21.1   120.12375  \n",
       "0  36.189244    208.480833    217.103341  21.1   120.12375  \n",
       "0  15.667511    161.812906    164.064442  21.1   120.12375  \n",
       "0   2.027170    217.175334    221.968500  21.1   120.12375  \n",
       "0  36.203176    196.993865    200.522105  21.1   120.12375  "
      ]
     },
     "execution_count": 16,
     "metadata": {},
     "output_type": "execute_result"
    }
   ],
   "source": [
    "trade.head()"
   ]
  },
  {
   "cell_type": "code",
   "execution_count": 17,
   "metadata": {
    "colab": {
     "base_uri": "https://localhost:8080/"
    },
    "id": "zYN573SOHhxG",
    "outputId": "a9353918-3ff6-4179-e645-1e6c664b4506"
   },
   "outputs": [
    {
     "data": {
      "text/plain": [
       "['macd',\n",
       " 'boll_ub',\n",
       " 'boll_lb',\n",
       " 'rsi_30',\n",
       " 'cci_30',\n",
       " 'dx_30',\n",
       " 'close_30_sma',\n",
       " 'close_60_sma']"
      ]
     },
     "execution_count": 17,
     "metadata": {},
     "output_type": "execute_result"
    }
   ],
   "source": [
    "INDICATORS"
   ]
  },
  {
   "cell_type": "code",
   "execution_count": 18,
   "metadata": {
    "colab": {
     "base_uri": "https://localhost:8080/"
    },
    "id": "Q2zqII8rMIqn",
    "outputId": "687c0ea8-d3d9-460a-d104-d088db843e5b"
   },
   "outputs": [
    {
     "name": "stdout",
     "output_type": "stream",
     "text": [
      "Stock Dimension: 29, State Space: 291\n"
     ]
    }
   ],
   "source": [
    "stock_dimension = len(train.tic.unique())\n",
    "state_space = 1 + 2*stock_dimension + len(INDICATORS)*stock_dimension\n",
    "print(f\"Stock Dimension: {stock_dimension}, State Space: {state_space}\")"
   ]
  },
  {
   "cell_type": "code",
   "execution_count": 19,
   "metadata": {
    "id": "AWyp84Ltto19"
   },
   "outputs": [],
   "source": [
    "buy_cost_list = sell_cost_list = [0.001] * stock_dimension\n",
    "num_stock_shares = [0] * stock_dimension\n",
    "\n",
    "env_kwargs = {\n",
    "    \"hmax\": 100,\n",
    "    \"initial_amount\": 1000000,\n",
    "    \"num_stock_shares\": num_stock_shares,\n",
    "    \"buy_cost_pct\": buy_cost_list,\n",
    "    \"sell_cost_pct\": sell_cost_list,\n",
    "    \"state_space\": state_space,\n",
    "    \"stock_dim\": stock_dimension,\n",
    "    \"tech_indicator_list\": INDICATORS,\n",
    "    \"action_space\": stock_dimension,\n",
    "    \"reward_scaling\": 1e-4\n",
    "}\n",
    "\n",
    "\n",
    "e_train_gym = StockTradingEnv(df = train, **env_kwargs)"
   ]
  },
  {
   "cell_type": "markdown",
   "metadata": {
    "id": "64EoqOrQjiVf"
   },
   "source": [
    "## Environment for Training\n",
    "\n"
   ]
  },
  {
   "cell_type": "code",
   "execution_count": 20,
   "metadata": {
    "colab": {
     "base_uri": "https://localhost:8080/"
    },
    "id": "xwSvvPjutpqS",
    "outputId": "ad3318cc-a3c6-41ee-cdeb-a4eb317e33bf"
   },
   "outputs": [
    {
     "name": "stdout",
     "output_type": "stream",
     "text": [
      "<class 'stable_baselines3.common.vec_env.dummy_vec_env.DummyVecEnv'>\n"
     ]
    }
   ],
   "source": [
    "env_train, _ = e_train_gym.get_sb_env()\n",
    "print(type(env_train))"
   ]
  },
  {
   "cell_type": "markdown",
   "metadata": {
    "id": "HMNR5nHjh1iz"
   },
   "source": [
    "<a id='5'></a>\n",
    "# Part 6: Train DRL Agents\n",
    "* The DRL algorithms are from **Stable Baselines 3**. Users are also encouraged to try **ElegantRL** and **Ray RLlib**.\n",
    "* FinRL includes fine-tuned standard DRL algorithms, such as DQN, DDPG, Multi-Agent DDPG, PPO, SAC, A2C and TD3. We also allow users to\n",
    "design their own DRL algorithms by adapting these DRL algorithms."
   ]
  },
  {
   "cell_type": "code",
   "execution_count": 21,
   "metadata": {
    "id": "364PsqckttcQ"
   },
   "outputs": [],
   "source": [
    "agent = DRLAgent(env = env_train)\n",
    "\n",
    "if_using_a2c = True\n",
    "if_using_ddpg = True\n",
    "if_using_ppo = True\n",
    "if_using_td3 = True\n",
    "if_using_sac = True\n"
   ]
  },
  {
   "cell_type": "markdown",
   "metadata": {
    "id": "YDmqOyF9h1iz"
   },
   "source": [
    "### Agent Training: 5 algorithms (A2C, DDPG, PPO, TD3, SAC)\n"
   ]
  },
  {
   "cell_type": "markdown",
   "metadata": {
    "id": "uijiWgkuh1jB"
   },
   "source": [
    "### Agent 1: A2C\n"
   ]
  },
  {
   "cell_type": "code",
   "execution_count": 22,
   "metadata": {
    "colab": {
     "base_uri": "https://localhost:8080/"
    },
    "id": "GUCnkn-HIbmj",
    "outputId": "6da723f6-2f9b-4d76-8872-328ef56dadfc"
   },
   "outputs": [
    {
     "name": "stdout",
     "output_type": "stream",
     "text": [
      "{'n_steps': 5, 'ent_coef': 0.01, 'learning_rate': 0.0007}\n",
      "Using cpu device\n",
      "Logging to results/a2c\n"
     ]
    }
   ],
   "source": [
    "agent = DRLAgent(env = env_train)\n",
    "model_a2c = agent.get_model(\"a2c\")\n",
    "\n",
    "if if_using_a2c:\n",
    "  # set up logger\n",
    "  tmp_path = RESULTS_DIR + '/a2c'\n",
    "  new_logger_a2c = configure(tmp_path, [\"stdout\", \"csv\", \"tensorboard\"])\n",
    "  # Set new logger\n",
    "  model_a2c.set_logger(new_logger_a2c)\n"
   ]
  },
  {
   "cell_type": "code",
   "execution_count": 23,
   "metadata": {
    "colab": {
     "base_uri": "https://localhost:8080/"
    },
    "id": "0GVpkWGqH4-D",
    "outputId": "a919c17f-f561-45fa-8b55-3c996811a63e"
   },
   "outputs": [],
   "source": [
    "trained_a2c = agent.train_model(model=model_a2c, \n",
    "                             tb_log_name='a2c',\n",
    "                             total_timesteps=100) if if_using_a2c else None"
   ]
  },
  {
   "cell_type": "markdown",
   "metadata": {
    "id": "MRiOtrywfAo1"
   },
   "source": [
    "### Agent 2: DDPG"
   ]
  },
  {
   "cell_type": "code",
   "execution_count": 24,
   "metadata": {
    "colab": {
     "base_uri": "https://localhost:8080/"
    },
    "id": "M2YadjfnLwgt",
    "outputId": "883736bb-5b14-4306-816f-b7596b90275d"
   },
   "outputs": [
    {
     "name": "stdout",
     "output_type": "stream",
     "text": [
      "{'batch_size': 128, 'buffer_size': 50000, 'learning_rate': 0.001}\n",
      "Using cpu device\n",
      "Logging to results/ddpg\n"
     ]
    }
   ],
   "source": [
    "agent = DRLAgent(env = env_train)\n",
    "model_ddpg = agent.get_model(\"ddpg\")\n",
    "\n",
    "if if_using_ddpg:\n",
    "  # set up logger\n",
    "  tmp_path = RESULTS_DIR + '/ddpg'\n",
    "  new_logger_ddpg = configure(tmp_path, [\"stdout\", \"csv\", \"tensorboard\"])\n",
    "  # Set new logger\n",
    "  model_ddpg.set_logger(new_logger_ddpg)"
   ]
  },
  {
   "cell_type": "code",
   "execution_count": 25,
   "metadata": {
    "colab": {
     "base_uri": "https://localhost:8080/"
    },
    "id": "tCDa78rqfO_a",
    "outputId": "c9962d70-9180-4377-daa7-0ae7363b8091"
   },
   "outputs": [],
   "source": [
    "trained_ddpg = agent.train_model(model=model_ddpg, \n",
    "                             tb_log_name='ddpg',\n",
    "                             total_timesteps=100) if if_using_ddpg else None"
   ]
  },
  {
   "cell_type": "markdown",
   "metadata": {
    "id": "_gDkU-j-fCmZ"
   },
   "source": [
    "### Agent 3: PPO"
   ]
  },
  {
   "cell_type": "code",
   "execution_count": 26,
   "metadata": {
    "colab": {
     "base_uri": "https://localhost:8080/"
    },
    "id": "y5D5PFUhMzSV",
    "outputId": "01b7bbbb-7dce-4370-fe61-9098d4e5e978"
   },
   "outputs": [
    {
     "name": "stdout",
     "output_type": "stream",
     "text": [
      "{'n_steps': 2048, 'ent_coef': 0.01, 'learning_rate': 0.00025, 'batch_size': 128}\n",
      "Using cpu device\n",
      "Logging to results/ppo\n"
     ]
    }
   ],
   "source": [
    "agent = DRLAgent(env = env_train)\n",
    "PPO_PARAMS = {\n",
    "    \"n_steps\": 2048,\n",
    "    \"ent_coef\": 0.01,\n",
    "    \"learning_rate\": 0.00025,\n",
    "    \"batch_size\": 128,\n",
    "}\n",
    "model_ppo = agent.get_model(\"ppo\",model_kwargs = PPO_PARAMS)\n",
    "\n",
    "if if_using_ppo:\n",
    "  # set up logger\n",
    "  tmp_path = RESULTS_DIR + '/ppo'\n",
    "  new_logger_ppo = configure(tmp_path, [\"stdout\", \"csv\", \"tensorboard\"])\n",
    "  # Set new logger\n",
    "  model_ppo.set_logger(new_logger_ppo)"
   ]
  },
  {
   "cell_type": "code",
   "execution_count": 27,
   "metadata": {
    "colab": {
     "base_uri": "https://localhost:8080/"
    },
    "id": "Gt8eIQKYM4G3",
    "outputId": "54235862-b58b-4bd0-db25-1c62931703e0"
   },
   "outputs": [
    {
     "name": "stdout",
     "output_type": "stream",
     "text": [
      "-----------------------------------\n",
      "| time/              |            |\n",
      "|    fps             | 43         |\n",
      "|    iterations      | 1          |\n",
      "|    time_elapsed    | 47         |\n",
      "|    total_timesteps | 2048       |\n",
      "| train/             |            |\n",
      "|    reward          | 0.55591977 |\n",
      "-----------------------------------\n"
     ]
    }
   ],
   "source": [
    "trained_ppo = agent.train_model(model=model_ppo, \n",
    "                             tb_log_name='ppo',\n",
    "                             total_timesteps=100) if if_using_ppo else None"
   ]
  },
  {
   "cell_type": "markdown",
   "metadata": {
    "id": "3Zpv4S0-fDBv"
   },
   "source": [
    "### Agent 4: TD3"
   ]
  },
  {
   "cell_type": "code",
   "execution_count": 28,
   "metadata": {
    "colab": {
     "base_uri": "https://localhost:8080/"
    },
    "id": "JSAHhV4Xc-bh",
    "outputId": "b0762c2c-09b6-4351-876a-59cd08be4707"
   },
   "outputs": [
    {
     "name": "stdout",
     "output_type": "stream",
     "text": [
      "{'batch_size': 100, 'buffer_size': 1000000, 'learning_rate': 0.001}\n",
      "Using cpu device\n",
      "Logging to results/td3\n"
     ]
    }
   ],
   "source": [
    "agent = DRLAgent(env = env_train)\n",
    "TD3_PARAMS = {\"batch_size\": 100, \n",
    "              \"buffer_size\": 1000000, \n",
    "              \"learning_rate\": 0.001}\n",
    "\n",
    "model_td3 = agent.get_model(\"td3\",model_kwargs = TD3_PARAMS)\n",
    "\n",
    "if if_using_td3:\n",
    "  # set up logger\n",
    "  tmp_path = RESULTS_DIR + '/td3'\n",
    "  new_logger_td3 = configure(tmp_path, [\"stdout\", \"csv\", \"tensorboard\"])\n",
    "  # Set new logger\n",
    "  model_td3.set_logger(new_logger_td3)"
   ]
  },
  {
   "cell_type": "code",
   "execution_count": 29,
   "metadata": {
    "colab": {
     "base_uri": "https://localhost:8080/"
    },
    "id": "OSRxNYAxdKpU",
    "outputId": "31b518ef-3966-413c-89f9-d83a037e55b4"
   },
   "outputs": [],
   "source": [
    "trained_td3 = agent.train_model(model=model_td3, \n",
    "                             tb_log_name='td3',\n",
    "                             total_timesteps=100) if if_using_td3 else None"
   ]
  },
  {
   "cell_type": "markdown",
   "metadata": {
    "id": "Dr49PotrfG01"
   },
   "source": [
    "### Agent 5: SAC"
   ]
  },
  {
   "cell_type": "code",
   "execution_count": 30,
   "metadata": {
    "colab": {
     "base_uri": "https://localhost:8080/"
    },
    "id": "xwOhVjqRkCdM",
    "outputId": "a5ebf4e2-34ca-4bf5-8980-08d37a0659e0"
   },
   "outputs": [
    {
     "name": "stdout",
     "output_type": "stream",
     "text": [
      "{'batch_size': 128, 'buffer_size': 100000, 'learning_rate': 0.0001, 'learning_starts': 100, 'ent_coef': 'auto_0.1'}\n",
      "Using cpu device\n",
      "Logging to results/sac\n"
     ]
    }
   ],
   "source": [
    "agent = DRLAgent(env = env_train)\n",
    "SAC_PARAMS = {\n",
    "    \"batch_size\": 128,\n",
    "    \"buffer_size\": 100000,\n",
    "    \"learning_rate\": 0.0001,\n",
    "    \"learning_starts\": 100,\n",
    "    \"ent_coef\": \"auto_0.1\",\n",
    "}\n",
    "\n",
    "model_sac = agent.get_model(\"sac\",model_kwargs = SAC_PARAMS)\n",
    "\n",
    "if if_using_sac:\n",
    "  # set up logger\n",
    "  tmp_path = RESULTS_DIR + '/sac'\n",
    "  new_logger_sac = configure(tmp_path, [\"stdout\", \"csv\", \"tensorboard\"])\n",
    "  # Set new logger\n",
    "  model_sac.set_logger(new_logger_sac)"
   ]
  },
  {
   "cell_type": "code",
   "execution_count": 31,
   "metadata": {
    "colab": {
     "base_uri": "https://localhost:8080/"
    },
    "id": "K8RSdKCckJyH",
    "outputId": "7f1e46f5-7124-4b6d-8fe7-f8071760cfe5"
   },
   "outputs": [],
   "source": [
    "trained_sac = agent.train_model(model=model_sac, \n",
    "                             tb_log_name='sac',\n",
    "                             total_timesteps=100) if if_using_sac else None"
   ]
  },
  {
   "cell_type": "markdown",
   "metadata": {
    "id": "f2wZgkQXh1jE"
   },
   "source": [
    "## In-sample Performance\n",
    "\n",
    "Assume that the initial capital is $1,000,000."
   ]
  },
  {
   "cell_type": "markdown",
   "metadata": {
    "id": "bEv5KGC8h1jE"
   },
   "source": [
    "### Set turbulence threshold\n",
    "Set the turbulence threshold to be greater than the maximum of insample turbulence data. If current turbulence index is greater than the threshold, then we assume that the current market is volatile"
   ]
  },
  {
   "cell_type": "code",
   "execution_count": 32,
   "metadata": {
    "id": "efwBi84ch1jE"
   },
   "outputs": [],
   "source": [
    "data_risk_indicator = processed_full[(processed_full.date<TRAIN_END_DATE) & (processed_full.date>=TRAIN_START_DATE)]\n",
    "insample_risk_indicator = data_risk_indicator.drop_duplicates(subset=['date'])"
   ]
  },
  {
   "cell_type": "code",
   "execution_count": 33,
   "metadata": {
    "colab": {
     "base_uri": "https://localhost:8080/"
    },
    "id": "VHZMBpSqh1jG",
    "outputId": "ffa57923-17e2-436e-c970-fcc52112a098"
   },
   "outputs": [
    {
     "data": {
      "text/plain": [
       "count    2957.000000\n",
       "mean       18.105293\n",
       "std         7.272476\n",
       "min         9.140000\n",
       "25%        13.370000\n",
       "50%        16.209999\n",
       "75%        20.629999\n",
       "max        82.690002\n",
       "Name: vix, dtype: float64"
      ]
     },
     "execution_count": 33,
     "metadata": {},
     "output_type": "execute_result"
    }
   ],
   "source": [
    "insample_risk_indicator.vix.describe()"
   ]
  },
  {
   "cell_type": "code",
   "execution_count": 34,
   "metadata": {
    "colab": {
     "base_uri": "https://localhost:8080/"
    },
    "id": "BDkszkMloRWT",
    "outputId": "7c539b2c-6223-4d00-d571-7af992f976bf"
   },
   "outputs": [
    {
     "data": {
      "text/plain": [
       "57.212001831054636"
      ]
     },
     "execution_count": 34,
     "metadata": {},
     "output_type": "execute_result"
    }
   ],
   "source": [
    "insample_risk_indicator.vix.quantile(0.996)"
   ]
  },
  {
   "cell_type": "code",
   "execution_count": 35,
   "metadata": {
    "colab": {
     "base_uri": "https://localhost:8080/"
    },
    "id": "AL7hs7svnNWT",
    "outputId": "6510973a-cfd3-4ff8-f482-287ac99de05c"
   },
   "outputs": [
    {
     "data": {
      "text/plain": [
       "count    2957.000000\n",
       "mean       34.139593\n",
       "std        43.879107\n",
       "min         0.000000\n",
       "25%        14.613594\n",
       "50%        23.644861\n",
       "75%        38.292499\n",
       "max       652.506128\n",
       "Name: turbulence, dtype: float64"
      ]
     },
     "execution_count": 35,
     "metadata": {},
     "output_type": "execute_result"
    }
   ],
   "source": [
    "insample_risk_indicator.turbulence.describe()"
   ]
  },
  {
   "cell_type": "code",
   "execution_count": 36,
   "metadata": {
    "colab": {
     "base_uri": "https://localhost:8080/"
    },
    "id": "N78hfHckoqJ9",
    "outputId": "7258129e-a14b-4327-cb7e-f7cfb73b3dd0"
   },
   "outputs": [
    {
     "data": {
      "text/plain": [
       "291.72511389691937"
      ]
     },
     "execution_count": 36,
     "metadata": {},
     "output_type": "execute_result"
    }
   ],
   "source": [
    "insample_risk_indicator.turbulence.quantile(0.996)"
   ]
  },
  {
   "cell_type": "markdown",
   "metadata": {
    "id": "U5mmgQF_h1jQ"
   },
   "source": [
    "### Trading (Out-of-sample Performance)\n",
    "\n",
    "We update periodically in order to take full advantage of the data, e.g., retrain quarterly, monthly or weekly. We also tune the parameters along the way, in this notebook we use the in-sample data from 2009-01 to 2020-07 to tune the parameters once, so there is some alpha decay here as the length of trade date extends. \n",
    "\n",
    "Numerous hyperparameters – e.g. the learning rate, the total number of samples to train on – influence the learning process and are usually determined by testing some variations."
   ]
  },
  {
   "cell_type": "code",
   "execution_count": 37,
   "metadata": {
    "id": "cIqoV0GSI52v"
   },
   "outputs": [],
   "source": [
    "e_trade_gym = StockTradingEnv(df = trade, turbulence_threshold = 70,risk_indicator_col='vix', **env_kwargs)\n",
    "# env_trade, obs_trade = e_trade_gym.get_sb_env()"
   ]
  },
  {
   "cell_type": "code",
   "execution_count": 38,
   "metadata": {
    "colab": {
     "base_uri": "https://localhost:8080/",
     "height": 357
    },
    "id": "W_XNgGsBMeVw",
    "outputId": "37dba890-811e-4c0c-fee9-f12f3f9eb100"
   },
   "outputs": [
    {
     "data": {
      "text/html": [
       "<div>\n",
       "<style scoped>\n",
       "    .dataframe tbody tr th:only-of-type {\n",
       "        vertical-align: middle;\n",
       "    }\n",
       "\n",
       "    .dataframe tbody tr th {\n",
       "        vertical-align: top;\n",
       "    }\n",
       "\n",
       "    .dataframe thead th {\n",
       "        text-align: right;\n",
       "    }\n",
       "</style>\n",
       "<table border=\"1\" class=\"dataframe\">\n",
       "  <thead>\n",
       "    <tr style=\"text-align: right;\">\n",
       "      <th></th>\n",
       "      <th>date</th>\n",
       "      <th>tic</th>\n",
       "      <th>open</th>\n",
       "      <th>high</th>\n",
       "      <th>low</th>\n",
       "      <th>close</th>\n",
       "      <th>volume</th>\n",
       "      <th>day</th>\n",
       "      <th>macd</th>\n",
       "      <th>boll_ub</th>\n",
       "      <th>boll_lb</th>\n",
       "      <th>rsi_30</th>\n",
       "      <th>cci_30</th>\n",
       "      <th>dx_30</th>\n",
       "      <th>close_30_sma</th>\n",
       "      <th>close_60_sma</th>\n",
       "      <th>vix</th>\n",
       "      <th>turbulence</th>\n",
       "    </tr>\n",
       "  </thead>\n",
       "  <tbody>\n",
       "    <tr>\n",
       "      <th>0</th>\n",
       "      <td>2021-10-01</td>\n",
       "      <td>AAPL</td>\n",
       "      <td>141.899994</td>\n",
       "      <td>142.919998</td>\n",
       "      <td>139.110001</td>\n",
       "      <td>141.404266</td>\n",
       "      <td>94639600.0</td>\n",
       "      <td>4.0</td>\n",
       "      <td>-1.703490</td>\n",
       "      <td>155.382851</td>\n",
       "      <td>137.132182</td>\n",
       "      <td>46.927738</td>\n",
       "      <td>-142.190128</td>\n",
       "      <td>41.749873</td>\n",
       "      <td>147.171798</td>\n",
       "      <td>146.269418</td>\n",
       "      <td>21.1</td>\n",
       "      <td>120.12375</td>\n",
       "    </tr>\n",
       "    <tr>\n",
       "      <th>0</th>\n",
       "      <td>2021-10-01</td>\n",
       "      <td>AMGN</td>\n",
       "      <td>213.589996</td>\n",
       "      <td>214.610001</td>\n",
       "      <td>210.800003</td>\n",
       "      <td>203.845871</td>\n",
       "      <td>2629400.0</td>\n",
       "      <td>4.0</td>\n",
       "      <td>-3.097330</td>\n",
       "      <td>212.767991</td>\n",
       "      <td>199.379584</td>\n",
       "      <td>40.408540</td>\n",
       "      <td>-96.757004</td>\n",
       "      <td>36.189244</td>\n",
       "      <td>208.480833</td>\n",
       "      <td>217.103341</td>\n",
       "      <td>21.1</td>\n",
       "      <td>120.12375</td>\n",
       "    </tr>\n",
       "    <tr>\n",
       "      <th>0</th>\n",
       "      <td>2021-10-01</td>\n",
       "      <td>AXP</td>\n",
       "      <td>168.500000</td>\n",
       "      <td>175.119995</td>\n",
       "      <td>168.479996</td>\n",
       "      <td>170.695389</td>\n",
       "      <td>3956000.0</td>\n",
       "      <td>4.0</td>\n",
       "      <td>2.281748</td>\n",
       "      <td>174.864266</td>\n",
       "      <td>149.785748</td>\n",
       "      <td>56.265100</td>\n",
       "      <td>117.565546</td>\n",
       "      <td>15.667511</td>\n",
       "      <td>161.812906</td>\n",
       "      <td>164.064442</td>\n",
       "      <td>21.1</td>\n",
       "      <td>120.12375</td>\n",
       "    </tr>\n",
       "    <tr>\n",
       "      <th>0</th>\n",
       "      <td>2021-10-01</td>\n",
       "      <td>BA</td>\n",
       "      <td>222.850006</td>\n",
       "      <td>226.720001</td>\n",
       "      <td>220.600006</td>\n",
       "      <td>226.000000</td>\n",
       "      <td>9113600.0</td>\n",
       "      <td>4.0</td>\n",
       "      <td>0.730320</td>\n",
       "      <td>226.909442</td>\n",
       "      <td>205.727561</td>\n",
       "      <td>51.614047</td>\n",
       "      <td>116.649440</td>\n",
       "      <td>2.027170</td>\n",
       "      <td>217.175334</td>\n",
       "      <td>221.968500</td>\n",
       "      <td>21.1</td>\n",
       "      <td>120.12375</td>\n",
       "    </tr>\n",
       "    <tr>\n",
       "      <th>0</th>\n",
       "      <td>2021-10-01</td>\n",
       "      <td>CAT</td>\n",
       "      <td>192.899994</td>\n",
       "      <td>195.869995</td>\n",
       "      <td>191.240005</td>\n",
       "      <td>187.928055</td>\n",
       "      <td>3695500.0</td>\n",
       "      <td>4.0</td>\n",
       "      <td>-3.640321</td>\n",
       "      <td>205.735911</td>\n",
       "      <td>181.432787</td>\n",
       "      <td>41.999456</td>\n",
       "      <td>-112.087712</td>\n",
       "      <td>36.203176</td>\n",
       "      <td>196.993865</td>\n",
       "      <td>200.522105</td>\n",
       "      <td>21.1</td>\n",
       "      <td>120.12375</td>\n",
       "    </tr>\n",
       "  </tbody>\n",
       "</table>\n",
       "</div>"
      ],
      "text/plain": [
       "         date   tic        open        high         low       close  \\\n",
       "0  2021-10-01  AAPL  141.899994  142.919998  139.110001  141.404266   \n",
       "0  2021-10-01  AMGN  213.589996  214.610001  210.800003  203.845871   \n",
       "0  2021-10-01   AXP  168.500000  175.119995  168.479996  170.695389   \n",
       "0  2021-10-01    BA  222.850006  226.720001  220.600006  226.000000   \n",
       "0  2021-10-01   CAT  192.899994  195.869995  191.240005  187.928055   \n",
       "\n",
       "       volume  day      macd     boll_ub     boll_lb     rsi_30      cci_30  \\\n",
       "0  94639600.0  4.0 -1.703490  155.382851  137.132182  46.927738 -142.190128   \n",
       "0   2629400.0  4.0 -3.097330  212.767991  199.379584  40.408540  -96.757004   \n",
       "0   3956000.0  4.0  2.281748  174.864266  149.785748  56.265100  117.565546   \n",
       "0   9113600.0  4.0  0.730320  226.909442  205.727561  51.614047  116.649440   \n",
       "0   3695500.0  4.0 -3.640321  205.735911  181.432787  41.999456 -112.087712   \n",
       "\n",
       "       dx_30  close_30_sma  close_60_sma   vix  turbulence  \n",
       "0  41.749873    147.171798    146.269418  21.1   120.12375  \n",
       "0  36.189244    208.480833    217.103341  21.1   120.12375  \n",
       "0  15.667511    161.812906    164.064442  21.1   120.12375  \n",
       "0   2.027170    217.175334    221.968500  21.1   120.12375  \n",
       "0  36.203176    196.993865    200.522105  21.1   120.12375  "
      ]
     },
     "execution_count": 38,
     "metadata": {},
     "output_type": "execute_result"
    }
   ],
   "source": [
    "trade.head()"
   ]
  },
  {
   "cell_type": "code",
   "execution_count": 39,
   "metadata": {
    "colab": {
     "base_uri": "https://localhost:8080/"
    },
    "id": "lbFchno5j3xs",
    "outputId": "7eb7fa24-50a8-4506-97bf-a463e66f9102"
   },
   "outputs": [
    {
     "name": "stdout",
     "output_type": "stream",
     "text": [
      "hit end!\n"
     ]
    }
   ],
   "source": [
    "trained_moedl = trained_a2c\n",
    "df_account_value_a2c, df_actions_a2c = DRLAgent.DRL_prediction(\n",
    "    model=trained_moedl, \n",
    "    environment = e_trade_gym)"
   ]
  },
  {
   "cell_type": "code",
   "execution_count": 40,
   "metadata": {
    "colab": {
     "base_uri": "https://localhost:8080/"
    },
    "id": "JbYljWGjj3pH",
    "outputId": "3e682898-d5a5-4664-9469-77b6029cc277"
   },
   "outputs": [
    {
     "name": "stdout",
     "output_type": "stream",
     "text": [
      "hit end!\n"
     ]
    }
   ],
   "source": [
    "trained_moedl = trained_ddpg\n",
    "df_account_value_ddpg, df_actions_ddpg = DRLAgent.DRL_prediction(\n",
    "    model=trained_moedl, \n",
    "    environment = e_trade_gym)"
   ]
  },
  {
   "cell_type": "code",
   "execution_count": 41,
   "metadata": {
    "colab": {
     "base_uri": "https://localhost:8080/"
    },
    "id": "74jNP2DBj3hb",
    "outputId": "d5f85887-a738-4699-e886-77d2225dd7eb"
   },
   "outputs": [
    {
     "name": "stdout",
     "output_type": "stream",
     "text": [
      "hit end!\n"
     ]
    }
   ],
   "source": [
    "trained_moedl = trained_ppo\n",
    "df_account_value_ppo, df_actions_ppo = DRLAgent.DRL_prediction(\n",
    "    model=trained_moedl, \n",
    "    environment = e_trade_gym)"
   ]
  },
  {
   "cell_type": "code",
   "execution_count": 42,
   "metadata": {
    "colab": {
     "base_uri": "https://localhost:8080/"
    },
    "id": "S7VyGGJPj3SH",
    "outputId": "10165564-7775-4358-c137-7c4ae646df6c"
   },
   "outputs": [
    {
     "name": "stdout",
     "output_type": "stream",
     "text": [
      "hit end!\n"
     ]
    }
   ],
   "source": [
    "trained_moedl = trained_td3\n",
    "df_account_value_td3, df_actions_td3 = DRLAgent.DRL_prediction(\n",
    "    model=trained_moedl, \n",
    "    environment = e_trade_gym)"
   ]
  },
  {
   "cell_type": "code",
   "execution_count": 43,
   "metadata": {
    "colab": {
     "base_uri": "https://localhost:8080/"
    },
    "id": "eLOnL5eYh1jR",
    "outputId": "6bdc3498-93b4-42ea-82ff-47ef9e99329c"
   },
   "outputs": [
    {
     "name": "stdout",
     "output_type": "stream",
     "text": [
      "hit end!\n"
     ]
    }
   ],
   "source": [
    "trained_moedl = trained_sac\n",
    "df_account_value_sac, df_actions_sac = DRLAgent.DRL_prediction(\n",
    "    model=trained_moedl, \n",
    "    environment = e_trade_gym)"
   ]
  },
  {
   "cell_type": "code",
   "execution_count": 44,
   "metadata": {
    "colab": {
     "base_uri": "https://localhost:8080/"
    },
    "id": "ERxw3KqLkcP4",
    "outputId": "52dbeacc-617a-4553-d4a9-8692b988a240"
   },
   "outputs": [
    {
     "data": {
      "text/plain": [
       "(353, 2)"
      ]
     },
     "execution_count": 44,
     "metadata": {},
     "output_type": "execute_result"
    }
   ],
   "source": [
    "df_account_value_a2c.shape"
   ]
  },
  {
   "cell_type": "markdown",
   "metadata": {
    "id": "GcE-t08w6DaW"
   },
   "source": [
    "<a id='7'></a>\n",
    "# Part 6.5: Mean Variance Optimization"
   ]
  },
  {
   "cell_type": "code",
   "execution_count": 45,
   "metadata": {
    "colab": {
     "base_uri": "https://localhost:8080/",
     "height": 206
    },
    "id": "_b1vKXKgSe4G",
    "outputId": "35956c2d-8251-468d-ca1c-81e73aa772a1"
   },
   "outputs": [
    {
     "data": {
      "text/html": [
       "<div>\n",
       "<style scoped>\n",
       "    .dataframe tbody tr th:only-of-type {\n",
       "        vertical-align: middle;\n",
       "    }\n",
       "\n",
       "    .dataframe tbody tr th {\n",
       "        vertical-align: top;\n",
       "    }\n",
       "\n",
       "    .dataframe thead th {\n",
       "        text-align: right;\n",
       "    }\n",
       "</style>\n",
       "<table border=\"1\" class=\"dataframe\">\n",
       "  <thead>\n",
       "    <tr style=\"text-align: right;\">\n",
       "      <th></th>\n",
       "      <th>date</th>\n",
       "      <th>tic</th>\n",
       "      <th>close</th>\n",
       "    </tr>\n",
       "  </thead>\n",
       "  <tbody>\n",
       "    <tr>\n",
       "      <th>0</th>\n",
       "      <td>2010-01-04</td>\n",
       "      <td>AAPL</td>\n",
       "      <td>6.505279</td>\n",
       "    </tr>\n",
       "    <tr>\n",
       "      <th>1</th>\n",
       "      <td>2010-01-04</td>\n",
       "      <td>AMGN</td>\n",
       "      <td>42.888950</td>\n",
       "    </tr>\n",
       "    <tr>\n",
       "      <th>2</th>\n",
       "      <td>2010-01-04</td>\n",
       "      <td>AXP</td>\n",
       "      <td>33.675964</td>\n",
       "    </tr>\n",
       "    <tr>\n",
       "      <th>3</th>\n",
       "      <td>2010-01-04</td>\n",
       "      <td>BA</td>\n",
       "      <td>43.777550</td>\n",
       "    </tr>\n",
       "    <tr>\n",
       "      <th>4</th>\n",
       "      <td>2010-01-04</td>\n",
       "      <td>CAT</td>\n",
       "      <td>41.156914</td>\n",
       "    </tr>\n",
       "  </tbody>\n",
       "</table>\n",
       "</div>"
      ],
      "text/plain": [
       "         date   tic      close\n",
       "0  2010-01-04  AAPL   6.505279\n",
       "1  2010-01-04  AMGN  42.888950\n",
       "2  2010-01-04   AXP  33.675964\n",
       "3  2010-01-04    BA  43.777550\n",
       "4  2010-01-04   CAT  41.156914"
      ]
     },
     "execution_count": 45,
     "metadata": {},
     "output_type": "execute_result"
    }
   ],
   "source": [
    "mvo_df.head()"
   ]
  },
  {
   "cell_type": "code",
   "execution_count": 46,
   "metadata": {
    "id": "fE2YWB0WBDVu"
   },
   "outputs": [],
   "source": [
    "fst = mvo_df\n",
    "fst = fst.iloc[0*29:0*29+29, :]\n",
    "tic = fst['tic'].tolist()\n",
    "\n",
    "mvo = pd.DataFrame()\n",
    "\n",
    "for k in range(len(tic)):\n",
    "  mvo[tic[k]] = 0\n",
    "\n",
    "for i in range(mvo_df.shape[0]//29):\n",
    "  n = mvo_df\n",
    "  n = n.iloc[i*29:i*29+29, :]\n",
    "  date = n['date'][i*29]\n",
    "  mvo.loc[date] = n['close'].tolist()"
   ]
  },
  {
   "cell_type": "code",
   "execution_count": 47,
   "metadata": {
    "colab": {
     "base_uri": "https://localhost:8080/"
    },
    "id": "9K2xfyh_VcXo",
    "outputId": "9a16e998-4e75-4d1f-e83d-a0346d3e7463"
   },
   "outputs": [
    {
     "data": {
      "text/plain": [
       "3310"
      ]
     },
     "execution_count": 47,
     "metadata": {},
     "output_type": "execute_result"
    }
   ],
   "source": [
    "mvo.shape[0]"
   ]
  },
  {
   "cell_type": "markdown",
   "metadata": {
    "id": "SwEwkHJ1d_6u"
   },
   "source": [
    "### Helper functions"
   ]
  },
  {
   "cell_type": "code",
   "execution_count": 48,
   "metadata": {
    "id": "kayNWPWn6Kz2"
   },
   "outputs": [],
   "source": [
    "from scipy import optimize \n",
    "from scipy.optimize import linprog\n",
    "\n",
    "#function obtains maximal return portfolio using linear programming\n",
    "\n",
    "def MaximizeReturns(MeanReturns, PortfolioSize):\n",
    "    \n",
    "  #dependencies\n",
    "  \n",
    "    \n",
    "  c = (np.multiply(-1, MeanReturns))\n",
    "  A = np.ones([PortfolioSize,1]).T\n",
    "  b=[1]\n",
    "  res = linprog(c, A_ub = A, b_ub = b, bounds = (0,1), method = 'simplex') \n",
    "    \n",
    "  return res\n",
    "\n",
    "def MinimizeRisk(CovarReturns, PortfolioSize):\n",
    "    \n",
    "  def f(x, CovarReturns):\n",
    "    func = np.matmul(np.matmul(x, CovarReturns), x.T) \n",
    "    return func\n",
    "\n",
    "  def constraintEq(x):\n",
    "    A=np.ones(x.shape)\n",
    "    b=1\n",
    "    constraintVal = np.matmul(A,x.T)-b \n",
    "    return constraintVal\n",
    "    \n",
    "  xinit=np.repeat(0.1, PortfolioSize)\n",
    "  cons = ({'type': 'eq', 'fun':constraintEq})\n",
    "  lb = 0\n",
    "  ub = 1\n",
    "  bnds = tuple([(lb,ub) for x in xinit])\n",
    "\n",
    "  opt = optimize.minimize (f, x0 = xinit, args = (CovarReturns),  bounds = bnds, \\\n",
    "                             constraints = cons, tol = 10**-3)\n",
    "    \n",
    "  return opt\n",
    "\n",
    "def MinimizeRiskConstr(MeanReturns, CovarReturns, PortfolioSize, R):\n",
    "    \n",
    "  def  f(x,CovarReturns):\n",
    "         \n",
    "    func = np.matmul(np.matmul(x,CovarReturns ), x.T)\n",
    "    return func\n",
    "\n",
    "  def constraintEq(x):\n",
    "    AEq=np.ones(x.shape)\n",
    "    bEq=1\n",
    "    EqconstraintVal = np.matmul(AEq,x.T)-bEq \n",
    "    return EqconstraintVal\n",
    "    \n",
    "  def constraintIneq(x, MeanReturns, R):\n",
    "    AIneq = np.array(MeanReturns)\n",
    "    bIneq = R\n",
    "    IneqconstraintVal = np.matmul(AIneq,x.T) - bIneq\n",
    "    return IneqconstraintVal\n",
    "    \n",
    "\n",
    "  xinit=np.repeat(0.1, PortfolioSize)\n",
    "  cons = ({'type': 'eq', 'fun':constraintEq},\n",
    "          {'type':'ineq', 'fun':constraintIneq, 'args':(MeanReturns,R) })\n",
    "  lb = 0\n",
    "  ub = 1\n",
    "  bnds = tuple([(lb,ub) for x in xinit])\n",
    "\n",
    "  opt = optimize.minimize (f, args = (CovarReturns), method ='trust-constr',  \\\n",
    "                x0 = xinit,   bounds = bnds, constraints = cons, tol = 10**-3)\n",
    "    \n",
    "  return opt"
   ]
  },
  {
   "cell_type": "code",
   "execution_count": 49,
   "metadata": {
    "id": "6KvXkpyE8MFq"
   },
   "outputs": [],
   "source": [
    "def StockReturnsComputing(StockPrice, Rows, Columns): \n",
    "  import numpy as np \n",
    "  StockReturn = np.zeros([Rows-1, Columns]) \n",
    "  for j in range(Columns):        # j: Assets \n",
    "    for i in range(Rows-1):     # i: Daily Prices \n",
    "      StockReturn[i,j]=((StockPrice[i+1, j]-StockPrice[i,j])/StockPrice[i,j])* 100 \n",
    "      \n",
    "  return StockReturn"
   ]
  },
  {
   "cell_type": "markdown",
   "metadata": {
    "id": "IeVVbuwveJ_5"
   },
   "source": [
    "### Calculate mean returns and variance-covariance matrix"
   ]
  },
  {
   "cell_type": "code",
   "execution_count": 50,
   "metadata": {
    "colab": {
     "base_uri": "https://localhost:8080/"
    },
    "id": "Q2G1phEm_Ut3",
    "outputId": "ce7c4d13-3adf-47d2-dfe1-0574637e94c3"
   },
   "outputs": [
    {
     "data": {
      "text/plain": [
       "array([[148.01603699, 198.85264587, 178.01608276, ...,  49.54629135,\n",
       "         45.13446808, 145.26525879],\n",
       "       [147.55015564, 196.8515625 , 175.14341736, ...,  49.12624359,\n",
       "         44.022686  , 144.07383728],\n",
       "       [151.23764038, 197.41375732, 171.77888489, ...,  49.28492737,\n",
       "         44.0039978 , 144.97229004],\n",
       "       ...,\n",
       "       [149.3999939 , 237.61999512, 175.13999939, ...,  38.52999878,\n",
       "         36.20999908, 141.50999451],\n",
       "       [146.71000671, 233.66000366, 174.25      , ...,  38.74000168,\n",
       "         35.79999924, 141.88845825],\n",
       "       [147.91999817, 234.44999695, 173.30000305, ...,  38.88000107,\n",
       "         35.38999939, 140.86265564]])"
      ]
     },
     "execution_count": 50,
     "metadata": {},
     "output_type": "execute_result"
    }
   ],
   "source": [
    "# Obtain optimal portfolio sets that maximize return and minimize risk\n",
    "\n",
    "#Dependencies\n",
    "import numpy as np\n",
    "import pandas as pd\n",
    "\n",
    "\n",
    "#input k-portfolio 1 dataset comprising 15 stocks\n",
    "# StockFileName = './DJIA_Apr112014_Apr112019_kpf1.csv'\n",
    "\n",
    "Rows = 1259  #excluding header\n",
    "Columns = 15  #excluding date\n",
    "portfolioSize = 29 #set portfolio size\n",
    "\n",
    "#read stock prices in a dataframe\n",
    "# df = pd.read_csv(StockFileName,  nrows= Rows)\n",
    "\n",
    "#extract asset labels\n",
    "# assetLabels = df.columns[1:Columns+1].tolist()\n",
    "# print(assetLabels)\n",
    "\n",
    "#extract asset prices\n",
    "# StockData = df.iloc[0:, 1:]\n",
    "StockData = mvo.head(mvo.shape[0]-336)\n",
    "TradeData = mvo.tail(336)\n",
    "# df.head()\n",
    "TradeData.to_numpy()\n"
   ]
  },
  {
   "cell_type": "code",
   "execution_count": 51,
   "metadata": {
    "colab": {
     "base_uri": "https://localhost:8080/"
    },
    "id": "u6_O6vrn_uD4",
    "outputId": "f41663c0-db5b-4154-a801-924050e1813b"
   },
   "outputs": [
    {
     "name": "stdout",
     "output_type": "stream",
     "text": [
      "Mean returns of assets in k-portfolio 1\n",
      " [0.121 0.063 0.073 0.078 0.069 0.118 0.052 0.043 0.073 0.052 0.106 0.078\n",
      " 0.022 0.057 0.049 0.073 0.04  0.063 0.046 0.05  0.098 0.096 0.046 0.059\n",
      " 0.109 0.095 0.042 0.035 0.051]\n",
      "Variance-Covariance matrix of returns\n",
      " [[3.128 1.014 1.29  1.521 1.371 1.689 1.375 1.125 1.088 1.374 1.163 1.221\n",
      "  1.03  1.525 0.692 1.269 0.664 0.816 1.029 0.733 1.576 1.139 0.668 0.86\n",
      "  1.144 1.338 0.525 0.908 0.635]\n",
      " [1.014 2.4   1.072 1.01  1.066 1.211 1.025 0.965 0.937 1.122 0.978 1.029\n",
      "  0.851 1.153 0.891 1.14  0.641 0.664 0.906 1.072 1.088 0.873 0.724 0.854\n",
      "  1.146 1.056 0.631 1.025 0.645]\n",
      " [1.29  1.072 3.315 2.475 1.907 1.568 1.428 1.922 1.715 2.237 1.376 1.847\n",
      "  1.343 1.508 0.861 2.37  0.99  1.075 1.375 0.964 1.357 1.418 0.728 1.505\n",
      "  1.417 1.8   0.748 1.216 0.584]\n",
      " [1.521 1.01  2.475 4.962 2.117 1.687 1.511 2.142 1.838 2.201 1.527 2.121\n",
      "  1.532 1.699 0.905 2.296 1.117 1.195 1.461 0.949 1.437 1.573 0.748 1.604\n",
      "  1.472 1.716 0.734 1.362 0.603]\n",
      " [1.371 1.066 1.907 2.117 3.331 1.613 1.519 1.887 1.471 1.998 1.239 1.868\n",
      "  1.355 1.566 0.826 2.039 0.848 0.855 1.585 0.918 1.331 1.292 0.682 1.269\n",
      "  1.221 1.408 0.739 1.226 0.613]\n",
      " [1.689 1.211 1.568 1.687 1.613 5.041 1.65  1.257 1.352 1.604 1.358 1.44\n",
      "  1.185 1.637 0.756 1.564 0.738 0.984 1.151 0.91  1.853 1.493 0.657 1.042\n",
      "  1.204 1.722 0.563 1.017 0.621]\n",
      " [1.375 1.025 1.428 1.511 1.519 1.65  2.796 1.303 1.264 1.5   1.133 1.355\n",
      "  1.245 1.583 0.843 1.511 0.728 0.823 1.215 0.881 1.481 1.145 0.74  1.002\n",
      "  1.098 1.31  0.655 1.065 0.686]\n",
      " [1.125 0.965 1.922 2.142 1.887 1.257 1.303 2.92  1.389 1.826 1.201 1.64\n",
      "  1.275 1.386 0.836 1.942 0.919 0.993 1.263 0.963 1.203 1.136 0.686 1.361\n",
      "  1.296 1.381 0.74  1.06  0.518]\n",
      " [1.088 0.937 1.715 1.838 1.471 1.352 1.264 1.389 2.458 1.614 1.152 1.464\n",
      "  1.058 1.228 0.701 1.68  0.829 0.863 1.117 0.775 1.15  1.197 0.663 1.097\n",
      "  1.058 1.313 0.66  0.994 0.574]\n",
      " [1.374 1.122 2.237 2.201 1.998 1.604 1.5   1.826 1.614 3.375 1.351 1.724\n",
      "  1.317 1.564 0.83  2.724 0.825 0.939 1.41  0.959 1.418 1.32  0.693 1.496\n",
      "  1.383 1.53  0.717 1.231 0.615]\n",
      " [1.163 0.978 1.376 1.527 1.239 1.358 1.133 1.201 1.152 1.351 2.058 1.239\n",
      "  0.99  1.243 0.691 1.364 0.73  0.91  1.032 0.762 1.205 1.202 0.691 1.078\n",
      "  1.14  1.207 0.628 0.915 0.723]\n",
      " [1.221 1.029 1.847 2.121 1.868 1.44  1.355 1.64  1.464 1.724 1.239 2.179\n",
      "  1.209 1.36  0.827 1.822 0.91  0.925 1.413 0.898 1.249 1.301 0.694 1.25\n",
      "  1.255 1.407 0.694 1.142 0.575]\n",
      " [1.03  0.851 1.343 1.532 1.355 1.185 1.245 1.275 1.058 1.317 0.99  1.209\n",
      "  2.009 1.281 0.706 1.37  0.77  0.749 1.08  0.782 1.123 0.947 0.664 0.995\n",
      "  1.003 1.106 0.644 0.958 0.541]\n",
      " [1.525 1.153 1.508 1.699 1.566 1.637 1.583 1.386 1.228 1.564 1.243 1.36\n",
      "  1.281 3.282 0.787 1.563 0.786 0.798 1.18  0.857 1.695 1.123 0.722 1.122\n",
      "  1.148 1.329 0.674 1.083 0.7  ]\n",
      " [0.692 0.891 0.861 0.905 0.826 0.756 0.843 0.836 0.701 0.83  0.691 0.827\n",
      "  0.706 0.787 1.121 0.878 0.611 0.561 0.788 0.777 0.784 0.683 0.637 0.693\n",
      "  0.833 0.795 0.566 0.779 0.521]\n",
      " [1.269 1.14  2.37  2.296 2.039 1.564 1.511 1.942 1.68  2.724 1.364 1.822\n",
      "  1.37  1.563 0.878 3.233 0.93  0.961 1.43  1.024 1.376 1.344 0.737 1.621\n",
      "  1.4   1.559 0.807 1.285 0.635]\n",
      " [0.664 0.641 0.99  1.117 0.848 0.738 0.728 0.919 0.829 0.825 0.73  0.91\n",
      "  0.77  0.786 0.611 0.93  1.195 0.653 0.759 0.634 0.744 0.733 0.689 0.832\n",
      "  0.735 0.807 0.59  0.681 0.489]\n",
      " [0.816 0.664 1.075 1.195 0.855 0.984 0.823 0.993 0.863 0.939 0.91  0.925\n",
      "  0.749 0.798 0.561 0.961 0.653 1.421 0.75  0.641 0.874 0.907 0.543 0.888\n",
      "  0.808 0.943 0.481 0.605 0.468]\n",
      " [1.029 0.906 1.375 1.461 1.585 1.151 1.215 1.263 1.117 1.41  1.032 1.413\n",
      "  1.08  1.18  0.788 1.43  0.759 0.75  1.822 0.755 1.027 1.036 0.649 1.03\n",
      "  1.004 1.119 0.63  1.024 0.557]\n",
      " [0.733 1.072 0.964 0.949 0.918 0.91  0.881 0.963 0.775 0.959 0.762 0.898\n",
      "  0.782 0.857 0.777 1.024 0.634 0.641 0.755 1.69  0.853 0.754 0.621 0.821\n",
      "  0.921 0.888 0.629 0.784 0.518]\n",
      " [1.576 1.088 1.357 1.437 1.331 1.853 1.481 1.203 1.15  1.418 1.205 1.249\n",
      "  1.123 1.695 0.784 1.376 0.744 0.874 1.027 0.853 2.495 1.16  0.751 0.989\n",
      "  1.19  1.407 0.636 0.963 0.704]\n",
      " [1.139 0.873 1.418 1.573 1.292 1.493 1.145 1.136 1.197 1.32  1.202 1.301\n",
      "  0.947 1.123 0.683 1.344 0.733 0.907 1.036 0.754 1.16  2.688 0.628 0.981\n",
      "  1.086 1.275 0.561 0.879 0.582]\n",
      " [0.668 0.724 0.728 0.748 0.682 0.657 0.74  0.686 0.663 0.693 0.691 0.694\n",
      "  0.664 0.722 0.637 0.737 0.689 0.543 0.649 0.621 0.751 0.628 1.146 0.676\n",
      "  0.666 0.69  0.576 0.689 0.601]\n",
      " [0.86  0.854 1.505 1.604 1.269 1.042 1.002 1.361 1.097 1.496 1.078 1.25\n",
      "  0.995 1.122 0.693 1.621 0.832 0.888 1.03  0.821 0.989 0.981 0.676 1.974\n",
      "  1.089 1.116 0.7   0.922 0.588]\n",
      " [1.144 1.146 1.417 1.472 1.221 1.204 1.098 1.296 1.058 1.383 1.14  1.255\n",
      "  1.003 1.148 0.833 1.4   0.735 0.808 1.004 0.921 1.19  1.086 0.666 1.089\n",
      "  2.628 1.185 0.61  1.003 0.618]\n",
      " [1.338 1.056 1.8   1.716 1.408 1.722 1.31  1.381 1.313 1.53  1.207 1.407\n",
      "  1.106 1.329 0.795 1.559 0.807 0.943 1.119 0.888 1.407 1.275 0.69  1.116\n",
      "  1.185 2.579 0.606 0.924 0.572]\n",
      " [0.525 0.631 0.748 0.734 0.739 0.563 0.655 0.74  0.66  0.717 0.628 0.694\n",
      "  0.644 0.674 0.566 0.807 0.59  0.481 0.63  0.629 0.636 0.561 0.576 0.7\n",
      "  0.61  0.606 1.194 0.662 0.51 ]\n",
      " [0.908 1.025 1.216 1.362 1.226 1.017 1.065 1.06  0.994 1.231 0.915 1.142\n",
      "  0.958 1.083 0.779 1.285 0.681 0.605 1.024 0.784 0.963 0.879 0.689 0.922\n",
      "  1.003 0.924 0.662 3.14  0.709]\n",
      " [0.635 0.645 0.584 0.603 0.613 0.621 0.686 0.518 0.574 0.615 0.723 0.575\n",
      "  0.541 0.7   0.521 0.635 0.489 0.468 0.557 0.518 0.704 0.582 0.601 0.588\n",
      "  0.618 0.572 0.51  0.709 1.406]]\n"
     ]
    }
   ],
   "source": [
    "#compute asset returns\n",
    "arStockPrices = np.asarray(StockData)\n",
    "[Rows, Cols]=arStockPrices.shape\n",
    "arReturns = StockReturnsComputing(arStockPrices, Rows, Cols)\n",
    "\n",
    "\n",
    "#compute mean returns and variance covariance matrix of returns\n",
    "meanReturns = np.mean(arReturns, axis = 0)\n",
    "covReturns = np.cov(arReturns, rowvar=False)\n",
    " \n",
    "#set precision for printing results\n",
    "np.set_printoptions(precision=3, suppress = True)\n",
    "\n",
    "#display mean returns and variance-covariance matrix of returns\n",
    "print('Mean returns of assets in k-portfolio 1\\n', meanReturns)\n",
    "print('Variance-Covariance matrix of returns\\n', covReturns)\n"
   ]
  },
  {
   "cell_type": "code",
   "execution_count": 52,
   "metadata": {
    "colab": {
     "base_uri": "https://localhost:8080/"
    },
    "id": "b1btTONEdCU4",
    "outputId": "71544f9d-b695-4468-e573-e85135692c1f"
   },
   "outputs": [
    {
     "data": {
      "text/plain": [
       "array([268510.,      0.,      0.,      0.,      0.,  67170.,      0.,\n",
       "            0.,      0.,      0., 328490.,      0.,      0.,      0.,\n",
       "            0.,      0.,      0.,      0.,      0.,      0.,      0.,\n",
       "        80330.,      0.,      0., 249920.,   5570.,      0.,      0.,\n",
       "            0.])"
      ]
     },
     "execution_count": 52,
     "metadata": {},
     "output_type": "execute_result"
    }
   ],
   "source": [
    "from pypfopt.efficient_frontier import EfficientFrontier\n",
    "\n",
    "ef_mean = EfficientFrontier(meanReturns, covReturns, weight_bounds=(0, 0.5))\n",
    "raw_weights_mean = ef_mean.max_sharpe()\n",
    "cleaned_weights_mean = ef_mean.clean_weights()\n",
    "mvo_weights = np.array([1000000 * cleaned_weights_mean[i] for i in range(29)])\n",
    "mvo_weights"
   ]
  },
  {
   "cell_type": "code",
   "execution_count": 53,
   "metadata": {
    "colab": {
     "base_uri": "https://localhost:8080/",
     "height": 191
    },
    "id": "N6tTAjAvgFtO",
    "outputId": "9f16c93f-36fb-4e19-f8fb-5c8428e55351"
   },
   "outputs": [
    {
     "data": {
      "text/html": [
       "<div>\n",
       "<style scoped>\n",
       "    .dataframe tbody tr th:only-of-type {\n",
       "        vertical-align: middle;\n",
       "    }\n",
       "\n",
       "    .dataframe tbody tr th {\n",
       "        vertical-align: top;\n",
       "    }\n",
       "\n",
       "    .dataframe thead th {\n",
       "        text-align: right;\n",
       "    }\n",
       "</style>\n",
       "<table border=\"1\" class=\"dataframe\">\n",
       "  <thead>\n",
       "    <tr style=\"text-align: right;\">\n",
       "      <th></th>\n",
       "      <th>AAPL</th>\n",
       "      <th>AMGN</th>\n",
       "      <th>AXP</th>\n",
       "      <th>BA</th>\n",
       "      <th>CAT</th>\n",
       "      <th>CRM</th>\n",
       "      <th>CSCO</th>\n",
       "      <th>CVX</th>\n",
       "      <th>DIS</th>\n",
       "      <th>GS</th>\n",
       "      <th>...</th>\n",
       "      <th>MRK</th>\n",
       "      <th>MSFT</th>\n",
       "      <th>NKE</th>\n",
       "      <th>PG</th>\n",
       "      <th>TRV</th>\n",
       "      <th>UNH</th>\n",
       "      <th>V</th>\n",
       "      <th>VZ</th>\n",
       "      <th>WBA</th>\n",
       "      <th>WMT</th>\n",
       "    </tr>\n",
       "  </thead>\n",
       "  <tbody>\n",
       "    <tr>\n",
       "      <th>2021-10-25</th>\n",
       "      <td>147.34198</td>\n",
       "      <td>197.852112</td>\n",
       "      <td>179.354034</td>\n",
       "      <td>212.869995</td>\n",
       "      <td>196.628159</td>\n",
       "      <td>293.920013</td>\n",
       "      <td>53.038136</td>\n",
       "      <td>107.683975</td>\n",
       "      <td>172.009995</td>\n",
       "      <td>399.109955</td>\n",
       "      <td>...</td>\n",
       "      <td>77.8321</td>\n",
       "      <td>303.950806</td>\n",
       "      <td>161.721756</td>\n",
       "      <td>136.581009</td>\n",
       "      <td>156.46492</td>\n",
       "      <td>440.793518</td>\n",
       "      <td>231.263229</td>\n",
       "      <td>49.079571</td>\n",
       "      <td>45.984653</td>\n",
       "      <td>146.544571</td>\n",
       "    </tr>\n",
       "  </tbody>\n",
       "</table>\n",
       "<p>1 rows × 29 columns</p>\n",
       "</div>"
      ],
      "text/plain": [
       "                 AAPL        AMGN         AXP          BA         CAT  \\\n",
       "2021-10-25  147.34198  197.852112  179.354034  212.869995  196.628159   \n",
       "\n",
       "                   CRM       CSCO         CVX         DIS          GS  ...  \\\n",
       "2021-10-25  293.920013  53.038136  107.683975  172.009995  399.109955  ...   \n",
       "\n",
       "                MRK        MSFT         NKE          PG        TRV  \\\n",
       "2021-10-25  77.8321  303.950806  161.721756  136.581009  156.46492   \n",
       "\n",
       "                   UNH           V         VZ        WBA         WMT  \n",
       "2021-10-25  440.793518  231.263229  49.079571  45.984653  146.544571  \n",
       "\n",
       "[1 rows x 29 columns]"
      ]
     },
     "execution_count": 53,
     "metadata": {},
     "output_type": "execute_result"
    }
   ],
   "source": [
    "StockData.tail(1)"
   ]
  },
  {
   "cell_type": "code",
   "execution_count": 54,
   "metadata": {
    "colab": {
     "base_uri": "https://localhost:8080/"
    },
    "id": "F38NJRJJgOmj",
    "outputId": "5b0ef1d6-61d7-4525-fe5a-1cba0d9a2836"
   },
   "outputs": [
    {
     "data": {
      "text/plain": [
       "array([1822.359,    0.   ,    0.   ,    0.   ,    0.   ,  228.532,\n",
       "          0.   ,    0.   ,    0.   ,    0.   ,  917.405,    0.   ,\n",
       "          0.   ,    0.   ,    0.   ,    0.   ,    0.   ,    0.   ,\n",
       "          0.   ,    0.   ,    0.   ,  496.717,    0.   ,    0.   ,\n",
       "        566.977,   24.085,    0.   ,    0.   ,    0.   ])"
      ]
     },
     "execution_count": 54,
     "metadata": {},
     "output_type": "execute_result"
    }
   ],
   "source": [
    "LastPrice = np.array([1/p for p in StockData.tail(1).to_numpy()[0]])\n",
    "Initial_Portfolio = np.multiply(mvo_weights, LastPrice)\n",
    "Initial_Portfolio"
   ]
  },
  {
   "cell_type": "code",
   "execution_count": 55,
   "metadata": {
    "colab": {
     "base_uri": "https://localhost:8080/",
     "height": 424
    },
    "id": "ZAd1iXqZhQ6X",
    "outputId": "0528f221-b650-4847-d582-173b1dc2f8f4"
   },
   "outputs": [
    {
     "data": {
      "text/html": [
       "<div>\n",
       "<style scoped>\n",
       "    .dataframe tbody tr th:only-of-type {\n",
       "        vertical-align: middle;\n",
       "    }\n",
       "\n",
       "    .dataframe tbody tr th {\n",
       "        vertical-align: top;\n",
       "    }\n",
       "\n",
       "    .dataframe thead th {\n",
       "        text-align: right;\n",
       "    }\n",
       "</style>\n",
       "<table border=\"1\" class=\"dataframe\">\n",
       "  <thead>\n",
       "    <tr style=\"text-align: right;\">\n",
       "      <th></th>\n",
       "      <th>Mean Var</th>\n",
       "    </tr>\n",
       "  </thead>\n",
       "  <tbody>\n",
       "    <tr>\n",
       "      <th>2021-10-26</th>\n",
       "      <td>1.002272e+06</td>\n",
       "    </tr>\n",
       "    <tr>\n",
       "      <th>2021-10-27</th>\n",
       "      <td>1.002461e+06</td>\n",
       "    </tr>\n",
       "    <tr>\n",
       "      <th>2021-10-28</th>\n",
       "      <td>1.011236e+06</td>\n",
       "    </tr>\n",
       "    <tr>\n",
       "      <th>2021-10-29</th>\n",
       "      <td>1.010909e+06</td>\n",
       "    </tr>\n",
       "    <tr>\n",
       "      <th>2021-11-01</th>\n",
       "      <td>1.001450e+06</td>\n",
       "    </tr>\n",
       "    <tr>\n",
       "      <th>...</th>\n",
       "      <td>...</td>\n",
       "    </tr>\n",
       "    <tr>\n",
       "      <th>2023-02-21</th>\n",
       "      <td>9.195314e+05</td>\n",
       "    </tr>\n",
       "    <tr>\n",
       "      <th>2023-02-22</th>\n",
       "      <td>9.194653e+05</td>\n",
       "    </tr>\n",
       "    <tr>\n",
       "      <th>2023-02-23</th>\n",
       "      <td>9.249119e+05</td>\n",
       "    </tr>\n",
       "    <tr>\n",
       "      <th>2023-02-24</th>\n",
       "      <td>9.120101e+05</td>\n",
       "    </tr>\n",
       "    <tr>\n",
       "      <th>2023-02-27</th>\n",
       "      <td>9.135293e+05</td>\n",
       "    </tr>\n",
       "  </tbody>\n",
       "</table>\n",
       "<p>336 rows × 1 columns</p>\n",
       "</div>"
      ],
      "text/plain": [
       "                Mean Var\n",
       "2021-10-26  1.002272e+06\n",
       "2021-10-27  1.002461e+06\n",
       "2021-10-28  1.011236e+06\n",
       "2021-10-29  1.010909e+06\n",
       "2021-11-01  1.001450e+06\n",
       "...                  ...\n",
       "2023-02-21  9.195314e+05\n",
       "2023-02-22  9.194653e+05\n",
       "2023-02-23  9.249119e+05\n",
       "2023-02-24  9.120101e+05\n",
       "2023-02-27  9.135293e+05\n",
       "\n",
       "[336 rows x 1 columns]"
      ]
     },
     "execution_count": 55,
     "metadata": {},
     "output_type": "execute_result"
    }
   ],
   "source": [
    "Portfolio_Assets = TradeData @ Initial_Portfolio\n",
    "MVO_result = pd.DataFrame(Portfolio_Assets, columns=[\"Mean Var\"])\n",
    "MVO_result"
   ]
  },
  {
   "cell_type": "markdown",
   "metadata": {
    "id": "W6vvNSC6h1jZ"
   },
   "source": [
    "<a id='6'></a>\n",
    "# Part 7: Backtesting Results\n",
    "Backtesting plays a key role in evaluating the performance of a trading strategy. Automated backtesting tool is preferred because it reduces the human error. We usually use the Quantopian pyfolio package to backtest our trading strategies. It is easy to use and consists of various individual plots that provide a comprehensive image of the performance of a trading strategy."
   ]
  },
  {
   "cell_type": "code",
   "execution_count": 56,
   "metadata": {
    "colab": {
     "base_uri": "https://localhost:8080/"
    },
    "id": "KeDeGAc9VrEg",
    "outputId": "11fb5805-7b2a-44c6-ccff-5238114632aa"
   },
   "outputs": [
    {
     "name": "stdout",
     "output_type": "stream",
     "text": [
      "==============Get Baseline Stats===========\n",
      "[*********************100%***********************]  1 of 1 completed\n",
      "Shape of DataFrame:  (354, 8)\n",
      "result:                       a2c          ddpg           td3           ppo  \\\n",
      "2021-10-26  1.009161e+06  1.055224e+06  1.063962e+06  1.000518e+06   \n",
      "2021-10-27  1.006488e+06  1.045807e+06  1.062325e+06  9.998558e+05   \n",
      "2021-10-28  1.009514e+06  1.052358e+06  1.067654e+06  1.000604e+06   \n",
      "2021-10-29  1.009640e+06  1.055423e+06  1.070851e+06  1.000799e+06   \n",
      "2021-11-01  1.011949e+06  1.057711e+06  1.072934e+06  1.001092e+06   \n",
      "...                  ...           ...           ...           ...   \n",
      "2023-02-21  9.776371e+05  9.702772e+05  9.389747e+05  1.022192e+06   \n",
      "2023-02-22  9.752120e+05  9.675668e+05  9.375585e+05  1.016848e+06   \n",
      "2023-02-23  9.792236e+05  9.715701e+05  9.405181e+05  1.020079e+06   \n",
      "2023-02-24  9.679955e+05  9.622987e+05  9.329863e+05  1.010507e+06   \n",
      "2023-02-27  9.720859e+05  9.649722e+05  9.342111e+05  1.013405e+06   \n",
      "\n",
      "                     sac      mean var           dji  \n",
      "2021-10-26  1.031311e+06  1.002272e+06  1.041671e+06  \n",
      "2021-10-27  1.027550e+06  1.002461e+06  1.033916e+06  \n",
      "2021-10-28  1.037381e+06  1.011236e+06  1.040902e+06  \n",
      "2021-10-29  1.042295e+06  1.010909e+06  1.043497e+06  \n",
      "2021-11-01  1.044084e+06  1.001450e+06  1.046244e+06  \n",
      "...                  ...           ...           ...  \n",
      "2023-02-21  9.520393e+05  9.195314e+05  9.651327e+05  \n",
      "2023-02-22  9.446928e+05  9.194653e+05  9.626710e+05  \n",
      "2023-02-23  9.449347e+05  9.249119e+05  9.658412e+05  \n",
      "2023-02-24  9.378881e+05  9.120101e+05  9.560240e+05  \n",
      "2023-02-27  9.406220e+05  9.135293e+05  9.581264e+05  \n",
      "\n",
      "[336 rows x 7 columns]\n"
     ]
    },
    {
     "name": "stderr",
     "output_type": "stream",
     "text": [
      "d:\\Anaconda\\envs\\fin\\lib\\site-packages\\pyfolio\\timeseries.py:724: FutureWarning: The default dtype for empty Series will be 'object' instead of 'float64' in a future version. Specify a dtype explicitly to silence this warning.\n",
      "  stats = pd.Series()\n",
      "C:\\Users\\ThinkPad\\AppData\\Local\\Temp\\ipykernel_2440\\143425230.py:23: FutureWarning: Passing 'suffixes' which cause duplicate columns {'account_value_x'} in the result is deprecated and will raise a MergeError in a future version.\n",
      "  result = pd.merge(result, df_result_ppo, left_index=True, right_index=True)\n",
      "C:\\Users\\ThinkPad\\AppData\\Local\\Temp\\ipykernel_2440\\143425230.py:26: FutureWarning: Passing 'suffixes' which cause duplicate columns {'account_value_x'} in the result is deprecated and will raise a MergeError in a future version.\n",
      "  result = pd.merge(result, df_dji, left_index=True, right_index=True)\n"
     ]
    }
   ],
   "source": [
    "df_result_a2c = df_account_value_a2c.set_index(df_account_value_a2c.columns[0])\n",
    "df_result_ddpg = df_account_value_ddpg.set_index(df_account_value_ddpg.columns[0])\n",
    "df_result_td3 = df_account_value_td3.set_index(df_account_value_td3.columns[0])\n",
    "df_result_ppo = df_account_value_ppo.set_index(df_account_value_ppo.columns[0])\n",
    "df_result_sac = df_account_value_sac.set_index(df_account_value_sac.columns[0])\n",
    "df_account_value_a2c.to_csv(\"df_account_value_a2c.csv\")\n",
    "#baseline stats\n",
    "print(\"==============Get Baseline Stats===========\")\n",
    "df_dji_ = get_baseline(\n",
    "        ticker=\"^DJI\", \n",
    "        start = TRADE_START_DATE,\n",
    "        end = TRADE_END_DATE)\n",
    "stats = backtest_stats(df_dji_, value_col_name = 'close')\n",
    "df_dji = pd.DataFrame()\n",
    "df_dji['date'] = df_account_value_a2c['date']\n",
    "df_dji['account_value'] = df_dji_['close'] / df_dji_['close'][0] * env_kwargs[\"initial_amount\"]\n",
    "df_dji.to_csv(\"df_dji.csv\")\n",
    "df_dji = df_dji.set_index(df_dji.columns[0])\n",
    "df_dji.to_csv(\"df_dji+.csv\")\n",
    "\n",
    "result = pd.merge(df_result_a2c, df_result_ddpg, left_index=True, right_index=True)\n",
    "result = pd.merge(result, df_result_td3, left_index=True, right_index=True)\n",
    "result = pd.merge(result, df_result_ppo, left_index=True, right_index=True)\n",
    "result = pd.merge(result, df_result_sac, left_index=True, right_index=True)\n",
    "result = pd.merge(result, MVO_result, left_index=True, right_index=True)\n",
    "result = pd.merge(result, df_dji, left_index=True, right_index=True)\n",
    "result.columns = ['a2c', 'ddpg', 'td3', 'ppo', 'sac', 'mean var', 'dji']\n",
    "\n",
    "print(\"result: \", result)\n",
    "result.to_csv(\"result.csv\")"
   ]
  },
  {
   "cell_type": "code",
   "execution_count": 57,
   "metadata": {
    "colab": {
     "base_uri": "https://localhost:8080/",
     "height": 348
    },
    "id": "6xRfrqK4RVfq",
    "outputId": "42a2502d-7447-40ef-e897-1af949fda9e0"
   },
   "outputs": [
    {
     "data": {
      "text/plain": [
       "<Figure size 1500x500 with 0 Axes>"
      ]
     },
     "metadata": {},
     "output_type": "display_data"
    },
    {
     "data": {
      "image/png": "[encoded data removed]",
      "text/plain": [
       "<Figure size 1500x500 with 1 Axes>"
      ]
     },
     "metadata": {},
     "output_type": "display_data"
    }
   ],
   "source": [
    "%matplotlib inline\n",
    "plt.rcParams[\"figure.figsize\"] = (15,5)\n",
    "plt.figure()\n",
    "result.plot()"
   ]
  }
 ],
 "metadata": {
  "colab": {
   "collapsed_sections": [
    "HMNR5nHjh1iz",
    "uijiWgkuh1jB",
    "MRiOtrywfAo1",
    "_gDkU-j-fCmZ",
    "3Zpv4S0-fDBv"
   ],
   "provenance": []
  },
  "kernelspec": {
   "display_name": "base",
   "language": "python",
   "name": "python3"
  },
  "language_info": {
   "codemirror_mode": {
    "name": "ipython",
    "version": 3
   },
   "file_extension": ".py",
   "mimetype": "text/x-python",
   "name": "python",
   "nbconvert_exporter": "python",
   "pygments_lexer": "ipython3",
   "version": "3.10.9"
  },
  "vscode": {
   "interpreter": {
    "hash": "54cefccbf0f07c9750f12aa115c023dfa5ed4acecf9e7ad3bc9391869be60d0c"
   }
  }
 },
 "nbformat": 4,
 "nbformat_minor": 0
}
