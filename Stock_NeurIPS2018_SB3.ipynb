{
 "cells": [
  {
   "cell_type": "code",
   "execution_count": 1,
   "metadata": {},
   "outputs": [],
   "source": [
    "# ! git clone https://github.com/CodeArchitecture/FinRL.git"
   ]
  },
  {
   "cell_type": "code",
   "execution_count": 2,
   "metadata": {},
   "outputs": [],
   "source": [
    "# import os\n",
    "# os.chdir('/kaggle/working/FinRL')\n",
    "# print(os.getcwd())"
   ]
  },
  {
   "cell_type": "code",
   "execution_count": 3,
   "metadata": {},
   "outputs": [
    {
     "name": "stdout",
     "output_type": "stream",
     "text": [
      "Requirement already satisfied: swig in d:\\anaconda\\envs\\fin\\lib\\site-packages (from -r requirements.txt (line 1)) (4.1.1)\n",
      "Requirement already satisfied: wrds in d:\\anaconda\\envs\\fin\\lib\\site-packages (from -r requirements.txt (line 2)) (3.1.2)\n",
      "Requirement already satisfied: PyPortfolioOpt in d:\\anaconda\\envs\\fin\\lib\\site-packages (from -r requirements.txt (line 3)) (1.5.4)\n",
      "Requirement already satisfied: numpy in d:\\anaconda\\envs\\fin\\lib\\site-packages (from -r requirements.txt (line 4)) (1.23.5)\n",
      "Requirement already satisfied: pandas in d:\\anaconda\\envs\\fin\\lib\\site-packages (from -r requirements.txt (line 5)) (1.5.2)\n",
      "Requirement already satisfied: torch in d:\\anaconda\\envs\\fin\\lib\\site-packages (from -r requirements.txt (line 6)) (1.13.1)\n",
      "Requirement already satisfied: pyfolio in d:\\anaconda\\envs\\fin\\lib\\site-packages (from -r requirements.txt (line 10)) (0.9.2+75.g4b901f6)\n",
      "Requirement already satisfied: matplotlib in d:\\anaconda\\envs\\fin\\lib\\site-packages (from -r requirements.txt (line 12)) (3.6.2)\n",
      "Requirement already satisfied: gym in d:\\anaconda\\envs\\fin\\lib\\site-packages (from -r requirements.txt (line 13)) (0.21.0)\n",
      "Requirement already satisfied: stockstats in d:\\anaconda\\envs\\fin\\lib\\site-packages (from -r requirements.txt (line 14)) (0.5.1)\n",
      "Requirement already satisfied: yfinance in d:\\anaconda\\envs\\fin\\lib\\site-packages (from -r requirements.txt (line 16)) (0.2.4)\n",
      "Requirement already satisfied: tensorboard in d:\\anaconda\\envs\\fin\\lib\\site-packages (from -r requirements.txt (line 20)) (2.10.0)\n",
      "Requirement already satisfied: stable-baselines3 in d:\\anaconda\\envs\\fin\\lib\\site-packages (from -r requirements.txt (line 21)) (1.7.0)\n",
      "Requirement already satisfied: alpaca_trade_api in d:\\anaconda\\envs\\fin\\lib\\site-packages (from -r requirements.txt (line 22)) (2.3.0)\n",
      "Requirement already satisfied: exchange_calendars in d:\\anaconda\\envs\\fin\\lib\\site-packages (from -r requirements.txt (line 23)) (4.2.4)\n",
      "Requirement already satisfied: mock in d:\\anaconda\\envs\\fin\\lib\\site-packages (from wrds->-r requirements.txt (line 2)) (5.0.1)\n",
      "Requirement already satisfied: sqlalchemy in d:\\anaconda\\envs\\fin\\lib\\site-packages (from wrds->-r requirements.txt (line 2)) (1.4.46)\n",
      "Requirement already satisfied: psycopg2-binary in d:\\anaconda\\envs\\fin\\lib\\site-packages (from wrds->-r requirements.txt (line 2)) (2.9.5)\n",
      "Requirement already satisfied: scipy<2.0,>=1.3 in d:\\anaconda\\envs\\fin\\lib\\site-packages (from PyPortfolioOpt->-r requirements.txt (line 3)) (1.10.0)\n",
      "Requirement already satisfied: cvxpy<2.0.0,>=1.1.10 in d:\\anaconda\\envs\\fin\\lib\\site-packages (from PyPortfolioOpt->-r requirements.txt (line 3)) (1.3.0)\n",
      "Requirement already satisfied: python-dateutil>=2.8.1 in d:\\anaconda\\envs\\fin\\lib\\site-packages (from pandas->-r requirements.txt (line 5)) (2.8.2)\n",
      "Requirement already satisfied: pytz>=2020.1 in d:\\anaconda\\envs\\fin\\lib\\site-packages (from pandas->-r requirements.txt (line 5)) (2022.7)\n",
      "Requirement already satisfied: typing_extensions in d:\\anaconda\\envs\\fin\\lib\\site-packages (from torch->-r requirements.txt (line 6)) (4.4.0)\n",
      "Requirement already satisfied: scikit-learn>=0.16.1 in d:\\anaconda\\envs\\fin\\lib\\site-packages (from pyfolio->-r requirements.txt (line 10)) (1.2.0)\n",
      "Requirement already satisfied: empyrical>=0.5.0 in d:\\anaconda\\envs\\fin\\lib\\site-packages (from pyfolio->-r requirements.txt (line 10)) (0.5.5)\n",
      "Requirement already satisfied: seaborn>=0.7.1 in d:\\anaconda\\envs\\fin\\lib\\site-packages (from pyfolio->-r requirements.txt (line 10)) (0.12.2)\n",
      "Requirement already satisfied: ipython>=3.2.3 in d:\\anaconda\\envs\\fin\\lib\\site-packages (from pyfolio->-r requirements.txt (line 10)) (8.7.0)\n",
      "Requirement already satisfied: cycler>=0.10 in d:\\anaconda\\envs\\fin\\lib\\site-packages (from matplotlib->-r requirements.txt (line 12)) (0.11.0)\n",
      "Requirement already satisfied: pyparsing>=2.2.1 in d:\\anaconda\\envs\\fin\\lib\\site-packages (from matplotlib->-r requirements.txt (line 12)) (3.0.9)\n",
      "Requirement already satisfied: fonttools>=4.22.0 in d:\\anaconda\\envs\\fin\\lib\\site-packages (from matplotlib->-r requirements.txt (line 12)) (4.25.0)\n",
      "Requirement already satisfied: contourpy>=1.0.1 in d:\\anaconda\\envs\\fin\\lib\\site-packages (from matplotlib->-r requirements.txt (line 12)) (1.0.5)\n",
      "Requirement already satisfied: pillow>=6.2.0 in d:\\anaconda\\envs\\fin\\lib\\site-packages (from matplotlib->-r requirements.txt (line 12)) (9.3.0)\n",
      "Requirement already satisfied: kiwisolver>=1.0.1 in d:\\anaconda\\envs\\fin\\lib\\site-packages (from matplotlib->-r requirements.txt (line 12)) (1.4.4)\n",
      "Requirement already satisfied: packaging>=20.0 in d:\\anaconda\\envs\\fin\\lib\\site-packages (from matplotlib->-r requirements.txt (line 12)) (22.0)\n",
      "Requirement already satisfied: cloudpickle>=1.2.0 in d:\\anaconda\\envs\\fin\\lib\\site-packages (from gym->-r requirements.txt (line 13)) (2.2.1)\n",
      "Requirement already satisfied: multitasking>=0.0.7 in d:\\anaconda\\envs\\fin\\lib\\site-packages (from yfinance->-r requirements.txt (line 16)) (0.0.11)\n",
      "Requirement already satisfied: appdirs>=1.4.4 in d:\\anaconda\\envs\\fin\\lib\\site-packages (from yfinance->-r requirements.txt (line 16)) (1.4.4)\n",
      "Requirement already satisfied: cryptography>=3.3.2 in d:\\anaconda\\envs\\fin\\lib\\site-packages (from yfinance->-r requirements.txt (line 16)) (38.0.4)\n",
      "Requirement already satisfied: requests>=2.26 in d:\\anaconda\\envs\\fin\\lib\\site-packages (from yfinance->-r requirements.txt (line 16)) (2.28.1)\n",
      "Requirement already satisfied: frozendict>=2.3.4 in d:\\anaconda\\envs\\fin\\lib\\site-packages (from yfinance->-r requirements.txt (line 16)) (2.3.4)\n",
      "Requirement already satisfied: lxml>=4.9.1 in d:\\anaconda\\envs\\fin\\lib\\site-packages (from yfinance->-r requirements.txt (line 16)) (4.9.1)\n",
      "Requirement already satisfied: html5lib>=1.1 in d:\\anaconda\\envs\\fin\\lib\\site-packages (from yfinance->-r requirements.txt (line 16)) (1.1)\n",
      "Requirement already satisfied: beautifulsoup4>=4.11.1 in d:\\anaconda\\envs\\fin\\lib\\site-packages (from yfinance->-r requirements.txt (line 16)) (4.11.1)\n",
      "Requirement already satisfied: absl-py>=0.4 in d:\\anaconda\\envs\\fin\\lib\\site-packages (from tensorboard->-r requirements.txt (line 20)) (1.3.0)\n",
      "Requirement already satisfied: markdown>=2.6.8 in d:\\anaconda\\envs\\fin\\lib\\site-packages (from tensorboard->-r requirements.txt (line 20)) (3.4.1)\n",
      "Requirement already satisfied: google-auth<3,>=1.6.3 in d:\\anaconda\\envs\\fin\\lib\\site-packages (from tensorboard->-r requirements.txt (line 20)) (2.6.0)\n",
      "Requirement already satisfied: protobuf<3.20,>=3.9.2 in c:\\users\\thinkpad\\appdata\\roaming\\python\\python310\\site-packages (from tensorboard->-r requirements.txt (line 20)) (3.19.6)\n",
      "Requirement already satisfied: werkzeug>=1.0.1 in d:\\anaconda\\envs\\fin\\lib\\site-packages (from tensorboard->-r requirements.txt (line 20)) (2.2.2)\n",
      "Requirement already satisfied: tensorboard-plugin-wit>=1.6.0 in d:\\anaconda\\envs\\fin\\lib\\site-packages (from tensorboard->-r requirements.txt (line 20)) (1.8.1)\n",
      "Requirement already satisfied: tensorboard-data-server<0.7.0,>=0.6.0 in d:\\anaconda\\envs\\fin\\lib\\site-packages (from tensorboard->-r requirements.txt (line 20)) (0.6.1)\n",
      "Requirement already satisfied: google-auth-oauthlib<0.5,>=0.4.1 in d:\\anaconda\\envs\\fin\\lib\\site-packages (from tensorboard->-r requirements.txt (line 20)) (0.4.4)\n",
      "Requirement already satisfied: wheel>=0.26 in d:\\anaconda\\envs\\fin\\lib\\site-packages (from tensorboard->-r requirements.txt (line 20)) (0.37.1)\n",
      "Requirement already satisfied: setuptools>=41.0.0 in d:\\anaconda\\envs\\fin\\lib\\site-packages (from tensorboard->-r requirements.txt (line 20)) (64.0.2)\n",
      "Requirement already satisfied: grpcio>=1.24.3 in d:\\anaconda\\envs\\fin\\lib\\site-packages (from tensorboard->-r requirements.txt (line 20)) (1.42.0)\n",
      "Requirement already satisfied: importlib-metadata~=4.13 in d:\\anaconda\\envs\\fin\\lib\\site-packages (from stable-baselines3->-r requirements.txt (line 21)) (4.13.0)\n",
      "Requirement already satisfied: websocket-client<2,>=0.56.0 in d:\\anaconda\\envs\\fin\\lib\\site-packages (from alpaca_trade_api->-r requirements.txt (line 22)) (0.58.0)\n",
      "Requirement already satisfied: deprecation==2.1.0 in d:\\anaconda\\envs\\fin\\lib\\site-packages (from alpaca_trade_api->-r requirements.txt (line 22)) (2.1.0)\n",
      "Requirement already satisfied: aiohttp==3.8.1 in d:\\anaconda\\envs\\fin\\lib\\site-packages (from alpaca_trade_api->-r requirements.txt (line 22)) (3.8.1)\n",
      "Requirement already satisfied: msgpack==1.0.3 in d:\\anaconda\\envs\\fin\\lib\\site-packages (from alpaca_trade_api->-r requirements.txt (line 22)) (1.0.3)\n",
      "Requirement already satisfied: websockets<11,>=9.0 in d:\\anaconda\\envs\\fin\\lib\\site-packages (from alpaca_trade_api->-r requirements.txt (line 22)) (10.4)\n",
      "Requirement already satisfied: urllib3<2,>1.24 in d:\\anaconda\\envs\\fin\\lib\\site-packages (from alpaca_trade_api->-r requirements.txt (line 22)) (1.26.14)\n",
      "Requirement already satisfied: PyYAML==6.0 in d:\\anaconda\\envs\\fin\\lib\\site-packages (from alpaca_trade_api->-r requirements.txt (line 22)) (6.0)\n",
      "Requirement already satisfied: async-timeout<5.0,>=4.0.0a3 in d:\\anaconda\\envs\\fin\\lib\\site-packages (from aiohttp==3.8.1->alpaca_trade_api->-r requirements.txt (line 22)) (4.0.2)\n",
      "Requirement already satisfied: yarl<2.0,>=1.0 in d:\\anaconda\\envs\\fin\\lib\\site-packages (from aiohttp==3.8.1->alpaca_trade_api->-r requirements.txt (line 22)) (1.8.1)\n",
      "Requirement already satisfied: multidict<7.0,>=4.5 in d:\\anaconda\\envs\\fin\\lib\\site-packages (from aiohttp==3.8.1->alpaca_trade_api->-r requirements.txt (line 22)) (6.0.2)\n",
      "Requirement already satisfied: frozenlist>=1.1.1 in d:\\anaconda\\envs\\fin\\lib\\site-packages (from aiohttp==3.8.1->alpaca_trade_api->-r requirements.txt (line 22)) (1.3.3)\n",
      "Requirement already satisfied: attrs>=17.3.0 in d:\\anaconda\\envs\\fin\\lib\\site-packages (from aiohttp==3.8.1->alpaca_trade_api->-r requirements.txt (line 22)) (22.1.0)\n",
      "Requirement already satisfied: aiosignal>=1.1.2 in d:\\anaconda\\envs\\fin\\lib\\site-packages (from aiohttp==3.8.1->alpaca_trade_api->-r requirements.txt (line 22)) (1.2.0)\n",
      "Requirement already satisfied: charset-normalizer<3.0,>=2.0 in d:\\anaconda\\envs\\fin\\lib\\site-packages (from aiohttp==3.8.1->alpaca_trade_api->-r requirements.txt (line 22)) (2.0.4)\n",
      "Requirement already satisfied: pyluach in d:\\anaconda\\envs\\fin\\lib\\site-packages (from exchange_calendars->-r requirements.txt (line 23)) (2.0.2)\n",
      "Requirement already satisfied: toolz in d:\\anaconda\\envs\\fin\\lib\\site-packages (from exchange_calendars->-r requirements.txt (line 23)) (0.12.0)\n",
      "Requirement already satisfied: korean-lunar-calendar in d:\\anaconda\\envs\\fin\\lib\\site-packages (from exchange_calendars->-r requirements.txt (line 23)) (0.3.1)\n",
      "Requirement already satisfied: soupsieve>1.2 in d:\\anaconda\\envs\\fin\\lib\\site-packages (from beautifulsoup4>=4.11.1->yfinance->-r requirements.txt (line 16)) (2.3.2.post1)\n",
      "Requirement already satisfied: cffi>=1.12 in d:\\anaconda\\envs\\fin\\lib\\site-packages (from cryptography>=3.3.2->yfinance->-r requirements.txt (line 16)) (1.15.1)\n",
      "Requirement already satisfied: scs>=1.1.6 in d:\\anaconda\\envs\\fin\\lib\\site-packages (from cvxpy<2.0.0,>=1.1.10->PyPortfolioOpt->-r requirements.txt (line 3)) (3.2.2)\n",
      "Requirement already satisfied: ecos>=2 in d:\\anaconda\\envs\\fin\\lib\\site-packages (from cvxpy<2.0.0,>=1.1.10->PyPortfolioOpt->-r requirements.txt (line 3)) (2.0.12)\n",
      "Requirement already satisfied: osqp>=0.4.1 in d:\\anaconda\\envs\\fin\\lib\\site-packages (from cvxpy<2.0.0,>=1.1.10->PyPortfolioOpt->-r requirements.txt (line 3)) (0.6.2.post8)\n",
      "Requirement already satisfied: pandas-datareader>=0.2 in d:\\anaconda\\envs\\fin\\lib\\site-packages (from empyrical>=0.5.0->pyfolio->-r requirements.txt (line 10)) (0.10.0)\n",
      "Requirement already satisfied: cachetools<6.0,>=2.0.0 in d:\\anaconda\\envs\\fin\\lib\\site-packages (from google-auth<3,>=1.6.3->tensorboard->-r requirements.txt (line 20)) (4.2.2)\n",
      "Requirement already satisfied: six>=1.9.0 in d:\\anaconda\\envs\\fin\\lib\\site-packages (from google-auth<3,>=1.6.3->tensorboard->-r requirements.txt (line 20)) (1.16.0)\n",
      "Requirement already satisfied: rsa<5,>=3.1.4 in d:\\anaconda\\envs\\fin\\lib\\site-packages (from google-auth<3,>=1.6.3->tensorboard->-r requirements.txt (line 20)) (4.7.2)\n",
      "Requirement already satisfied: pyasn1-modules>=0.2.1 in d:\\anaconda\\envs\\fin\\lib\\site-packages (from google-auth<3,>=1.6.3->tensorboard->-r requirements.txt (line 20)) (0.2.8)\n",
      "Requirement already satisfied: requests-oauthlib>=0.7.0 in d:\\anaconda\\envs\\fin\\lib\\site-packages (from google-auth-oauthlib<0.5,>=0.4.1->tensorboard->-r requirements.txt (line 20)) (1.3.0)\n",
      "Requirement already satisfied: webencodings in d:\\anaconda\\envs\\fin\\lib\\site-packages (from html5lib>=1.1->yfinance->-r requirements.txt (line 16)) (0.5.1)\n",
      "Requirement already satisfied: zipp>=0.5 in d:\\anaconda\\envs\\fin\\lib\\site-packages (from importlib-metadata~=4.13->stable-baselines3->-r requirements.txt (line 21)) (3.11.0)\n",
      "Requirement already satisfied: colorama in d:\\anaconda\\envs\\fin\\lib\\site-packages (from ipython>=3.2.3->pyfolio->-r requirements.txt (line 10)) (0.4.6)\n",
      "Requirement already satisfied: traitlets>=5 in d:\\anaconda\\envs\\fin\\lib\\site-packages (from ipython>=3.2.3->pyfolio->-r requirements.txt (line 10)) (5.7.1)\n",
      "Requirement already satisfied: jedi>=0.16 in d:\\anaconda\\envs\\fin\\lib\\site-packages (from ipython>=3.2.3->pyfolio->-r requirements.txt (line 10)) (0.18.1)\n",
      "Requirement already satisfied: pygments>=2.4.0 in d:\\anaconda\\envs\\fin\\lib\\site-packages (from ipython>=3.2.3->pyfolio->-r requirements.txt (line 10)) (2.11.2)\n",
      "Requirement already satisfied: backcall in d:\\anaconda\\envs\\fin\\lib\\site-packages (from ipython>=3.2.3->pyfolio->-r requirements.txt (line 10)) (0.2.0)\n",
      "Requirement already satisfied: stack-data in d:\\anaconda\\envs\\fin\\lib\\site-packages (from ipython>=3.2.3->pyfolio->-r requirements.txt (line 10)) (0.2.0)\n",
      "Requirement already satisfied: pickleshare in d:\\anaconda\\envs\\fin\\lib\\site-packages (from ipython>=3.2.3->pyfolio->-r requirements.txt (line 10)) (0.7.5)\n",
      "Requirement already satisfied: prompt-toolkit<3.1.0,>=3.0.11 in d:\\anaconda\\envs\\fin\\lib\\site-packages (from ipython>=3.2.3->pyfolio->-r requirements.txt (line 10)) (3.0.36)\n",
      "Requirement already satisfied: matplotlib-inline in d:\\anaconda\\envs\\fin\\lib\\site-packages (from ipython>=3.2.3->pyfolio->-r requirements.txt (line 10)) (0.1.6)\n",
      "Requirement already satisfied: decorator in d:\\anaconda\\envs\\fin\\lib\\site-packages (from ipython>=3.2.3->pyfolio->-r requirements.txt (line 10)) (5.1.1)\n",
      "Requirement already satisfied: certifi>=2017.4.17 in d:\\anaconda\\envs\\fin\\lib\\site-packages (from requests>=2.26->yfinance->-r requirements.txt (line 16)) (2022.12.7)\n",
      "Requirement already satisfied: idna<4,>=2.5 in d:\\anaconda\\envs\\fin\\lib\\site-packages (from requests>=2.26->yfinance->-r requirements.txt (line 16)) (3.4)\n",
      "Requirement already satisfied: joblib>=1.1.1 in d:\\anaconda\\envs\\fin\\lib\\site-packages (from scikit-learn>=0.16.1->pyfolio->-r requirements.txt (line 10)) (1.2.0)\n",
      "Requirement already satisfied: threadpoolctl>=2.0.0 in d:\\anaconda\\envs\\fin\\lib\\site-packages (from scikit-learn>=0.16.1->pyfolio->-r requirements.txt (line 10)) (3.1.0)\n",
      "Requirement already satisfied: MarkupSafe>=2.1.1 in d:\\anaconda\\envs\\fin\\lib\\site-packages (from werkzeug>=1.0.1->tensorboard->-r requirements.txt (line 20)) (2.1.1)\n",
      "Requirement already satisfied: greenlet!=0.4.17 in d:\\anaconda\\envs\\fin\\lib\\site-packages (from sqlalchemy->wrds->-r requirements.txt (line 2)) (2.0.1)\n",
      "Requirement already satisfied: pycparser in d:\\anaconda\\envs\\fin\\lib\\site-packages (from cffi>=1.12->cryptography>=3.3.2->yfinance->-r requirements.txt (line 16)) (2.21)\n",
      "Requirement already satisfied: parso<0.9.0,>=0.8.0 in d:\\anaconda\\envs\\fin\\lib\\site-packages (from jedi>=0.16->ipython>=3.2.3->pyfolio->-r requirements.txt (line 10)) (0.8.3)\n",
      "Requirement already satisfied: qdldl in d:\\anaconda\\envs\\fin\\lib\\site-packages (from osqp>=0.4.1->cvxpy<2.0.0,>=1.1.10->PyPortfolioOpt->-r requirements.txt (line 3)) (0.1.5.post3)\n",
      "Requirement already satisfied: wcwidth in d:\\anaconda\\envs\\fin\\lib\\site-packages (from prompt-toolkit<3.1.0,>=3.0.11->ipython>=3.2.3->pyfolio->-r requirements.txt (line 10)) (0.2.5)\n",
      "Requirement already satisfied: pyasn1<0.5.0,>=0.4.6 in d:\\anaconda\\envs\\fin\\lib\\site-packages (from pyasn1-modules>=0.2.1->google-auth<3,>=1.6.3->tensorboard->-r requirements.txt (line 20)) (0.4.8)\n",
      "Requirement already satisfied: oauthlib>=3.0.0 in d:\\anaconda\\envs\\fin\\lib\\site-packages (from requests-oauthlib>=0.7.0->google-auth-oauthlib<0.5,>=0.4.1->tensorboard->-r requirements.txt (line 20)) (3.2.1)\n",
      "Requirement already satisfied: asttokens in d:\\anaconda\\envs\\fin\\lib\\site-packages (from stack-data->ipython>=3.2.3->pyfolio->-r requirements.txt (line 10)) (2.0.5)\n",
      "Requirement already satisfied: pure-eval in d:\\anaconda\\envs\\fin\\lib\\site-packages (from stack-data->ipython>=3.2.3->pyfolio->-r requirements.txt (line 10)) (0.2.2)\n",
      "Requirement already satisfied: executing in d:\\anaconda\\envs\\fin\\lib\\site-packages (from stack-data->ipython>=3.2.3->pyfolio->-r requirements.txt (line 10)) (0.8.3)\n"
     ]
    }
   ],
   "source": [
    "! pip install -r requirements.txt"
   ]
  },
  {
   "cell_type": "code",
   "execution_count": 4,
   "metadata": {
    "colab": {
     "base_uri": "https://localhost:8080/"
    },
    "id": "lPqeTTwoh1hn",
    "outputId": "08159edd-35c4-4dd6-8462-3e64f26d71f4"
   },
   "outputs": [
    {
     "name": "stderr",
     "output_type": "stream",
     "text": [
      "d:\\Anaconda\\envs\\fin\\lib\\site-packages\\pyfolio\\pos.py:26: UserWarning: Module \"zipline.assets\" not found; multipliers will not be applied to position notionals.\n",
      "  warnings.warn(\n"
     ]
    }
   ],
   "source": [
    "import pandas as pd\n",
    "import numpy as np\n",
    "import matplotlib\n",
    "import matplotlib.pyplot as plt\n",
    "# matplotlib.use('Agg')\n",
    "import datetime\n",
    "\n",
    "%matplotlib inline\n",
    "from finrl.meta.preprocessor.yahoodownloader import YahooDownloader\n",
    "from finrl.meta.preprocessor.preprocessors import FeatureEngineer, data_split\n",
    "from finrl.meta.env_stock_trading.env_stocktrading import StockTradingEnv\n",
    "from finrl.agents.stablebaselines3.models import DRLAgent\n",
    "from stable_baselines3.common.logger import configure\n",
    "from finrl.meta.data_processor import DataProcessor\n",
    "\n",
    "from finrl.plot import backtest_stats, backtest_plot, get_daily_return, get_baseline\n",
    "from pprint import pprint\n",
    "\n",
    "# import sys\n",
    "# sys.path.append(\"../FinRL\")\n",
    "\n",
    "import itertools"
   ]
  },
  {
   "cell_type": "code",
   "execution_count": 5,
   "metadata": {
    "id": "RtUc_ofKmpdy"
   },
   "outputs": [],
   "source": [
    "from finrl import config\n",
    "from finrl import config_tickers\n",
    "import os\n",
    "from finrl.main import check_and_make_directories\n",
    "from finrl.config import (\n",
    "    DATA_SAVE_DIR,\n",
    "    TRAINED_MODEL_DIR,\n",
    "    TENSORBOARD_LOG_DIR,\n",
    "    RESULTS_DIR,\n",
    "    INDICATORS,\n",
    "    TRAIN_START_DATE,\n",
    "    TRAIN_END_DATE,\n",
    "    TEST_START_DATE,\n",
    "    TEST_END_DATE,\n",
    "    TRADE_START_DATE,\n",
    "    TRADE_END_DATE,\n",
    ")\n",
    "check_and_make_directories([DATA_SAVE_DIR, TRAINED_MODEL_DIR, TENSORBOARD_LOG_DIR, RESULTS_DIR])\n",
    "\n"
   ]
  },
  {
   "cell_type": "code",
   "execution_count": 6,
   "metadata": {
    "colab": {
     "base_uri": "https://localhost:8080/",
     "height": 35
    },
    "id": "h3XJnvrbLp-C",
    "outputId": "2a4358a8-0656-4d5e-dc3e-b693cae3c5b8"
   },
   "outputs": [
    {
     "data": {
      "text/plain": [
       "'2020-07-31'"
      ]
     },
     "execution_count": 6,
     "metadata": {},
     "output_type": "execute_result"
    }
   ],
   "source": [
    "# from config.py, TRAIN_START_DATE is a string\n",
    "TRAIN_START_DATE\n",
    "# from config.py, TRAIN_END_DATE is a string\n",
    "TRAIN_END_DATE"
   ]
  },
  {
   "cell_type": "code",
   "execution_count": 7,
   "metadata": {
    "id": "FUnY8WEfLq3C"
   },
   "outputs": [],
   "source": [
    "TRAIN_START_DATE = '2010-01-01'\n",
    "TRAIN_END_DATE = '2021-10-01'\n",
    "TRADE_START_DATE = '2021-10-01'\n",
    "TRADE_END_DATE = '2023-03-01'"
   ]
  },
  {
   "cell_type": "code",
   "execution_count": 8,
   "metadata": {
    "colab": {
     "base_uri": "https://localhost:8080/"
    },
    "id": "yCKm4om-s9kE",
    "outputId": "a9d4f123-e338-4eca-feb1-358503317d9a"
   },
   "outputs": [
    {
     "name": "stdout",
     "output_type": "stream",
     "text": [
      "[*********************100%***********************]  1 of 1 completed\n",
      "[*********************100%***********************]  1 of 1 completed\n",
      "[*********************100%***********************]  1 of 1 completed\n",
      "[*********************100%***********************]  1 of 1 completed\n",
      "[*********************100%***********************]  1 of 1 completed\n",
      "[*********************100%***********************]  1 of 1 completed\n",
      "[*********************100%***********************]  1 of 1 completed\n",
      "[*********************100%***********************]  1 of 1 completed\n",
      "[*********************100%***********************]  1 of 1 completed\n",
      "[*********************100%***********************]  1 of 1 completed\n",
      "[*********************100%***********************]  1 of 1 completed\n",
      "[*********************100%***********************]  1 of 1 completed\n",
      "[*********************100%***********************]  1 of 1 completed\n",
      "[*********************100%***********************]  1 of 1 completed\n",
      "[*********************100%***********************]  1 of 1 completed\n",
      "[*********************100%***********************]  1 of 1 completed\n",
      "[*********************100%***********************]  1 of 1 completed\n",
      "[*********************100%***********************]  1 of 1 completed\n",
      "[*********************100%***********************]  1 of 1 completed\n",
      "[*********************100%***********************]  1 of 1 completed\n",
      "[*********************100%***********************]  1 of 1 completed\n",
      "[*********************100%***********************]  1 of 1 completed\n",
      "[*********************100%***********************]  1 of 1 completed\n",
      "[*********************100%***********************]  1 of 1 completed\n",
      "[*********************100%***********************]  1 of 1 completed\n",
      "[*********************100%***********************]  1 of 1 completed\n",
      "[*********************100%***********************]  1 of 1 completed\n",
      "[*********************100%***********************]  1 of 1 completed\n",
      "[*********************100%***********************]  1 of 1 completed\n",
      "[*********************100%***********************]  1 of 1 completed\n",
      "Shape of DataFrame:  (97013, 8)\n"
     ]
    }
   ],
   "source": [
    "df = YahooDownloader(start_date = TRAIN_START_DATE,\n",
    "                     end_date = TRADE_END_DATE,\n",
    "                     ticker_list = config_tickers.DOW_30_TICKER).fetch_data()"
   ]
  },
  {
   "cell_type": "code",
   "execution_count": 9,
   "metadata": {
    "colab": {
     "base_uri": "https://localhost:8080/"
    },
    "id": "JzqRRTOX6aFu",
    "outputId": "e302049c-08e1-4ff0-ce60-7faf71776eb7"
   },
   "outputs": [
    {
     "name": "stdout",
     "output_type": "stream",
     "text": [
      "['AXP', 'AMGN', 'AAPL', 'BA', 'CAT', 'CSCO', 'CVX', 'GS', 'HD', 'HON', 'IBM', 'INTC', 'JNJ', 'KO', 'JPM', 'MCD', 'MMM', 'MRK', 'MSFT', 'NKE', 'PG', 'TRV', 'UNH', 'CRM', 'VZ', 'V', 'WBA', 'WMT', 'DIS', 'DOW']\n"
     ]
    }
   ],
   "source": [
    "print(config_tickers.DOW_30_TICKER)"
   ]
  },
  {
   "cell_type": "code",
   "execution_count": 10,
   "metadata": {
    "colab": {
     "base_uri": "https://localhost:8080/"
    },
    "id": "CV3HrZHLh1hy",
    "outputId": "81ee90f7-c290-40d9-81a0-8b771f3699ed"
   },
   "outputs": [
    {
     "data": {
      "text/plain": [
       "(97013, 8)"
      ]
     },
     "execution_count": 10,
     "metadata": {},
     "output_type": "execute_result"
    }
   ],
   "source": [
    "df.shape"
   ]
  },
  {
   "cell_type": "code",
   "execution_count": 11,
   "metadata": {
    "colab": {
     "base_uri": "https://localhost:8080/",
     "height": 206
    },
    "id": "4hYkeaPiICHS",
    "outputId": "b64d30ce-6f5a-461e-c6fe-1baee4642b4d"
   },
   "outputs": [
    {
     "data": {
      "text/html": [
       "<div>\n",
       "<style scoped>\n",
       "    .dataframe tbody tr th:only-of-type {\n",
       "        vertical-align: middle;\n",
       "    }\n",
       "\n",
       "    .dataframe tbody tr th {\n",
       "        vertical-align: top;\n",
       "    }\n",
       "\n",
       "    .dataframe thead th {\n",
       "        text-align: right;\n",
       "    }\n",
       "</style>\n",
       "<table border=\"1\" class=\"dataframe\">\n",
       "  <thead>\n",
       "    <tr style=\"text-align: right;\">\n",
       "      <th></th>\n",
       "      <th>date</th>\n",
       "      <th>open</th>\n",
       "      <th>high</th>\n",
       "      <th>low</th>\n",
       "      <th>close</th>\n",
       "      <th>volume</th>\n",
       "      <th>tic</th>\n",
       "      <th>day</th>\n",
       "    </tr>\n",
       "  </thead>\n",
       "  <tbody>\n",
       "    <tr>\n",
       "      <th>0</th>\n",
       "      <td>2010-01-04</td>\n",
       "      <td>7.622500</td>\n",
       "      <td>7.660714</td>\n",
       "      <td>7.585000</td>\n",
       "      <td>6.505281</td>\n",
       "      <td>493729600</td>\n",
       "      <td>AAPL</td>\n",
       "      <td>0</td>\n",
       "    </tr>\n",
       "    <tr>\n",
       "      <th>1</th>\n",
       "      <td>2010-01-04</td>\n",
       "      <td>56.630001</td>\n",
       "      <td>57.869999</td>\n",
       "      <td>56.560001</td>\n",
       "      <td>42.888958</td>\n",
       "      <td>5277400</td>\n",
       "      <td>AMGN</td>\n",
       "      <td>0</td>\n",
       "    </tr>\n",
       "    <tr>\n",
       "      <th>2</th>\n",
       "      <td>2010-01-04</td>\n",
       "      <td>40.810001</td>\n",
       "      <td>41.099998</td>\n",
       "      <td>40.389999</td>\n",
       "      <td>33.675976</td>\n",
       "      <td>6894300</td>\n",
       "      <td>AXP</td>\n",
       "      <td>0</td>\n",
       "    </tr>\n",
       "    <tr>\n",
       "      <th>3</th>\n",
       "      <td>2010-01-04</td>\n",
       "      <td>55.720001</td>\n",
       "      <td>56.389999</td>\n",
       "      <td>54.799999</td>\n",
       "      <td>43.777561</td>\n",
       "      <td>6186700</td>\n",
       "      <td>BA</td>\n",
       "      <td>0</td>\n",
       "    </tr>\n",
       "    <tr>\n",
       "      <th>4</th>\n",
       "      <td>2010-01-04</td>\n",
       "      <td>57.650002</td>\n",
       "      <td>59.189999</td>\n",
       "      <td>57.509998</td>\n",
       "      <td>41.156906</td>\n",
       "      <td>7325600</td>\n",
       "      <td>CAT</td>\n",
       "      <td>0</td>\n",
       "    </tr>\n",
       "  </tbody>\n",
       "</table>\n",
       "</div>"
      ],
      "text/plain": [
       "         date       open       high        low      close     volume   tic  \\\n",
       "0  2010-01-04   7.622500   7.660714   7.585000   6.505281  493729600  AAPL   \n",
       "1  2010-01-04  56.630001  57.869999  56.560001  42.888958    5277400  AMGN   \n",
       "2  2010-01-04  40.810001  41.099998  40.389999  33.675976    6894300   AXP   \n",
       "3  2010-01-04  55.720001  56.389999  54.799999  43.777561    6186700    BA   \n",
       "4  2010-01-04  57.650002  59.189999  57.509998  41.156906    7325600   CAT   \n",
       "\n",
       "   day  \n",
       "0    0  \n",
       "1    0  \n",
       "2    0  \n",
       "3    0  \n",
       "4    0  "
      ]
     },
     "execution_count": 11,
     "metadata": {},
     "output_type": "execute_result"
    }
   ],
   "source": [
    "df.sort_values(['date','tic'],ignore_index=True).head()"
   ]
  },
  {
   "cell_type": "code",
   "execution_count": 12,
   "metadata": {
    "colab": {
     "base_uri": "https://localhost:8080/"
    },
    "id": "PmKP-1ii3RLS",
    "outputId": "6e4b4cc7-593b-4403-eb2a-828f55ed5a89"
   },
   "outputs": [
    {
     "name": "stdout",
     "output_type": "stream",
     "text": [
      "Successfully added technical indicators\n",
      "[*********************100%***********************]  1 of 1 completed\n",
      "Shape of DataFrame:  (3310, 8)\n",
      "Successfully added vix\n",
      "Successfully added turbulence index\n"
     ]
    }
   ],
   "source": [
    "fe = FeatureEngineer(\n",
    "                    use_technical_indicator=True,\n",
    "                    tech_indicator_list = INDICATORS,\n",
    "                    use_vix=True,\n",
    "                    use_turbulence=True,\n",
    "                    user_defined_feature = False)\n",
    "\n",
    "processed = fe.preprocess_data(df)"
   ]
  },
  {
   "cell_type": "code",
   "execution_count": 13,
   "metadata": {
    "id": "Kixon2tR3RLT"
   },
   "outputs": [],
   "source": [
    "list_ticker = processed[\"tic\"].unique().tolist()\n",
    "list_date = list(pd.date_range(processed['date'].min(),processed['date'].max()).astype(str))\n",
    "combination = list(itertools.product(list_date,list_ticker))\n",
    "\n",
    "processed_full = pd.DataFrame(combination,columns=[\"date\",\"tic\"]).merge(processed,on=[\"date\",\"tic\"],how=\"left\")\n",
    "processed_full = processed_full[processed_full['date'].isin(processed['date'])]\n",
    "processed_full = processed_full.sort_values(['date','tic'])\n",
    "\n",
    "processed_full = processed_full.fillna(0)"
   ]
  },
  {
   "cell_type": "code",
   "execution_count": 14,
   "metadata": {
    "colab": {
     "base_uri": "https://localhost:8080/",
     "height": 407
    },
    "id": "grvhGJJII3Xn",
    "outputId": "627d411c-d197-4019-8940-4d88a68dbfc9"
   },
   "outputs": [
    {
     "data": {
      "text/html": [
       "<div>\n",
       "<style scoped>\n",
       "    .dataframe tbody tr th:only-of-type {\n",
       "        vertical-align: middle;\n",
       "    }\n",
       "\n",
       "    .dataframe tbody tr th {\n",
       "        vertical-align: top;\n",
       "    }\n",
       "\n",
       "    .dataframe thead th {\n",
       "        text-align: right;\n",
       "    }\n",
       "</style>\n",
       "<table border=\"1\" class=\"dataframe\">\n",
       "  <thead>\n",
       "    <tr style=\"text-align: right;\">\n",
       "      <th></th>\n",
       "      <th>date</th>\n",
       "      <th>tic</th>\n",
       "      <th>open</th>\n",
       "      <th>high</th>\n",
       "      <th>low</th>\n",
       "      <th>close</th>\n",
       "      <th>volume</th>\n",
       "      <th>day</th>\n",
       "      <th>macd</th>\n",
       "      <th>boll_ub</th>\n",
       "      <th>boll_lb</th>\n",
       "      <th>rsi_30</th>\n",
       "      <th>cci_30</th>\n",
       "      <th>dx_30</th>\n",
       "      <th>close_30_sma</th>\n",
       "      <th>close_60_sma</th>\n",
       "      <th>vix</th>\n",
       "      <th>turbulence</th>\n",
       "    </tr>\n",
       "  </thead>\n",
       "  <tbody>\n",
       "    <tr>\n",
       "      <th>0</th>\n",
       "      <td>2010-01-04</td>\n",
       "      <td>AAPL</td>\n",
       "      <td>7.622500</td>\n",
       "      <td>7.660714</td>\n",
       "      <td>7.585000</td>\n",
       "      <td>6.505281</td>\n",
       "      <td>493729600.0</td>\n",
       "      <td>0.0</td>\n",
       "      <td>0.0</td>\n",
       "      <td>6.526807</td>\n",
       "      <td>6.495</td>\n",
       "      <td>100.0</td>\n",
       "      <td>66.666667</td>\n",
       "      <td>100.0</td>\n",
       "      <td>6.505281</td>\n",
       "      <td>6.505281</td>\n",
       "      <td>20.040001</td>\n",
       "      <td>0.0</td>\n",
       "    </tr>\n",
       "    <tr>\n",
       "      <th>1</th>\n",
       "      <td>2010-01-04</td>\n",
       "      <td>AMGN</td>\n",
       "      <td>56.630001</td>\n",
       "      <td>57.869999</td>\n",
       "      <td>56.560001</td>\n",
       "      <td>42.888958</td>\n",
       "      <td>5277400.0</td>\n",
       "      <td>0.0</td>\n",
       "      <td>0.0</td>\n",
       "      <td>6.526807</td>\n",
       "      <td>6.495</td>\n",
       "      <td>100.0</td>\n",
       "      <td>66.666667</td>\n",
       "      <td>100.0</td>\n",
       "      <td>42.888958</td>\n",
       "      <td>42.888958</td>\n",
       "      <td>20.040001</td>\n",
       "      <td>0.0</td>\n",
       "    </tr>\n",
       "    <tr>\n",
       "      <th>2</th>\n",
       "      <td>2010-01-04</td>\n",
       "      <td>AXP</td>\n",
       "      <td>40.810001</td>\n",
       "      <td>41.099998</td>\n",
       "      <td>40.389999</td>\n",
       "      <td>33.675976</td>\n",
       "      <td>6894300.0</td>\n",
       "      <td>0.0</td>\n",
       "      <td>0.0</td>\n",
       "      <td>6.526807</td>\n",
       "      <td>6.495</td>\n",
       "      <td>100.0</td>\n",
       "      <td>66.666667</td>\n",
       "      <td>100.0</td>\n",
       "      <td>33.675976</td>\n",
       "      <td>33.675976</td>\n",
       "      <td>20.040001</td>\n",
       "      <td>0.0</td>\n",
       "    </tr>\n",
       "    <tr>\n",
       "      <th>3</th>\n",
       "      <td>2010-01-04</td>\n",
       "      <td>BA</td>\n",
       "      <td>55.720001</td>\n",
       "      <td>56.389999</td>\n",
       "      <td>54.799999</td>\n",
       "      <td>43.777561</td>\n",
       "      <td>6186700.0</td>\n",
       "      <td>0.0</td>\n",
       "      <td>0.0</td>\n",
       "      <td>6.526807</td>\n",
       "      <td>6.495</td>\n",
       "      <td>100.0</td>\n",
       "      <td>66.666667</td>\n",
       "      <td>100.0</td>\n",
       "      <td>43.777561</td>\n",
       "      <td>43.777561</td>\n",
       "      <td>20.040001</td>\n",
       "      <td>0.0</td>\n",
       "    </tr>\n",
       "    <tr>\n",
       "      <th>4</th>\n",
       "      <td>2010-01-04</td>\n",
       "      <td>CAT</td>\n",
       "      <td>57.650002</td>\n",
       "      <td>59.189999</td>\n",
       "      <td>57.509998</td>\n",
       "      <td>41.156906</td>\n",
       "      <td>7325600.0</td>\n",
       "      <td>0.0</td>\n",
       "      <td>0.0</td>\n",
       "      <td>6.526807</td>\n",
       "      <td>6.495</td>\n",
       "      <td>100.0</td>\n",
       "      <td>66.666667</td>\n",
       "      <td>100.0</td>\n",
       "      <td>41.156906</td>\n",
       "      <td>41.156906</td>\n",
       "      <td>20.040001</td>\n",
       "      <td>0.0</td>\n",
       "    </tr>\n",
       "    <tr>\n",
       "      <th>5</th>\n",
       "      <td>2010-01-04</td>\n",
       "      <td>CRM</td>\n",
       "      <td>18.652500</td>\n",
       "      <td>18.882500</td>\n",
       "      <td>18.547501</td>\n",
       "      <td>18.705000</td>\n",
       "      <td>7906000.0</td>\n",
       "      <td>0.0</td>\n",
       "      <td>0.0</td>\n",
       "      <td>6.526807</td>\n",
       "      <td>6.495</td>\n",
       "      <td>100.0</td>\n",
       "      <td>66.666667</td>\n",
       "      <td>100.0</td>\n",
       "      <td>18.705000</td>\n",
       "      <td>18.705000</td>\n",
       "      <td>20.040001</td>\n",
       "      <td>0.0</td>\n",
       "    </tr>\n",
       "    <tr>\n",
       "      <th>6</th>\n",
       "      <td>2010-01-04</td>\n",
       "      <td>CSCO</td>\n",
       "      <td>24.110001</td>\n",
       "      <td>24.840000</td>\n",
       "      <td>24.010000</td>\n",
       "      <td>17.394133</td>\n",
       "      <td>59853700.0</td>\n",
       "      <td>0.0</td>\n",
       "      <td>0.0</td>\n",
       "      <td>6.526807</td>\n",
       "      <td>6.495</td>\n",
       "      <td>100.0</td>\n",
       "      <td>66.666667</td>\n",
       "      <td>100.0</td>\n",
       "      <td>17.394133</td>\n",
       "      <td>17.394133</td>\n",
       "      <td>20.040001</td>\n",
       "      <td>0.0</td>\n",
       "    </tr>\n",
       "    <tr>\n",
       "      <th>7</th>\n",
       "      <td>2010-01-04</td>\n",
       "      <td>CVX</td>\n",
       "      <td>78.199997</td>\n",
       "      <td>79.199997</td>\n",
       "      <td>78.160004</td>\n",
       "      <td>46.851871</td>\n",
       "      <td>10173800.0</td>\n",
       "      <td>0.0</td>\n",
       "      <td>0.0</td>\n",
       "      <td>6.526807</td>\n",
       "      <td>6.495</td>\n",
       "      <td>100.0</td>\n",
       "      <td>66.666667</td>\n",
       "      <td>100.0</td>\n",
       "      <td>46.851871</td>\n",
       "      <td>46.851871</td>\n",
       "      <td>20.040001</td>\n",
       "      <td>0.0</td>\n",
       "    </tr>\n",
       "    <tr>\n",
       "      <th>8</th>\n",
       "      <td>2010-01-04</td>\n",
       "      <td>DIS</td>\n",
       "      <td>32.500000</td>\n",
       "      <td>32.750000</td>\n",
       "      <td>31.870001</td>\n",
       "      <td>27.933920</td>\n",
       "      <td>13700400.0</td>\n",
       "      <td>0.0</td>\n",
       "      <td>0.0</td>\n",
       "      <td>6.526807</td>\n",
       "      <td>6.495</td>\n",
       "      <td>100.0</td>\n",
       "      <td>66.666667</td>\n",
       "      <td>100.0</td>\n",
       "      <td>27.933920</td>\n",
       "      <td>27.933920</td>\n",
       "      <td>20.040001</td>\n",
       "      <td>0.0</td>\n",
       "    </tr>\n",
       "    <tr>\n",
       "      <th>9</th>\n",
       "      <td>2010-01-04</td>\n",
       "      <td>GS</td>\n",
       "      <td>170.050003</td>\n",
       "      <td>174.250000</td>\n",
       "      <td>169.509995</td>\n",
       "      <td>139.862793</td>\n",
       "      <td>9135000.0</td>\n",
       "      <td>0.0</td>\n",
       "      <td>0.0</td>\n",
       "      <td>6.526807</td>\n",
       "      <td>6.495</td>\n",
       "      <td>100.0</td>\n",
       "      <td>66.666667</td>\n",
       "      <td>100.0</td>\n",
       "      <td>139.862793</td>\n",
       "      <td>139.862793</td>\n",
       "      <td>20.040001</td>\n",
       "      <td>0.0</td>\n",
       "    </tr>\n",
       "  </tbody>\n",
       "</table>\n",
       "</div>"
      ],
      "text/plain": [
       "         date   tic        open        high         low       close  \\\n",
       "0  2010-01-04  AAPL    7.622500    7.660714    7.585000    6.505281   \n",
       "1  2010-01-04  AMGN   56.630001   57.869999   56.560001   42.888958   \n",
       "2  2010-01-04   AXP   40.810001   41.099998   40.389999   33.675976   \n",
       "3  2010-01-04    BA   55.720001   56.389999   54.799999   43.777561   \n",
       "4  2010-01-04   CAT   57.650002   59.189999   57.509998   41.156906   \n",
       "5  2010-01-04   CRM   18.652500   18.882500   18.547501   18.705000   \n",
       "6  2010-01-04  CSCO   24.110001   24.840000   24.010000   17.394133   \n",
       "7  2010-01-04   CVX   78.199997   79.199997   78.160004   46.851871   \n",
       "8  2010-01-04   DIS   32.500000   32.750000   31.870001   27.933920   \n",
       "9  2010-01-04    GS  170.050003  174.250000  169.509995  139.862793   \n",
       "\n",
       "        volume  day  macd   boll_ub  boll_lb  rsi_30     cci_30  dx_30  \\\n",
       "0  493729600.0  0.0   0.0  6.526807    6.495   100.0  66.666667  100.0   \n",
       "1    5277400.0  0.0   0.0  6.526807    6.495   100.0  66.666667  100.0   \n",
       "2    6894300.0  0.0   0.0  6.526807    6.495   100.0  66.666667  100.0   \n",
       "3    6186700.0  0.0   0.0  6.526807    6.495   100.0  66.666667  100.0   \n",
       "4    7325600.0  0.0   0.0  6.526807    6.495   100.0  66.666667  100.0   \n",
       "5    7906000.0  0.0   0.0  6.526807    6.495   100.0  66.666667  100.0   \n",
       "6   59853700.0  0.0   0.0  6.526807    6.495   100.0  66.666667  100.0   \n",
       "7   10173800.0  0.0   0.0  6.526807    6.495   100.0  66.666667  100.0   \n",
       "8   13700400.0  0.0   0.0  6.526807    6.495   100.0  66.666667  100.0   \n",
       "9    9135000.0  0.0   0.0  6.526807    6.495   100.0  66.666667  100.0   \n",
       "\n",
       "   close_30_sma  close_60_sma        vix  turbulence  \n",
       "0      6.505281      6.505281  20.040001         0.0  \n",
       "1     42.888958     42.888958  20.040001         0.0  \n",
       "2     33.675976     33.675976  20.040001         0.0  \n",
       "3     43.777561     43.777561  20.040001         0.0  \n",
       "4     41.156906     41.156906  20.040001         0.0  \n",
       "5     18.705000     18.705000  20.040001         0.0  \n",
       "6     17.394133     17.394133  20.040001         0.0  \n",
       "7     46.851871     46.851871  20.040001         0.0  \n",
       "8     27.933920     27.933920  20.040001         0.0  \n",
       "9    139.862793    139.862793  20.040001         0.0  "
      ]
     },
     "execution_count": 14,
     "metadata": {},
     "output_type": "execute_result"
    }
   ],
   "source": [
    "processed_full.sort_values(['date','tic'],ignore_index=True).head(10)\n",
    "processed_full.to_csv('processed.csv')"
   ]
  },
  {
   "cell_type": "code",
   "execution_count": 16,
   "metadata": {
    "colab": {
     "base_uri": "https://localhost:8080/"
    },
    "id": "W0qaVGjLtgbI",
    "outputId": "5e364280-c418-470f-e25c-f03f56adbda7"
   },
   "outputs": [
    {
     "name": "stdout",
     "output_type": "stream",
     "text": [
      "85753\n",
      "10237\n"
     ]
    }
   ],
   "source": [
    "train = data_split(processed_full, TRAIN_START_DATE,TRAIN_END_DATE)\n",
    "trade = data_split(processed_full, TRADE_START_DATE,TRADE_END_DATE)\n",
    "print(len(train))\n",
    "print(len(trade))"
   ]
  },
  {
   "cell_type": "code",
   "execution_count": 17,
   "metadata": {
    "colab": {
     "base_uri": "https://localhost:8080/",
     "height": 444
    },
    "id": "p52zNCOhTtLR",
    "outputId": "e205ad4d-49ad-472b-8b60-0dc14a629113"
   },
   "outputs": [
    {
     "data": {
      "text/html": [
       "<div>\n",
       "<style scoped>\n",
       "    .dataframe tbody tr th:only-of-type {\n",
       "        vertical-align: middle;\n",
       "    }\n",
       "\n",
       "    .dataframe tbody tr th {\n",
       "        vertical-align: top;\n",
       "    }\n",
       "\n",
       "    .dataframe thead th {\n",
       "        text-align: right;\n",
       "    }\n",
       "</style>\n",
       "<table border=\"1\" class=\"dataframe\">\n",
       "  <thead>\n",
       "    <tr style=\"text-align: right;\">\n",
       "      <th></th>\n",
       "      <th>date</th>\n",
       "      <th>tic</th>\n",
       "      <th>open</th>\n",
       "      <th>high</th>\n",
       "      <th>low</th>\n",
       "      <th>close</th>\n",
       "      <th>volume</th>\n",
       "      <th>day</th>\n",
       "      <th>macd</th>\n",
       "      <th>boll_ub</th>\n",
       "      <th>boll_lb</th>\n",
       "      <th>rsi_30</th>\n",
       "      <th>cci_30</th>\n",
       "      <th>dx_30</th>\n",
       "      <th>close_30_sma</th>\n",
       "      <th>close_60_sma</th>\n",
       "      <th>vix</th>\n",
       "      <th>turbulence</th>\n",
       "    </tr>\n",
       "  </thead>\n",
       "  <tbody>\n",
       "    <tr>\n",
       "      <th>2956</th>\n",
       "      <td>2021-09-30</td>\n",
       "      <td>UNH</td>\n",
       "      <td>401.489990</td>\n",
       "      <td>403.489990</td>\n",
       "      <td>390.459991</td>\n",
       "      <td>383.180176</td>\n",
       "      <td>3779900.0</td>\n",
       "      <td>3.0</td>\n",
       "      <td>-4.349257</td>\n",
       "      <td>419.212271</td>\n",
       "      <td>386.863769</td>\n",
       "      <td>40.895389</td>\n",
       "      <td>-222.938187</td>\n",
       "      <td>41.980385</td>\n",
       "      <td>405.947466</td>\n",
       "      <td>405.438420</td>\n",
       "      <td>23.139999</td>\n",
       "      <td>24.871921</td>\n",
       "    </tr>\n",
       "    <tr>\n",
       "      <th>2956</th>\n",
       "      <td>2021-09-30</td>\n",
       "      <td>V</td>\n",
       "      <td>227.580002</td>\n",
       "      <td>228.789993</td>\n",
       "      <td>222.630005</td>\n",
       "      <td>220.257767</td>\n",
       "      <td>7128500.0</td>\n",
       "      <td>3.0</td>\n",
       "      <td>-1.538726</td>\n",
       "      <td>228.639275</td>\n",
       "      <td>216.529596</td>\n",
       "      <td>44.078991</td>\n",
       "      <td>-54.614540</td>\n",
       "      <td>19.569853</td>\n",
       "      <td>224.777288</td>\n",
       "      <td>231.479428</td>\n",
       "      <td>23.139999</td>\n",
       "      <td>24.871921</td>\n",
       "    </tr>\n",
       "    <tr>\n",
       "      <th>2956</th>\n",
       "      <td>2021-09-30</td>\n",
       "      <td>VZ</td>\n",
       "      <td>54.500000</td>\n",
       "      <td>54.509998</td>\n",
       "      <td>54.000000</td>\n",
       "      <td>49.822678</td>\n",
       "      <td>18736600.0</td>\n",
       "      <td>3.0</td>\n",
       "      <td>-0.237534</td>\n",
       "      <td>50.960816</td>\n",
       "      <td>49.550737</td>\n",
       "      <td>41.824899</td>\n",
       "      <td>-102.899161</td>\n",
       "      <td>21.682953</td>\n",
       "      <td>50.425972</td>\n",
       "      <td>50.960237</td>\n",
       "      <td>23.139999</td>\n",
       "      <td>24.871921</td>\n",
       "    </tr>\n",
       "    <tr>\n",
       "      <th>2956</th>\n",
       "      <td>2021-09-30</td>\n",
       "      <td>WBA</td>\n",
       "      <td>48.790001</td>\n",
       "      <td>48.930000</td>\n",
       "      <td>46.919998</td>\n",
       "      <td>43.957287</td>\n",
       "      <td>6449400.0</td>\n",
       "      <td>3.0</td>\n",
       "      <td>-0.253540</td>\n",
       "      <td>48.531809</td>\n",
       "      <td>43.597246</td>\n",
       "      <td>44.613722</td>\n",
       "      <td>-107.390154</td>\n",
       "      <td>0.941150</td>\n",
       "      <td>45.886550</td>\n",
       "      <td>44.857786</td>\n",
       "      <td>23.139999</td>\n",
       "      <td>24.871921</td>\n",
       "    </tr>\n",
       "    <tr>\n",
       "      <th>2956</th>\n",
       "      <td>2021-09-30</td>\n",
       "      <td>WMT</td>\n",
       "      <td>140.639999</td>\n",
       "      <td>141.729996</td>\n",
       "      <td>139.250000</td>\n",
       "      <td>136.114777</td>\n",
       "      <td>7485900.0</td>\n",
       "      <td>3.0</td>\n",
       "      <td>-1.554835</td>\n",
       "      <td>146.155114</td>\n",
       "      <td>135.633137</td>\n",
       "      <td>40.165833</td>\n",
       "      <td>-151.542717</td>\n",
       "      <td>45.466733</td>\n",
       "      <td>142.345313</td>\n",
       "      <td>141.246727</td>\n",
       "      <td>23.139999</td>\n",
       "      <td>24.871921</td>\n",
       "    </tr>\n",
       "  </tbody>\n",
       "</table>\n",
       "</div>"
      ],
      "text/plain": [
       "            date  tic        open        high         low       close  \\\n",
       "2956  2021-09-30  UNH  401.489990  403.489990  390.459991  383.180176   \n",
       "2956  2021-09-30    V  227.580002  228.789993  222.630005  220.257767   \n",
       "2956  2021-09-30   VZ   54.500000   54.509998   54.000000   49.822678   \n",
       "2956  2021-09-30  WBA   48.790001   48.930000   46.919998   43.957287   \n",
       "2956  2021-09-30  WMT  140.639999  141.729996  139.250000  136.114777   \n",
       "\n",
       "          volume  day      macd     boll_ub     boll_lb     rsi_30  \\\n",
       "2956   3779900.0  3.0 -4.349257  419.212271  386.863769  40.895389   \n",
       "2956   7128500.0  3.0 -1.538726  228.639275  216.529596  44.078991   \n",
       "2956  18736600.0  3.0 -0.237534   50.960816   49.550737  41.824899   \n",
       "2956   6449400.0  3.0 -0.253540   48.531809   43.597246  44.613722   \n",
       "2956   7485900.0  3.0 -1.554835  146.155114  135.633137  40.165833   \n",
       "\n",
       "          cci_30      dx_30  close_30_sma  close_60_sma        vix  turbulence  \n",
       "2956 -222.938187  41.980385    405.947466    405.438420  23.139999   24.871921  \n",
       "2956  -54.614540  19.569853    224.777288    231.479428  23.139999   24.871921  \n",
       "2956 -102.899161  21.682953     50.425972     50.960237  23.139999   24.871921  \n",
       "2956 -107.390154   0.941150     45.886550     44.857786  23.139999   24.871921  \n",
       "2956 -151.542717  45.466733    142.345313    141.246727  23.139999   24.871921  "
      ]
     },
     "execution_count": 17,
     "metadata": {},
     "output_type": "execute_result"
    }
   ],
   "source": [
    "train.tail()"
   ]
  },
  {
   "cell_type": "code",
   "execution_count": 18,
   "metadata": {
    "colab": {
     "base_uri": "https://localhost:8080/",
     "height": 357
    },
    "id": "k9zU9YaTTvFq",
    "outputId": "b23fd388-7411-4c78-8ebf-eb33df9b40a4"
   },
   "outputs": [
    {
     "data": {
      "text/html": [
       "<div>\n",
       "<style scoped>\n",
       "    .dataframe tbody tr th:only-of-type {\n",
       "        vertical-align: middle;\n",
       "    }\n",
       "\n",
       "    .dataframe tbody tr th {\n",
       "        vertical-align: top;\n",
       "    }\n",
       "\n",
       "    .dataframe thead th {\n",
       "        text-align: right;\n",
       "    }\n",
       "</style>\n",
       "<table border=\"1\" class=\"dataframe\">\n",
       "  <thead>\n",
       "    <tr style=\"text-align: right;\">\n",
       "      <th></th>\n",
       "      <th>date</th>\n",
       "      <th>tic</th>\n",
       "      <th>open</th>\n",
       "      <th>high</th>\n",
       "      <th>low</th>\n",
       "      <th>close</th>\n",
       "      <th>volume</th>\n",
       "      <th>day</th>\n",
       "      <th>macd</th>\n",
       "      <th>boll_ub</th>\n",
       "      <th>boll_lb</th>\n",
       "      <th>rsi_30</th>\n",
       "      <th>cci_30</th>\n",
       "      <th>dx_30</th>\n",
       "      <th>close_30_sma</th>\n",
       "      <th>close_60_sma</th>\n",
       "      <th>vix</th>\n",
       "      <th>turbulence</th>\n",
       "    </tr>\n",
       "  </thead>\n",
       "  <tbody>\n",
       "    <tr>\n",
       "      <th>0</th>\n",
       "      <td>2021-10-01</td>\n",
       "      <td>AAPL</td>\n",
       "      <td>141.899994</td>\n",
       "      <td>142.919998</td>\n",
       "      <td>139.110001</td>\n",
       "      <td>141.404282</td>\n",
       "      <td>94639600.0</td>\n",
       "      <td>4.0</td>\n",
       "      <td>-1.703487</td>\n",
       "      <td>155.382847</td>\n",
       "      <td>137.132189</td>\n",
       "      <td>46.927765</td>\n",
       "      <td>-142.190081</td>\n",
       "      <td>41.749873</td>\n",
       "      <td>147.171800</td>\n",
       "      <td>146.269416</td>\n",
       "      <td>21.1</td>\n",
       "      <td>120.123687</td>\n",
       "    </tr>\n",
       "    <tr>\n",
       "      <th>0</th>\n",
       "      <td>2021-10-01</td>\n",
       "      <td>AMGN</td>\n",
       "      <td>213.589996</td>\n",
       "      <td>214.610001</td>\n",
       "      <td>210.800003</td>\n",
       "      <td>203.845901</td>\n",
       "      <td>2629400.0</td>\n",
       "      <td>4.0</td>\n",
       "      <td>-3.097330</td>\n",
       "      <td>212.767988</td>\n",
       "      <td>199.379585</td>\n",
       "      <td>40.408569</td>\n",
       "      <td>-96.756836</td>\n",
       "      <td>36.189244</td>\n",
       "      <td>208.480832</td>\n",
       "      <td>217.103344</td>\n",
       "      <td>21.1</td>\n",
       "      <td>120.123687</td>\n",
       "    </tr>\n",
       "    <tr>\n",
       "      <th>0</th>\n",
       "      <td>2021-10-01</td>\n",
       "      <td>AXP</td>\n",
       "      <td>168.500000</td>\n",
       "      <td>175.119995</td>\n",
       "      <td>168.479996</td>\n",
       "      <td>170.695419</td>\n",
       "      <td>3956000.0</td>\n",
       "      <td>4.0</td>\n",
       "      <td>2.281750</td>\n",
       "      <td>174.864270</td>\n",
       "      <td>149.785742</td>\n",
       "      <td>56.265120</td>\n",
       "      <td>117.565686</td>\n",
       "      <td>15.667511</td>\n",
       "      <td>161.812906</td>\n",
       "      <td>164.064442</td>\n",
       "      <td>21.1</td>\n",
       "      <td>120.123687</td>\n",
       "    </tr>\n",
       "    <tr>\n",
       "      <th>0</th>\n",
       "      <td>2021-10-01</td>\n",
       "      <td>BA</td>\n",
       "      <td>222.850006</td>\n",
       "      <td>226.720001</td>\n",
       "      <td>220.600006</td>\n",
       "      <td>226.000000</td>\n",
       "      <td>9113600.0</td>\n",
       "      <td>4.0</td>\n",
       "      <td>0.730320</td>\n",
       "      <td>226.909442</td>\n",
       "      <td>205.727561</td>\n",
       "      <td>51.614047</td>\n",
       "      <td>116.649440</td>\n",
       "      <td>2.027170</td>\n",
       "      <td>217.175334</td>\n",
       "      <td>221.968500</td>\n",
       "      <td>21.1</td>\n",
       "      <td>120.123687</td>\n",
       "    </tr>\n",
       "    <tr>\n",
       "      <th>0</th>\n",
       "      <td>2021-10-01</td>\n",
       "      <td>CAT</td>\n",
       "      <td>192.899994</td>\n",
       "      <td>195.869995</td>\n",
       "      <td>191.240005</td>\n",
       "      <td>187.928040</td>\n",
       "      <td>3695500.0</td>\n",
       "      <td>4.0</td>\n",
       "      <td>-3.640322</td>\n",
       "      <td>205.735911</td>\n",
       "      <td>181.432781</td>\n",
       "      <td>41.999435</td>\n",
       "      <td>-112.087750</td>\n",
       "      <td>36.203176</td>\n",
       "      <td>196.993865</td>\n",
       "      <td>200.522105</td>\n",
       "      <td>21.1</td>\n",
       "      <td>120.123687</td>\n",
       "    </tr>\n",
       "  </tbody>\n",
       "</table>\n",
       "</div>"
      ],
      "text/plain": [
       "         date   tic        open        high         low       close  \\\n",
       "0  2021-10-01  AAPL  141.899994  142.919998  139.110001  141.404282   \n",
       "0  2021-10-01  AMGN  213.589996  214.610001  210.800003  203.845901   \n",
       "0  2021-10-01   AXP  168.500000  175.119995  168.479996  170.695419   \n",
       "0  2021-10-01    BA  222.850006  226.720001  220.600006  226.000000   \n",
       "0  2021-10-01   CAT  192.899994  195.869995  191.240005  187.928040   \n",
       "\n",
       "       volume  day      macd     boll_ub     boll_lb     rsi_30      cci_30  \\\n",
       "0  94639600.0  4.0 -1.703487  155.382847  137.132189  46.927765 -142.190081   \n",
       "0   2629400.0  4.0 -3.097330  212.767988  199.379585  40.408569  -96.756836   \n",
       "0   3956000.0  4.0  2.281750  174.864270  149.785742  56.265120  117.565686   \n",
       "0   9113600.0  4.0  0.730320  226.909442  205.727561  51.614047  116.649440   \n",
       "0   3695500.0  4.0 -3.640322  205.735911  181.432781  41.999435 -112.087750   \n",
       "\n",
       "       dx_30  close_30_sma  close_60_sma   vix  turbulence  \n",
       "0  41.749873    147.171800    146.269416  21.1  120.123687  \n",
       "0  36.189244    208.480832    217.103344  21.1  120.123687  \n",
       "0  15.667511    161.812906    164.064442  21.1  120.123687  \n",
       "0   2.027170    217.175334    221.968500  21.1  120.123687  \n",
       "0  36.203176    196.993865    200.522105  21.1  120.123687  "
      ]
     },
     "execution_count": 18,
     "metadata": {},
     "output_type": "execute_result"
    }
   ],
   "source": [
    "trade.head()"
   ]
  },
  {
   "cell_type": "code",
   "execution_count": 19,
   "metadata": {
    "colab": {
     "base_uri": "https://localhost:8080/"
    },
    "id": "zYN573SOHhxG",
    "outputId": "a9353918-3ff6-4179-e645-1e6c664b4506"
   },
   "outputs": [
    {
     "data": {
      "text/plain": [
       "['macd',\n",
       " 'boll_ub',\n",
       " 'boll_lb',\n",
       " 'rsi_30',\n",
       " 'cci_30',\n",
       " 'dx_30',\n",
       " 'close_30_sma',\n",
       " 'close_60_sma']"
      ]
     },
     "execution_count": 19,
     "metadata": {},
     "output_type": "execute_result"
    }
   ],
   "source": [
    "INDICATORS"
   ]
  },
  {
   "cell_type": "code",
   "execution_count": 20,
   "metadata": {
    "colab": {
     "base_uri": "https://localhost:8080/"
    },
    "id": "Q2zqII8rMIqn",
    "outputId": "687c0ea8-d3d9-460a-d104-d088db843e5b"
   },
   "outputs": [
    {
     "name": "stdout",
     "output_type": "stream",
     "text": [
      "Stock Dimension: 29, State Space: 291\n"
     ]
    }
   ],
   "source": [
    "stock_dimension = len(train.tic.unique())\n",
    "state_space = 1 + 2*stock_dimension + len(INDICATORS)*stock_dimension\n",
    "print(f\"Stock Dimension: {stock_dimension}, State Space: {state_space}\")"
   ]
  },
  {
   "cell_type": "code",
   "execution_count": 21,
   "metadata": {
    "id": "AWyp84Ltto19"
   },
   "outputs": [],
   "source": [
    "buy_cost_list = sell_cost_list = [0.001] * stock_dimension\n",
    "num_stock_shares = [0] * stock_dimension\n",
    "\n",
    "env_kwargs = {\n",
    "    \"hmax\": 100,\n",
    "    \"initial_amount\": 1000000,\n",
    "    \"num_stock_shares\": num_stock_shares,\n",
    "    \"buy_cost_pct\": buy_cost_list,\n",
    "    \"sell_cost_pct\": sell_cost_list,\n",
    "    \"state_space\": state_space,\n",
    "    \"stock_dim\": stock_dimension,\n",
    "    \"tech_indicator_list\": INDICATORS,\n",
    "    \"action_space\": stock_dimension,\n",
    "    \"reward_scaling\": 1e-4\n",
    "}\n",
    "\n",
    "\n",
    "e_train_gym = StockTradingEnv(df = train, **env_kwargs)"
   ]
  },
  {
   "cell_type": "code",
   "execution_count": 22,
   "metadata": {
    "colab": {
     "base_uri": "https://localhost:8080/"
    },
    "id": "xwSvvPjutpqS",
    "outputId": "ad3318cc-a3c6-41ee-cdeb-a4eb317e33bf"
   },
   "outputs": [
    {
     "name": "stdout",
     "output_type": "stream",
     "text": [
      "<class 'stable_baselines3.common.vec_env.dummy_vec_env.DummyVecEnv'>\n"
     ]
    }
   ],
   "source": [
    "env_train, _ = e_train_gym.get_sb_env()\n",
    "print(type(env_train))"
   ]
  },
  {
   "cell_type": "code",
   "execution_count": 23,
   "metadata": {
    "id": "364PsqckttcQ"
   },
   "outputs": [],
   "source": [
    "agent = DRLAgent(env = env_train)\n",
    "\n",
    "if_using_a2c = True\n",
    "if_using_ddpg = True\n",
    "if_using_ppo = True\n",
    "if_using_td3 = True\n",
    "if_using_sac = True\n",
    "\n",
    "# TIMESTEPS = [100,100,100,100,100]\n",
    "TIMESTEPS = [50000,50000,50000,50000,50000]"
   ]
  },
  {
   "cell_type": "markdown",
   "metadata": {
    "id": "YDmqOyF9h1iz"
   },
   "source": [
    "### Agent Training: 5 algorithms (A2C, DDPG, PPO, TD3, SAC)\n"
   ]
  },
  {
   "cell_type": "markdown",
   "metadata": {
    "id": "uijiWgkuh1jB"
   },
   "source": [
    "### Agent 1: A2C\n"
   ]
  },
  {
   "cell_type": "code",
   "execution_count": 24,
   "metadata": {
    "colab": {
     "base_uri": "https://localhost:8080/"
    },
    "id": "GUCnkn-HIbmj",
    "outputId": "6da723f6-2f9b-4d76-8872-328ef56dadfc"
   },
   "outputs": [
    {
     "name": "stdout",
     "output_type": "stream",
     "text": [
      "{'n_steps': 5, 'ent_coef': 0.01, 'learning_rate': 0.0007}\n",
      "Using cpu device\n",
      "Logging to results/a2c\n"
     ]
    }
   ],
   "source": [
    "agent = DRLAgent(env = env_train)\n",
    "model_a2c = agent.get_model(\"a2c\")\n",
    "\n",
    "if if_using_a2c:\n",
    "  # set up logger\n",
    "  tmp_path = RESULTS_DIR + '/a2c'\n",
    "  new_logger_a2c = configure(tmp_path, [\"stdout\", \"csv\", \"tensorboard\"])\n",
    "  # Set new logger\n",
    "  model_a2c.set_logger(new_logger_a2c)\n"
   ]
  },
  {
   "cell_type": "code",
   "execution_count": 25,
   "metadata": {
    "colab": {
     "base_uri": "https://localhost:8080/"
    },
    "id": "0GVpkWGqH4-D",
    "outputId": "a919c17f-f561-45fa-8b55-3c996811a63e"
   },
   "outputs": [],
   "source": [
    "trained_a2c = agent.train_model(model=model_a2c, \n",
    "                             tb_log_name='a2c',\n",
    "                             total_timesteps=TIMESTEPS[0]) if if_using_a2c else None"
   ]
  },
  {
   "cell_type": "markdown",
   "metadata": {
    "id": "MRiOtrywfAo1"
   },
   "source": [
    "### Agent 2: DDPG"
   ]
  },
  {
   "cell_type": "code",
   "execution_count": 26,
   "metadata": {
    "colab": {
     "base_uri": "https://localhost:8080/"
    },
    "id": "M2YadjfnLwgt",
    "outputId": "883736bb-5b14-4306-816f-b7596b90275d"
   },
   "outputs": [
    {
     "name": "stdout",
     "output_type": "stream",
     "text": [
      "{'batch_size': 128, 'buffer_size': 50000, 'learning_rate': 0.001}\n",
      "Using cpu device\n",
      "Logging to results/ddpg\n"
     ]
    }
   ],
   "source": [
    "agent = DRLAgent(env = env_train)\n",
    "model_ddpg = agent.get_model(\"ddpg\")\n",
    "\n",
    "if if_using_ddpg:\n",
    "  # set up logger\n",
    "  tmp_path = RESULTS_DIR + '/ddpg'\n",
    "  new_logger_ddpg = configure(tmp_path, [\"stdout\", \"csv\", \"tensorboard\"])\n",
    "  # Set new logger\n",
    "  model_ddpg.set_logger(new_logger_ddpg)"
   ]
  },
  {
   "cell_type": "code",
   "execution_count": 27,
   "metadata": {
    "colab": {
     "base_uri": "https://localhost:8080/"
    },
    "id": "tCDa78rqfO_a",
    "outputId": "c9962d70-9180-4377-daa7-0ae7363b8091"
   },
   "outputs": [],
   "source": [
    "trained_ddpg = agent.train_model(model=model_ddpg, \n",
    "                             tb_log_name='ddpg',\n",
    "                             total_timesteps=TIMESTEPS[1]) if if_using_ddpg else None"
   ]
  },
  {
   "cell_type": "markdown",
   "metadata": {
    "id": "_gDkU-j-fCmZ"
   },
   "source": [
    "### Agent 3: PPO"
   ]
  },
  {
   "cell_type": "code",
   "execution_count": 28,
   "metadata": {
    "colab": {
     "base_uri": "https://localhost:8080/"
    },
    "id": "y5D5PFUhMzSV",
    "outputId": "01b7bbbb-7dce-4370-fe61-9098d4e5e978"
   },
   "outputs": [
    {
     "name": "stdout",
     "output_type": "stream",
     "text": [
      "{'n_steps': 2048, 'ent_coef': 0.01, 'learning_rate': 0.00025, 'batch_size': 128}\n",
      "Using cpu device\n",
      "Logging to results/ppo\n"
     ]
    }
   ],
   "source": [
    "agent = DRLAgent(env = env_train)\n",
    "PPO_PARAMS = {\n",
    "    \"n_steps\": 2048,\n",
    "    \"ent_coef\": 0.01,\n",
    "    \"learning_rate\": 0.00025,\n",
    "    \"batch_size\": 128,\n",
    "}\n",
    "model_ppo = agent.get_model(\"ppo\",model_kwargs = PPO_PARAMS)\n",
    "\n",
    "if if_using_ppo:\n",
    "  # set up logger\n",
    "  tmp_path = RESULTS_DIR + '/ppo'\n",
    "  new_logger_ppo = configure(tmp_path, [\"stdout\", \"csv\", \"tensorboard\"])\n",
    "  # Set new logger\n",
    "  model_ppo.set_logger(new_logger_ppo)"
   ]
  },
  {
   "cell_type": "code",
   "execution_count": 29,
   "metadata": {
    "colab": {
     "base_uri": "https://localhost:8080/"
    },
    "id": "Gt8eIQKYM4G3",
    "outputId": "54235862-b58b-4bd0-db25-1c62931703e0"
   },
   "outputs": [
    {
     "name": "stdout",
     "output_type": "stream",
     "text": [
      "----------------------------------\n",
      "| time/              |           |\n",
      "|    fps             | 32        |\n",
      "|    iterations      | 1         |\n",
      "|    time_elapsed    | 63        |\n",
      "|    total_timesteps | 2048      |\n",
      "| train/             |           |\n",
      "|    reward          | 0.9986378 |\n",
      "----------------------------------\n"
     ]
    }
   ],
   "source": [
    "trained_ppo = agent.train_model(model=model_ppo, \n",
    "                             tb_log_name='ppo',\n",
    "                             total_timesteps=TIMESTEPS[2]) if if_using_ppo else None"
   ]
  },
  {
   "cell_type": "markdown",
   "metadata": {
    "id": "3Zpv4S0-fDBv"
   },
   "source": [
    "### Agent 4: TD3"
   ]
  },
  {
   "cell_type": "code",
   "execution_count": 30,
   "metadata": {
    "colab": {
     "base_uri": "https://localhost:8080/"
    },
    "id": "JSAHhV4Xc-bh",
    "outputId": "b0762c2c-09b6-4351-876a-59cd08be4707"
   },
   "outputs": [
    {
     "name": "stdout",
     "output_type": "stream",
     "text": [
      "{'batch_size': 100, 'buffer_size': 1000000, 'learning_rate': 0.001}\n",
      "Using cpu device\n",
      "Logging to results/td3\n"
     ]
    }
   ],
   "source": [
    "agent = DRLAgent(env = env_train)\n",
    "TD3_PARAMS = {\"batch_size\": 100, \n",
    "              \"buffer_size\": 1000000, \n",
    "              \"learning_rate\": 0.001}\n",
    "\n",
    "model_td3 = agent.get_model(\"td3\",model_kwargs = TD3_PARAMS)\n",
    "\n",
    "if if_using_td3:\n",
    "  # set up logger\n",
    "  tmp_path = RESULTS_DIR + '/td3'\n",
    "  new_logger_td3 = configure(tmp_path, [\"stdout\", \"csv\", \"tensorboard\"])\n",
    "  # Set new logger\n",
    "  model_td3.set_logger(new_logger_td3)"
   ]
  },
  {
   "cell_type": "code",
   "execution_count": 31,
   "metadata": {
    "colab": {
     "base_uri": "https://localhost:8080/"
    },
    "id": "OSRxNYAxdKpU",
    "outputId": "31b518ef-3966-413c-89f9-d83a037e55b4"
   },
   "outputs": [],
   "source": [
    "trained_td3 = agent.train_model(model=model_td3, \n",
    "                             tb_log_name='td3',\n",
    "                             total_timesteps=TIMESTEPS[3]) if if_using_td3 else None"
   ]
  },
  {
   "cell_type": "markdown",
   "metadata": {
    "id": "Dr49PotrfG01"
   },
   "source": [
    "### Agent 5: SAC"
   ]
  },
  {
   "cell_type": "code",
   "execution_count": 32,
   "metadata": {
    "colab": {
     "base_uri": "https://localhost:8080/"
    },
    "id": "xwOhVjqRkCdM",
    "outputId": "a5ebf4e2-34ca-4bf5-8980-08d37a0659e0"
   },
   "outputs": [
    {
     "name": "stdout",
     "output_type": "stream",
     "text": [
      "{'batch_size': 128, 'buffer_size': 100000, 'learning_rate': 0.0001, 'learning_starts': 100, 'ent_coef': 'auto_0.1'}\n",
      "Using cpu device\n",
      "Logging to results/sac\n"
     ]
    }
   ],
   "source": [
    "agent = DRLAgent(env = env_train)\n",
    "SAC_PARAMS = {\n",
    "    \"batch_size\": 128,\n",
    "    \"buffer_size\": 100000,\n",
    "    \"learning_rate\": 0.0001,\n",
    "    \"learning_starts\": 100,\n",
    "    \"ent_coef\": \"auto_0.1\",\n",
    "}\n",
    "\n",
    "model_sac = agent.get_model(\"sac\",model_kwargs = SAC_PARAMS)\n",
    "\n",
    "if if_using_sac:\n",
    "  # set up logger\n",
    "  tmp_path = RESULTS_DIR + '/sac'\n",
    "  new_logger_sac = configure(tmp_path, [\"stdout\", \"csv\", \"tensorboard\"])\n",
    "  # Set new logger\n",
    "  model_sac.set_logger(new_logger_sac)"
   ]
  },
  {
   "cell_type": "code",
   "execution_count": 33,
   "metadata": {
    "colab": {
     "base_uri": "https://localhost:8080/"
    },
    "id": "K8RSdKCckJyH",
    "outputId": "7f1e46f5-7124-4b6d-8fe7-f8071760cfe5"
   },
   "outputs": [],
   "source": [
    "trained_sac = agent.train_model(model=model_sac, \n",
    "                             tb_log_name='sac',\n",
    "                             total_timesteps=TIMESTEPS[4]) if if_using_sac else None"
   ]
  },
  {
   "cell_type": "markdown",
   "metadata": {
    "id": "f2wZgkQXh1jE"
   },
   "source": [
    "## In-sample Performance\n",
    "\n",
    "Assume that the initial capital is $1,000,000."
   ]
  },
  {
   "cell_type": "markdown",
   "metadata": {
    "id": "bEv5KGC8h1jE"
   },
   "source": [
    "### Set turbulence threshold\n",
    "Set the turbulence threshold to be greater than the maximum of insample turbulence data. If current turbulence index is greater than the threshold, then we assume that the current market is volatile"
   ]
  },
  {
   "cell_type": "code",
   "execution_count": 34,
   "metadata": {
    "id": "efwBi84ch1jE"
   },
   "outputs": [],
   "source": [
    "data_risk_indicator = processed_full[(processed_full.date<TRAIN_END_DATE) & (processed_full.date>=TRAIN_START_DATE)]\n",
    "insample_risk_indicator = data_risk_indicator.drop_duplicates(subset=['date'])"
   ]
  },
  {
   "cell_type": "code",
   "execution_count": 35,
   "metadata": {
    "colab": {
     "base_uri": "https://localhost:8080/"
    },
    "id": "VHZMBpSqh1jG",
    "outputId": "ffa57923-17e2-436e-c970-fcc52112a098"
   },
   "outputs": [
    {
     "data": {
      "text/plain": [
       "count    2957.000000\n",
       "mean       18.105293\n",
       "std         7.272476\n",
       "min         9.140000\n",
       "25%        13.370000\n",
       "50%        16.209999\n",
       "75%        20.629999\n",
       "max        82.690002\n",
       "Name: vix, dtype: float64"
      ]
     },
     "execution_count": 35,
     "metadata": {},
     "output_type": "execute_result"
    }
   ],
   "source": [
    "insample_risk_indicator.vix.describe()"
   ]
  },
  {
   "cell_type": "code",
   "execution_count": 36,
   "metadata": {
    "colab": {
     "base_uri": "https://localhost:8080/"
    },
    "id": "BDkszkMloRWT",
    "outputId": "7c539b2c-6223-4d00-d571-7af992f976bf"
   },
   "outputs": [
    {
     "data": {
      "text/plain": [
       "26.47999954223633"
      ]
     },
     "execution_count": 36,
     "metadata": {},
     "output_type": "execute_result"
    }
   ],
   "source": [
    "insample_risk_indicator.vix.quantile(0.9)"
   ]
  },
  {
   "cell_type": "code",
   "execution_count": 37,
   "metadata": {
    "colab": {
     "base_uri": "https://localhost:8080/"
    },
    "id": "AL7hs7svnNWT",
    "outputId": "6510973a-cfd3-4ff8-f482-287ac99de05c"
   },
   "outputs": [
    {
     "data": {
      "text/plain": [
       "count    2957.000000\n",
       "mean       34.139590\n",
       "std        43.879104\n",
       "min         0.000000\n",
       "25%        14.613387\n",
       "50%        23.644707\n",
       "75%        38.292695\n",
       "max       652.505693\n",
       "Name: turbulence, dtype: float64"
      ]
     },
     "execution_count": 37,
     "metadata": {},
     "output_type": "execute_result"
    }
   ],
   "source": [
    "insample_risk_indicator.turbulence.describe()"
   ]
  },
  {
   "cell_type": "code",
   "execution_count": 38,
   "metadata": {
    "colab": {
     "base_uri": "https://localhost:8080/"
    },
    "id": "N78hfHckoqJ9",
    "outputId": "7258129e-a14b-4327-cb7e-f7cfb73b3dd0"
   },
   "outputs": [
    {
     "data": {
      "text/plain": [
       "66.08537738749267"
      ]
     },
     "execution_count": 38,
     "metadata": {},
     "output_type": "execute_result"
    }
   ],
   "source": [
    "insample_risk_indicator.turbulence.quantile(0.9)"
   ]
  },
  {
   "cell_type": "markdown",
   "metadata": {
    "id": "U5mmgQF_h1jQ"
   },
   "source": [
    "### Trading (Out-of-sample Performance)\n",
    "\n",
    "We update periodically in order to take full advantage of the data, e.g., retrain quarterly, monthly or weekly. We also tune the parameters along the way, in this notebook we use the in-sample data from 2009-01 to 2020-07 to tune the parameters once, so there is some alpha decay here as the length of trade date extends. \n",
    "\n",
    "Numerous hyperparameters – e.g. the learning rate, the total number of samples to train on – influence the learning process and are usually determined by testing some variations."
   ]
  },
  {
   "cell_type": "code",
   "execution_count": 39,
   "metadata": {
    "id": "cIqoV0GSI52v"
   },
   "outputs": [],
   "source": [
    "e_trade_gym = StockTradingEnv(df = trade, turbulence_threshold = insample_risk_indicator.turbulence.quantile(0.9),risk_indicator_col='turbulence', **env_kwargs)\n",
    "# env_trade, obs_trade = e_trade_gym.get_sb_env()"
   ]
  },
  {
   "cell_type": "code",
   "execution_count": 40,
   "metadata": {
    "colab": {
     "base_uri": "https://localhost:8080/",
     "height": 357
    },
    "id": "W_XNgGsBMeVw",
    "outputId": "37dba890-811e-4c0c-fee9-f12f3f9eb100"
   },
   "outputs": [
    {
     "data": {
      "text/html": [
       "<div>\n",
       "<style scoped>\n",
       "    .dataframe tbody tr th:only-of-type {\n",
       "        vertical-align: middle;\n",
       "    }\n",
       "\n",
       "    .dataframe tbody tr th {\n",
       "        vertical-align: top;\n",
       "    }\n",
       "\n",
       "    .dataframe thead th {\n",
       "        text-align: right;\n",
       "    }\n",
       "</style>\n",
       "<table border=\"1\" class=\"dataframe\">\n",
       "  <thead>\n",
       "    <tr style=\"text-align: right;\">\n",
       "      <th></th>\n",
       "      <th>date</th>\n",
       "      <th>tic</th>\n",
       "      <th>open</th>\n",
       "      <th>high</th>\n",
       "      <th>low</th>\n",
       "      <th>close</th>\n",
       "      <th>volume</th>\n",
       "      <th>day</th>\n",
       "      <th>macd</th>\n",
       "      <th>boll_ub</th>\n",
       "      <th>boll_lb</th>\n",
       "      <th>rsi_30</th>\n",
       "      <th>cci_30</th>\n",
       "      <th>dx_30</th>\n",
       "      <th>close_30_sma</th>\n",
       "      <th>close_60_sma</th>\n",
       "      <th>vix</th>\n",
       "      <th>turbulence</th>\n",
       "    </tr>\n",
       "  </thead>\n",
       "  <tbody>\n",
       "    <tr>\n",
       "      <th>0</th>\n",
       "      <td>2021-10-01</td>\n",
       "      <td>AAPL</td>\n",
       "      <td>141.899994</td>\n",
       "      <td>142.919998</td>\n",
       "      <td>139.110001</td>\n",
       "      <td>141.404282</td>\n",
       "      <td>94639600.0</td>\n",
       "      <td>4.0</td>\n",
       "      <td>-1.703487</td>\n",
       "      <td>155.382847</td>\n",
       "      <td>137.132189</td>\n",
       "      <td>46.927765</td>\n",
       "      <td>-142.190081</td>\n",
       "      <td>41.749873</td>\n",
       "      <td>147.171800</td>\n",
       "      <td>146.269416</td>\n",
       "      <td>21.1</td>\n",
       "      <td>120.123687</td>\n",
       "    </tr>\n",
       "    <tr>\n",
       "      <th>0</th>\n",
       "      <td>2021-10-01</td>\n",
       "      <td>AMGN</td>\n",
       "      <td>213.589996</td>\n",
       "      <td>214.610001</td>\n",
       "      <td>210.800003</td>\n",
       "      <td>203.845901</td>\n",
       "      <td>2629400.0</td>\n",
       "      <td>4.0</td>\n",
       "      <td>-3.097330</td>\n",
       "      <td>212.767988</td>\n",
       "      <td>199.379585</td>\n",
       "      <td>40.408569</td>\n",
       "      <td>-96.756836</td>\n",
       "      <td>36.189244</td>\n",
       "      <td>208.480832</td>\n",
       "      <td>217.103344</td>\n",
       "      <td>21.1</td>\n",
       "      <td>120.123687</td>\n",
       "    </tr>\n",
       "    <tr>\n",
       "      <th>0</th>\n",
       "      <td>2021-10-01</td>\n",
       "      <td>AXP</td>\n",
       "      <td>168.500000</td>\n",
       "      <td>175.119995</td>\n",
       "      <td>168.479996</td>\n",
       "      <td>170.695419</td>\n",
       "      <td>3956000.0</td>\n",
       "      <td>4.0</td>\n",
       "      <td>2.281750</td>\n",
       "      <td>174.864270</td>\n",
       "      <td>149.785742</td>\n",
       "      <td>56.265120</td>\n",
       "      <td>117.565686</td>\n",
       "      <td>15.667511</td>\n",
       "      <td>161.812906</td>\n",
       "      <td>164.064442</td>\n",
       "      <td>21.1</td>\n",
       "      <td>120.123687</td>\n",
       "    </tr>\n",
       "    <tr>\n",
       "      <th>0</th>\n",
       "      <td>2021-10-01</td>\n",
       "      <td>BA</td>\n",
       "      <td>222.850006</td>\n",
       "      <td>226.720001</td>\n",
       "      <td>220.600006</td>\n",
       "      <td>226.000000</td>\n",
       "      <td>9113600.0</td>\n",
       "      <td>4.0</td>\n",
       "      <td>0.730320</td>\n",
       "      <td>226.909442</td>\n",
       "      <td>205.727561</td>\n",
       "      <td>51.614047</td>\n",
       "      <td>116.649440</td>\n",
       "      <td>2.027170</td>\n",
       "      <td>217.175334</td>\n",
       "      <td>221.968500</td>\n",
       "      <td>21.1</td>\n",
       "      <td>120.123687</td>\n",
       "    </tr>\n",
       "    <tr>\n",
       "      <th>0</th>\n",
       "      <td>2021-10-01</td>\n",
       "      <td>CAT</td>\n",
       "      <td>192.899994</td>\n",
       "      <td>195.869995</td>\n",
       "      <td>191.240005</td>\n",
       "      <td>187.928040</td>\n",
       "      <td>3695500.0</td>\n",
       "      <td>4.0</td>\n",
       "      <td>-3.640322</td>\n",
       "      <td>205.735911</td>\n",
       "      <td>181.432781</td>\n",
       "      <td>41.999435</td>\n",
       "      <td>-112.087750</td>\n",
       "      <td>36.203176</td>\n",
       "      <td>196.993865</td>\n",
       "      <td>200.522105</td>\n",
       "      <td>21.1</td>\n",
       "      <td>120.123687</td>\n",
       "    </tr>\n",
       "  </tbody>\n",
       "</table>\n",
       "</div>"
      ],
      "text/plain": [
       "         date   tic        open        high         low       close  \\\n",
       "0  2021-10-01  AAPL  141.899994  142.919998  139.110001  141.404282   \n",
       "0  2021-10-01  AMGN  213.589996  214.610001  210.800003  203.845901   \n",
       "0  2021-10-01   AXP  168.500000  175.119995  168.479996  170.695419   \n",
       "0  2021-10-01    BA  222.850006  226.720001  220.600006  226.000000   \n",
       "0  2021-10-01   CAT  192.899994  195.869995  191.240005  187.928040   \n",
       "\n",
       "       volume  day      macd     boll_ub     boll_lb     rsi_30      cci_30  \\\n",
       "0  94639600.0  4.0 -1.703487  155.382847  137.132189  46.927765 -142.190081   \n",
       "0   2629400.0  4.0 -3.097330  212.767988  199.379585  40.408569  -96.756836   \n",
       "0   3956000.0  4.0  2.281750  174.864270  149.785742  56.265120  117.565686   \n",
       "0   9113600.0  4.0  0.730320  226.909442  205.727561  51.614047  116.649440   \n",
       "0   3695500.0  4.0 -3.640322  205.735911  181.432781  41.999435 -112.087750   \n",
       "\n",
       "       dx_30  close_30_sma  close_60_sma   vix  turbulence  \n",
       "0  41.749873    147.171800    146.269416  21.1  120.123687  \n",
       "0  36.189244    208.480832    217.103344  21.1  120.123687  \n",
       "0  15.667511    161.812906    164.064442  21.1  120.123687  \n",
       "0   2.027170    217.175334    221.968500  21.1  120.123687  \n",
       "0  36.203176    196.993865    200.522105  21.1  120.123687  "
      ]
     },
     "execution_count": 40,
     "metadata": {},
     "output_type": "execute_result"
    }
   ],
   "source": [
    "trade.head()"
   ]
  },
  {
   "cell_type": "code",
   "execution_count": 41,
   "metadata": {
    "colab": {
     "base_uri": "https://localhost:8080/"
    },
    "id": "lbFchno5j3xs",
    "outputId": "7eb7fa24-50a8-4506-97bf-a463e66f9102"
   },
   "outputs": [
    {
     "name": "stdout",
     "output_type": "stream",
     "text": [
      "hit end!\n"
     ]
    }
   ],
   "source": [
    "trained_moedl = trained_a2c\n",
    "df_account_value_a2c, df_actions_a2c = DRLAgent.DRL_prediction(\n",
    "    model=trained_moedl, \n",
    "    environment = e_trade_gym)"
   ]
  },
  {
   "cell_type": "code",
   "execution_count": 42,
   "metadata": {
    "colab": {
     "base_uri": "https://localhost:8080/"
    },
    "id": "JbYljWGjj3pH",
    "outputId": "3e682898-d5a5-4664-9469-77b6029cc277"
   },
   "outputs": [
    {
     "name": "stdout",
     "output_type": "stream",
     "text": [
      "hit end!\n"
     ]
    }
   ],
   "source": [
    "trained_moedl = trained_ddpg\n",
    "df_account_value_ddpg, df_actions_ddpg = DRLAgent.DRL_prediction(\n",
    "    model=trained_moedl, \n",
    "    environment = e_trade_gym)"
   ]
  },
  {
   "cell_type": "code",
   "execution_count": 43,
   "metadata": {
    "colab": {
     "base_uri": "https://localhost:8080/"
    },
    "id": "74jNP2DBj3hb",
    "outputId": "d5f85887-a738-4699-e886-77d2225dd7eb"
   },
   "outputs": [
    {
     "name": "stdout",
     "output_type": "stream",
     "text": [
      "hit end!\n"
     ]
    }
   ],
   "source": [
    "trained_moedl = trained_ppo\n",
    "df_account_value_ppo, df_actions_ppo = DRLAgent.DRL_prediction(\n",
    "    model=trained_moedl, \n",
    "    environment = e_trade_gym)"
   ]
  },
  {
   "cell_type": "code",
   "execution_count": 44,
   "metadata": {
    "colab": {
     "base_uri": "https://localhost:8080/"
    },
    "id": "S7VyGGJPj3SH",
    "outputId": "10165564-7775-4358-c137-7c4ae646df6c"
   },
   "outputs": [
    {
     "name": "stdout",
     "output_type": "stream",
     "text": [
      "hit end!\n"
     ]
    }
   ],
   "source": [
    "trained_moedl = trained_td3\n",
    "df_account_value_td3, df_actions_td3 = DRLAgent.DRL_prediction(\n",
    "    model=trained_moedl, \n",
    "    environment = e_trade_gym)"
   ]
  },
  {
   "cell_type": "code",
   "execution_count": 45,
   "metadata": {
    "colab": {
     "base_uri": "https://localhost:8080/"
    },
    "id": "eLOnL5eYh1jR",
    "outputId": "6bdc3498-93b4-42ea-82ff-47ef9e99329c"
   },
   "outputs": [
    {
     "name": "stdout",
     "output_type": "stream",
     "text": [
      "hit end!\n"
     ]
    }
   ],
   "source": [
    "trained_moedl = trained_sac\n",
    "df_account_value_sac, df_actions_sac = DRLAgent.DRL_prediction(\n",
    "    model=trained_moedl, \n",
    "    environment = e_trade_gym)"
   ]
  },
  {
   "cell_type": "code",
   "execution_count": 46,
   "metadata": {
    "colab": {
     "base_uri": "https://localhost:8080/"
    },
    "id": "ERxw3KqLkcP4",
    "outputId": "52dbeacc-617a-4553-d4a9-8692b988a240"
   },
   "outputs": [
    {
     "data": {
      "text/plain": [
       "(353, 2)"
      ]
     },
     "execution_count": 46,
     "metadata": {},
     "output_type": "execute_result"
    }
   ],
   "source": [
    "df_account_value_a2c.shape"
   ]
  },
  {
   "cell_type": "markdown",
   "metadata": {
    "id": "W6vvNSC6h1jZ"
   },
   "source": [
    "<a id='6'></a>\n",
    "# Part 7: Backtesting Results\n",
    "Backtesting plays a key role in evaluating the performance of a trading strategy. Automated backtesting tool is preferred because it reduces the human error. We usually use the Quantopian pyfolio package to backtest our trading strategies. It is easy to use and consists of various individual plots that provide a comprehensive image of the performance of a trading strategy."
   ]
  },
  {
   "cell_type": "code",
   "execution_count": 47,
   "metadata": {
    "colab": {
     "base_uri": "https://localhost:8080/"
    },
    "id": "KeDeGAc9VrEg",
    "outputId": "11fb5805-7b2a-44c6-ccff-5238114632aa"
   },
   "outputs": [
    {
     "name": "stdout",
     "output_type": "stream",
     "text": [
      "==============Get Baseline Stats===========\n",
      "[*********************100%***********************]  1 of 1 completed\n",
      "Shape of DataFrame:  (354, 8)\n",
      "result:                       a2c          ddpg           td3           ppo  \\\n",
      "date                                                                 \n",
      "2021-10-01  1.000000e+06  1.000000e+06  1.000000e+06  1.000000e+06   \n",
      "2021-10-04  9.985765e+05  9.965331e+05  9.958541e+05  9.999248e+05   \n",
      "2021-10-05  1.001905e+06  1.002459e+06  1.002453e+06  1.000089e+06   \n",
      "2021-10-06  1.003111e+06  1.007538e+06  1.005955e+06  1.000171e+06   \n",
      "2021-10-07  1.011915e+06  1.017928e+06  1.015398e+06  1.000423e+06   \n",
      "...                  ...           ...           ...           ...   \n",
      "2023-02-21  9.849470e+05  8.733995e+05  9.006111e+05  9.891502e+05   \n",
      "2023-02-22  9.839412e+05  8.706863e+05  8.993816e+05  9.889180e+05   \n",
      "2023-02-23  9.887902e+05  8.731826e+05  9.039833e+05  9.893237e+05   \n",
      "2023-02-24  9.755412e+05  8.667151e+05  8.954663e+05  9.888712e+05   \n",
      "2023-02-27  9.768916e+05  8.691657e+05  8.965833e+05  9.889088e+05   \n",
      "\n",
      "                     sac           dji  \n",
      "date                                    \n",
      "2021-10-01  1.000000e+06  1.000000e+06  \n",
      "2021-10-04  9.970326e+05  9.905746e+05  \n",
      "2021-10-05  1.004427e+06  9.996566e+05  \n",
      "2021-10-06  1.007172e+06  1.002637e+06  \n",
      "2021-10-07  1.016652e+06  1.012483e+06  \n",
      "...                  ...           ...  \n",
      "2023-02-21  9.173275e+05  9.651327e+05  \n",
      "2023-02-22  9.158023e+05  9.626710e+05  \n",
      "2023-02-23  9.213158e+05  9.658412e+05  \n",
      "2023-02-24  9.083056e+05  9.560240e+05  \n",
      "2023-02-27  9.117482e+05  9.581264e+05  \n",
      "\n",
      "[353 rows x 6 columns]\n"
     ]
    },
    {
     "name": "stderr",
     "output_type": "stream",
     "text": [
      "d:\\Anaconda\\envs\\fin\\lib\\site-packages\\pyfolio\\timeseries.py:724: FutureWarning: The default dtype for empty Series will be 'object' instead of 'float64' in a future version. Specify a dtype explicitly to silence this warning.\n",
      "  stats = pd.Series()\n",
      "C:\\Users\\ThinkPad\\AppData\\Local\\Temp\\ipykernel_8724\\3948796361.py:27: FutureWarning: Passing 'suffixes' which cause duplicate columns {'account_value_x'} in the result is deprecated and will raise a MergeError in a future version.\n",
      "  result = pd.merge(result, df_result_ppo, left_index=True, right_index=True)\n",
      "C:\\Users\\ThinkPad\\AppData\\Local\\Temp\\ipykernel_8724\\3948796361.py:30: FutureWarning: Passing 'suffixes' which cause duplicate columns {'account_value_x'} in the result is deprecated and will raise a MergeError in a future version.\n",
      "  result = pd.merge(result, df_dji, left_index=True, right_index=True)\n"
     ]
    }
   ],
   "source": [
    "df_result_a2c = df_account_value_a2c.set_index(df_account_value_a2c.columns[0])\n",
    "df_result_ddpg = df_account_value_ddpg.set_index(df_account_value_ddpg.columns[0])\n",
    "df_result_td3 = df_account_value_td3.set_index(df_account_value_td3.columns[0])\n",
    "df_result_ppo = df_account_value_ppo.set_index(df_account_value_ppo.columns[0])\n",
    "df_result_sac = df_account_value_sac.set_index(df_account_value_sac.columns[0])\n",
    "df_account_value_a2c.to_csv(\"results/df_account_value_a2c.csv\")\n",
    "df_account_value_ddpg.to_csv(\"results/df_account_value_ddpg.csv\")\n",
    "df_account_value_td3.to_csv(\"results/df_account_value_td3.csv\")\n",
    "df_account_value_ppo.to_csv(\"results/df_account_value_ppo.csv\")\n",
    "df_account_value_sac.to_csv(\"results/df_account_value_sac.csv\")\n",
    "#baseline stats\n",
    "print(\"==============Get Baseline Stats===========\")\n",
    "df_dji_ = get_baseline(\n",
    "        ticker=\"^DJI\", \n",
    "        start = TRADE_START_DATE,\n",
    "        end = TRADE_END_DATE)\n",
    "stats = backtest_stats(df_dji_, value_col_name = 'close')\n",
    "df_dji = pd.DataFrame()\n",
    "df_dji['date'] = df_account_value_a2c['date']\n",
    "df_dji['account_value'] = df_dji_['close'] / df_dji_['close'][0] * env_kwargs[\"initial_amount\"]\n",
    "df_dji.to_csv(\"results/df_dji.csv\")\n",
    "df_dji = df_dji.set_index(df_dji.columns[0])\n",
    "df_dji.to_csv(\"results/df_dji+.csv\")\n",
    "\n",
    "result = pd.merge(df_result_a2c, df_result_ddpg, left_index=True, right_index=True)\n",
    "result = pd.merge(result, df_result_td3, left_index=True, right_index=True)\n",
    "result = pd.merge(result, df_result_ppo, left_index=True, right_index=True)\n",
    "result = pd.merge(result, df_result_sac, left_index=True, right_index=True)\n",
    "# result = pd.merge(result, MVO_result, left_index=True, right_index=True)\n",
    "result = pd.merge(result, df_dji, left_index=True, right_index=True)\n",
    "result.columns = ['a2c', 'ddpg', 'td3', 'ppo', 'sac', 'dji']\n",
    "\n",
    "print(\"result: \", result)\n",
    "result.to_csv(\"results/result.csv\")"
   ]
  },
  {
   "cell_type": "code",
   "execution_count": 58,
   "metadata": {
    "colab": {
     "base_uri": "https://localhost:8080/",
     "height": 348
    },
    "id": "6xRfrqK4RVfq",
    "outputId": "42a2502d-7447-40ef-e897-1af949fda9e0"
   },
   "outputs": [
    {
     "data": {
      "image/png": "[encoded data removed]",
      "text/plain": [
       "<Figure size 1500x500 with 1 Axes>"
      ]
     },
     "metadata": {},
     "output_type": "display_data"
    }
   ],
   "source": [
    "%matplotlib inline\n",
    "plt.rcParams[\"figure.figsize\"] = (15,5)\n",
    "# fig = plt.figure()\n",
    "fig = result.plot()\n",
    "# plt.plot(result)\n",
    "fig.get_figure().savefig('results/backtest.png')"
   ]
  },
  {
   "cell_type": "code",
   "execution_count": 53,
   "metadata": {},
   "outputs": [
    {
     "name": "stdout",
     "output_type": "stream",
     "text": [
      "Annual return         -0.016552\n",
      "Cumulative returns    -0.023108\n",
      "Annual volatility      0.129391\n",
      "Sharpe ratio          -0.064714\n",
      "Calmar ratio          -0.112787\n",
      "Stability              0.260002\n",
      "Max drawdown          -0.146752\n",
      "Omega ratio            0.987478\n",
      "Sortino ratio         -0.088894\n",
      "Skew                        NaN\n",
      "Kurtosis                    NaN\n",
      "Tail ratio             0.900032\n",
      "Daily value at risk   -0.016335\n",
      "dtype: float64\n"
     ]
    },
    {
     "name": "stderr",
     "output_type": "stream",
     "text": [
      "d:\\Anaconda\\envs\\fin\\lib\\site-packages\\pyfolio\\timeseries.py:724: FutureWarning: The default dtype for empty Series will be 'object' instead of 'float64' in a future version. Specify a dtype explicitly to silence this warning.\n",
      "  stats = pd.Series()\n"
     ]
    }
   ],
   "source": [
    "pd.DataFrame(backtest_stats(account_value=df_account_value_a2c)).to_csv('results/a2c_perf.csv')\n",
    "pd.DataFrame(backtest_stats(account_value=df_account_value_ddpg)).to_csv('results/ddpg_perf.csv')\n",
    "pd.DataFrame(backtest_stats(account_value=df_account_value_td3)).to_csv('results/td3_perf.csv')\n",
    "pd.DataFrame(backtest_stats(account_value=df_account_value_ppo)).to_csv('results/ppo_perf.csv')\n",
    "pd.DataFrame(backtest_stats(account_value=df_account_value_sac)).to_csv('results/sac_perf.csv')"
   ]
  },
  {
   "cell_type": "code",
   "execution_count": 49,
   "metadata": {},
   "outputs": [
    {
     "data": {
      "text/plain": [
       "'c:\\\\Users\\\\ThinkPad\\\\Desktop\\\\code\\\\FinRL\\\\results.zip'"
      ]
     },
     "execution_count": 49,
     "metadata": {},
     "output_type": "execute_result"
    }
   ],
   "source": [
    "import shutil\n",
    "folder_name = 'results'\n",
    "zip_file_name = 'results'\n",
    "shutil.make_archive(zip_file_name, 'zip', folder_name)"
   ]
  }
 ],
 "metadata": {
  "colab": {
   "collapsed_sections": [
    "HMNR5nHjh1iz",
    "uijiWgkuh1jB",
    "MRiOtrywfAo1",
    "_gDkU-j-fCmZ",
    "3Zpv4S0-fDBv"
   ],
   "provenance": []
  },
  "kernelspec": {
   "display_name": "base",
   "language": "python",
   "name": "python3"
  },
  "language_info": {
   "codemirror_mode": {
    "name": "ipython",
    "version": 3
   },
   "file_extension": ".py",
   "mimetype": "text/x-python",
   "name": "python",
   "nbconvert_exporter": "python",
   "pygments_lexer": "ipython3",
   "version": "3.10.9"
  },
  "vscode": {
   "interpreter": {
    "hash": "54cefccbf0f07c9750f12aa115c023dfa5ed4acecf9e7ad3bc9391869be60d0c"
   }
  }
 },
 "nbformat": 4,
 "nbformat_minor": 0
}
