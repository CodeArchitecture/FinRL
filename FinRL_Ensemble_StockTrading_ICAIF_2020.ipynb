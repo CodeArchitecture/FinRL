{
  "cells": [
    {
      "cell_type": "code",
      "execution_count": 1,
      "metadata": {
        "colab": {
          "base_uri": "https://localhost:8080/"
        },
        "id": "mPT0ipYE28wL",
        "outputId": "75fcd958-c29f-44f0-85ea-4b4f6ae180ec"
      },
      "outputs": [
        {
          "name": "stdout",
          "output_type": "stream",
          "text": [
            "c:\\Users\\ThinkPad\\Desktop\\code\\FinRL\n",
            "Requirement already satisfied: wrds in d:\\anaconda\\envs\\fin\\lib\\site-packages (3.1.2)\n",
            "Requirement already satisfied: numpy in d:\\anaconda\\envs\\fin\\lib\\site-packages (from wrds) (1.23.5)\n",
            "Requirement already satisfied: mock in d:\\anaconda\\envs\\fin\\lib\\site-packages (from wrds) (5.0.1)\n",
            "Requirement already satisfied: pandas in d:\\anaconda\\envs\\fin\\lib\\site-packages (from wrds) (1.5.2)\n",
            "Requirement already satisfied: sqlalchemy in d:\\anaconda\\envs\\fin\\lib\\site-packages (from wrds) (1.4.46)\n",
            "Requirement already satisfied: psycopg2-binary in d:\\anaconda\\envs\\fin\\lib\\site-packages (from wrds) (2.9.5)\n",
            "Requirement already satisfied: pytz>=2020.1 in d:\\anaconda\\envs\\fin\\lib\\site-packages (from pandas->wrds) (2022.7)\n",
            "Requirement already satisfied: python-dateutil>=2.8.1 in d:\\anaconda\\envs\\fin\\lib\\site-packages (from pandas->wrds) (2.8.2)\n",
            "Requirement already satisfied: greenlet!=0.4.17 in d:\\anaconda\\envs\\fin\\lib\\site-packages (from sqlalchemy->wrds) (2.0.1)\n",
            "Requirement already satisfied: six>=1.5 in d:\\anaconda\\envs\\fin\\lib\\site-packages (from python-dateutil>=2.8.1->pandas->wrds) (1.16.0)\n",
            "Requirement already satisfied: swig in d:\\anaconda\\envs\\fin\\lib\\site-packages (4.1.1)\n",
            "Requirement already satisfied: wrds in d:\\anaconda\\envs\\fin\\lib\\site-packages (from -r requirements.txt (line 1)) (3.1.2)\n",
            "Requirement already satisfied: numpy in d:\\anaconda\\envs\\fin\\lib\\site-packages (from -r requirements.txt (line 2)) (1.23.5)\n",
            "Requirement already satisfied: pandas in d:\\anaconda\\envs\\fin\\lib\\site-packages (from -r requirements.txt (line 3)) (1.5.2)\n",
            "Requirement already satisfied: torch in d:\\anaconda\\envs\\fin\\lib\\site-packages (from -r requirements.txt (line 4)) (1.13.1)\n",
            "Requirement already satisfied: pyfolio in d:\\anaconda\\envs\\fin\\lib\\site-packages (from -r requirements.txt (line 8)) (0.9.2+75.g4b901f6)\n",
            "Requirement already satisfied: matplotlib in d:\\anaconda\\envs\\fin\\lib\\site-packages (from -r requirements.txt (line 10)) (3.6.2)\n",
            "Requirement already satisfied: gym in d:\\anaconda\\envs\\fin\\lib\\site-packages (from -r requirements.txt (line 11)) (0.21.0)\n",
            "Requirement already satisfied: stockstats in d:\\anaconda\\envs\\fin\\lib\\site-packages (from -r requirements.txt (line 12)) (0.5.1)\n",
            "Requirement already satisfied: yfinance in d:\\anaconda\\envs\\fin\\lib\\site-packages (from -r requirements.txt (line 14)) (0.2.4)\n",
            "Requirement already satisfied: tensorboard in d:\\anaconda\\envs\\fin\\lib\\site-packages (from -r requirements.txt (line 18)) (2.10.0)\n",
            "Requirement already satisfied: stable-baselines3 in d:\\anaconda\\envs\\fin\\lib\\site-packages (from -r requirements.txt (line 19)) (1.7.0)\n",
            "Requirement already satisfied: alpaca_trade_api in d:\\anaconda\\envs\\fin\\lib\\site-packages (from -r requirements.txt (line 20)) (2.3.0)\n",
            "Requirement already satisfied: exchange_calendars in d:\\anaconda\\envs\\fin\\lib\\site-packages (from -r requirements.txt (line 21)) (4.2.4)\n",
            "Requirement already satisfied: sqlalchemy in d:\\anaconda\\envs\\fin\\lib\\site-packages (from wrds->-r requirements.txt (line 1)) (1.4.46)\n",
            "Requirement already satisfied: mock in d:\\anaconda\\envs\\fin\\lib\\site-packages (from wrds->-r requirements.txt (line 1)) (5.0.1)\n",
            "Requirement already satisfied: psycopg2-binary in d:\\anaconda\\envs\\fin\\lib\\site-packages (from wrds->-r requirements.txt (line 1)) (2.9.5)\n",
            "Requirement already satisfied: pytz>=2020.1 in d:\\anaconda\\envs\\fin\\lib\\site-packages (from pandas->-r requirements.txt (line 3)) (2022.7)\n",
            "Requirement already satisfied: python-dateutil>=2.8.1 in d:\\anaconda\\envs\\fin\\lib\\site-packages (from pandas->-r requirements.txt (line 3)) (2.8.2)\n",
            "Requirement already satisfied: typing_extensions in d:\\anaconda\\envs\\fin\\lib\\site-packages (from torch->-r requirements.txt (line 4)) (4.4.0)\n",
            "Requirement already satisfied: seaborn>=0.7.1 in d:\\anaconda\\envs\\fin\\lib\\site-packages (from pyfolio->-r requirements.txt (line 8)) (0.12.2)\n",
            "Requirement already satisfied: empyrical>=0.5.0 in d:\\anaconda\\envs\\fin\\lib\\site-packages (from pyfolio->-r requirements.txt (line 8)) (0.5.5)\n",
            "Requirement already satisfied: scikit-learn>=0.16.1 in d:\\anaconda\\envs\\fin\\lib\\site-packages (from pyfolio->-r requirements.txt (line 8)) (1.2.0)\n",
            "Requirement already satisfied: ipython>=3.2.3 in d:\\anaconda\\envs\\fin\\lib\\site-packages (from pyfolio->-r requirements.txt (line 8)) (8.7.0)\n",
            "Requirement already satisfied: scipy>=0.14.0 in d:\\anaconda\\envs\\fin\\lib\\site-packages (from pyfolio->-r requirements.txt (line 8)) (1.10.0)\n",
            "Requirement already satisfied: fonttools>=4.22.0 in d:\\anaconda\\envs\\fin\\lib\\site-packages (from matplotlib->-r requirements.txt (line 10)) (4.25.0)\n",
            "Requirement already satisfied: pillow>=6.2.0 in d:\\anaconda\\envs\\fin\\lib\\site-packages (from matplotlib->-r requirements.txt (line 10)) (9.3.0)\n",
            "Requirement already satisfied: contourpy>=1.0.1 in d:\\anaconda\\envs\\fin\\lib\\site-packages (from matplotlib->-r requirements.txt (line 10)) (1.0.5)\n",
            "Requirement already satisfied: pyparsing>=2.2.1 in d:\\anaconda\\envs\\fin\\lib\\site-packages (from matplotlib->-r requirements.txt (line 10)) (3.0.9)\n",
            "Requirement already satisfied: kiwisolver>=1.0.1 in d:\\anaconda\\envs\\fin\\lib\\site-packages (from matplotlib->-r requirements.txt (line 10)) (1.4.4)\n",
            "Requirement already satisfied: packaging>=20.0 in d:\\anaconda\\envs\\fin\\lib\\site-packages (from matplotlib->-r requirements.txt (line 10)) (22.0)\n",
            "Requirement already satisfied: cycler>=0.10 in d:\\anaconda\\envs\\fin\\lib\\site-packages (from matplotlib->-r requirements.txt (line 10)) (0.11.0)\n",
            "Requirement already satisfied: cloudpickle>=1.2.0 in d:\\anaconda\\envs\\fin\\lib\\site-packages (from gym->-r requirements.txt (line 11)) (2.2.1)\n",
            "Requirement already satisfied: multitasking>=0.0.7 in d:\\anaconda\\envs\\fin\\lib\\site-packages (from yfinance->-r requirements.txt (line 14)) (0.0.11)\n",
            "Requirement already satisfied: html5lib>=1.1 in d:\\anaconda\\envs\\fin\\lib\\site-packages (from yfinance->-r requirements.txt (line 14)) (1.1)\n",
            "Requirement already satisfied: cryptography>=3.3.2 in d:\\anaconda\\envs\\fin\\lib\\site-packages (from yfinance->-r requirements.txt (line 14)) (38.0.4)\n",
            "Requirement already satisfied: beautifulsoup4>=4.11.1 in d:\\anaconda\\envs\\fin\\lib\\site-packages (from yfinance->-r requirements.txt (line 14)) (4.11.1)\n",
            "Requirement already satisfied: appdirs>=1.4.4 in d:\\anaconda\\envs\\fin\\lib\\site-packages (from yfinance->-r requirements.txt (line 14)) (1.4.4)\n",
            "Requirement already satisfied: frozendict>=2.3.4 in d:\\anaconda\\envs\\fin\\lib\\site-packages (from yfinance->-r requirements.txt (line 14)) (2.3.4)\n",
            "Requirement already satisfied: lxml>=4.9.1 in d:\\anaconda\\envs\\fin\\lib\\site-packages (from yfinance->-r requirements.txt (line 14)) (4.9.1)\n",
            "Requirement already satisfied: requests>=2.26 in d:\\anaconda\\envs\\fin\\lib\\site-packages (from yfinance->-r requirements.txt (line 14)) (2.28.1)\n",
            "Requirement already satisfied: wheel>=0.26 in d:\\anaconda\\envs\\fin\\lib\\site-packages (from tensorboard->-r requirements.txt (line 18)) (0.37.1)\n",
            "Requirement already satisfied: setuptools>=41.0.0 in d:\\anaconda\\envs\\fin\\lib\\site-packages (from tensorboard->-r requirements.txt (line 18)) (65.6.3)\n",
            "Requirement already satisfied: tensorboard-data-server<0.7.0,>=0.6.0 in d:\\anaconda\\envs\\fin\\lib\\site-packages (from tensorboard->-r requirements.txt (line 18)) (0.6.1)\n",
            "Requirement already satisfied: tensorboard-plugin-wit>=1.6.0 in d:\\anaconda\\envs\\fin\\lib\\site-packages (from tensorboard->-r requirements.txt (line 18)) (1.8.1)\n",
            "Requirement already satisfied: werkzeug>=1.0.1 in d:\\anaconda\\envs\\fin\\lib\\site-packages (from tensorboard->-r requirements.txt (line 18)) (2.2.2)\n",
            "Requirement already satisfied: markdown>=2.6.8 in d:\\anaconda\\envs\\fin\\lib\\site-packages (from tensorboard->-r requirements.txt (line 18)) (3.4.1)\n",
            "Requirement already satisfied: google-auth<3,>=1.6.3 in d:\\anaconda\\envs\\fin\\lib\\site-packages (from tensorboard->-r requirements.txt (line 18)) (2.6.0)\n",
            "Requirement already satisfied: protobuf<3.20,>=3.9.2 in c:\\users\\thinkpad\\appdata\\roaming\\python\\python310\\site-packages (from tensorboard->-r requirements.txt (line 18)) (3.19.6)\n",
            "Requirement already satisfied: grpcio>=1.24.3 in d:\\anaconda\\envs\\fin\\lib\\site-packages (from tensorboard->-r requirements.txt (line 18)) (1.42.0)\n",
            "Requirement already satisfied: google-auth-oauthlib<0.5,>=0.4.1 in d:\\anaconda\\envs\\fin\\lib\\site-packages (from tensorboard->-r requirements.txt (line 18)) (0.4.4)\n",
            "Requirement already satisfied: absl-py>=0.4 in d:\\anaconda\\envs\\fin\\lib\\site-packages (from tensorboard->-r requirements.txt (line 18)) (1.3.0)\n",
            "Requirement already satisfied: importlib-metadata~=4.13 in d:\\anaconda\\envs\\fin\\lib\\site-packages (from stable-baselines3->-r requirements.txt (line 19)) (4.13.0)\n",
            "Requirement already satisfied: aiohttp==3.8.1 in d:\\anaconda\\envs\\fin\\lib\\site-packages (from alpaca_trade_api->-r requirements.txt (line 20)) (3.8.1)\n",
            "Requirement already satisfied: websocket-client<2,>=0.56.0 in d:\\anaconda\\envs\\fin\\lib\\site-packages (from alpaca_trade_api->-r requirements.txt (line 20)) (0.58.0)\n",
            "Requirement already satisfied: urllib3<2,>1.24 in d:\\anaconda\\envs\\fin\\lib\\site-packages (from alpaca_trade_api->-r requirements.txt (line 20)) (1.26.14)\n",
            "Requirement already satisfied: PyYAML==6.0 in d:\\anaconda\\envs\\fin\\lib\\site-packages (from alpaca_trade_api->-r requirements.txt (line 20)) (6.0)\n",
            "Requirement already satisfied: websockets<11,>=9.0 in d:\\anaconda\\envs\\fin\\lib\\site-packages (from alpaca_trade_api->-r requirements.txt (line 20)) (10.4)\n",
            "Requirement already satisfied: deprecation==2.1.0 in d:\\anaconda\\envs\\fin\\lib\\site-packages (from alpaca_trade_api->-r requirements.txt (line 20)) (2.1.0)\n",
            "Requirement already satisfied: msgpack==1.0.3 in d:\\anaconda\\envs\\fin\\lib\\site-packages (from alpaca_trade_api->-r requirements.txt (line 20)) (1.0.3)\n",
            "Requirement already satisfied: attrs>=17.3.0 in d:\\anaconda\\envs\\fin\\lib\\site-packages (from aiohttp==3.8.1->alpaca_trade_api->-r requirements.txt (line 20)) (22.1.0)\n",
            "Requirement already satisfied: yarl<2.0,>=1.0 in d:\\anaconda\\envs\\fin\\lib\\site-packages (from aiohttp==3.8.1->alpaca_trade_api->-r requirements.txt (line 20)) (1.8.1)\n",
            "Requirement already satisfied: frozenlist>=1.1.1 in d:\\anaconda\\envs\\fin\\lib\\site-packages (from aiohttp==3.8.1->alpaca_trade_api->-r requirements.txt (line 20)) (1.3.3)\n",
            "Requirement already satisfied: async-timeout<5.0,>=4.0.0a3 in d:\\anaconda\\envs\\fin\\lib\\site-packages (from aiohttp==3.8.1->alpaca_trade_api->-r requirements.txt (line 20)) (4.0.2)\n",
            "Requirement already satisfied: multidict<7.0,>=4.5 in d:\\anaconda\\envs\\fin\\lib\\site-packages (from aiohttp==3.8.1->alpaca_trade_api->-r requirements.txt (line 20)) (6.0.2)\n",
            "Requirement already satisfied: aiosignal>=1.1.2 in d:\\anaconda\\envs\\fin\\lib\\site-packages (from aiohttp==3.8.1->alpaca_trade_api->-r requirements.txt (line 20)) (1.2.0)\n",
            "Requirement already satisfied: charset-normalizer<3.0,>=2.0 in d:\\anaconda\\envs\\fin\\lib\\site-packages (from aiohttp==3.8.1->alpaca_trade_api->-r requirements.txt (line 20)) (2.0.4)\n",
            "Requirement already satisfied: pyluach in d:\\anaconda\\envs\\fin\\lib\\site-packages (from exchange_calendars->-r requirements.txt (line 21)) (2.0.2)\n",
            "Requirement already satisfied: toolz in d:\\anaconda\\envs\\fin\\lib\\site-packages (from exchange_calendars->-r requirements.txt (line 21)) (0.12.0)\n",
            "Requirement already satisfied: korean-lunar-calendar in d:\\anaconda\\envs\\fin\\lib\\site-packages (from exchange_calendars->-r requirements.txt (line 21)) (0.3.1)\n",
            "Requirement already satisfied: soupsieve>1.2 in d:\\anaconda\\envs\\fin\\lib\\site-packages (from beautifulsoup4>=4.11.1->yfinance->-r requirements.txt (line 14)) (2.3.2.post1)\n",
            "Requirement already satisfied: cffi>=1.12 in d:\\anaconda\\envs\\fin\\lib\\site-packages (from cryptography>=3.3.2->yfinance->-r requirements.txt (line 14)) (1.15.1)\n",
            "Requirement already satisfied: pandas-datareader>=0.2 in d:\\anaconda\\envs\\fin\\lib\\site-packages (from empyrical>=0.5.0->pyfolio->-r requirements.txt (line 8)) (0.10.0)\n",
            "Requirement already satisfied: cachetools<6.0,>=2.0.0 in d:\\anaconda\\envs\\fin\\lib\\site-packages (from google-auth<3,>=1.6.3->tensorboard->-r requirements.txt (line 18)) (4.2.2)\n",
            "Requirement already satisfied: rsa<5,>=3.1.4 in d:\\anaconda\\envs\\fin\\lib\\site-packages (from google-auth<3,>=1.6.3->tensorboard->-r requirements.txt (line 18)) (4.7.2)\n",
            "Requirement already satisfied: pyasn1-modules>=0.2.1 in d:\\anaconda\\envs\\fin\\lib\\site-packages (from google-auth<3,>=1.6.3->tensorboard->-r requirements.txt (line 18)) (0.2.8)\n",
            "Requirement already satisfied: six>=1.9.0 in d:\\anaconda\\envs\\fin\\lib\\site-packages (from google-auth<3,>=1.6.3->tensorboard->-r requirements.txt (line 18)) (1.16.0)\n",
            "Requirement already satisfied: requests-oauthlib>=0.7.0 in d:\\anaconda\\envs\\fin\\lib\\site-packages (from google-auth-oauthlib<0.5,>=0.4.1->tensorboard->-r requirements.txt (line 18)) (1.3.0)\n",
            "Requirement already satisfied: webencodings in d:\\anaconda\\envs\\fin\\lib\\site-packages (from html5lib>=1.1->yfinance->-r requirements.txt (line 14)) (0.5.1)\n",
            "Requirement already satisfied: zipp>=0.5 in d:\\anaconda\\envs\\fin\\lib\\site-packages (from importlib-metadata~=4.13->stable-baselines3->-r requirements.txt (line 19)) (3.11.0)\n",
            "Requirement already satisfied: backcall in d:\\anaconda\\envs\\fin\\lib\\site-packages (from ipython>=3.2.3->pyfolio->-r requirements.txt (line 8)) (0.2.0)\n",
            "Requirement already satisfied: pickleshare in d:\\anaconda\\envs\\fin\\lib\\site-packages (from ipython>=3.2.3->pyfolio->-r requirements.txt (line 8)) (0.7.5)\n",
            "Requirement already satisfied: decorator in d:\\anaconda\\envs\\fin\\lib\\site-packages (from ipython>=3.2.3->pyfolio->-r requirements.txt (line 8)) (5.1.1)\n",
            "Requirement already satisfied: colorama in d:\\anaconda\\envs\\fin\\lib\\site-packages (from ipython>=3.2.3->pyfolio->-r requirements.txt (line 8)) (0.4.6)\n",
            "Requirement already satisfied: traitlets>=5 in d:\\anaconda\\envs\\fin\\lib\\site-packages (from ipython>=3.2.3->pyfolio->-r requirements.txt (line 8)) (5.7.1)\n",
            "Requirement already satisfied: prompt-toolkit<3.1.0,>=3.0.11 in d:\\anaconda\\envs\\fin\\lib\\site-packages (from ipython>=3.2.3->pyfolio->-r requirements.txt (line 8)) (3.0.36)\n",
            "Requirement already satisfied: pygments>=2.4.0 in d:\\anaconda\\envs\\fin\\lib\\site-packages (from ipython>=3.2.3->pyfolio->-r requirements.txt (line 8)) (2.11.2)\n",
            "Requirement already satisfied: matplotlib-inline in d:\\anaconda\\envs\\fin\\lib\\site-packages (from ipython>=3.2.3->pyfolio->-r requirements.txt (line 8)) (0.1.6)\n",
            "Requirement already satisfied: stack-data in d:\\anaconda\\envs\\fin\\lib\\site-packages (from ipython>=3.2.3->pyfolio->-r requirements.txt (line 8)) (0.2.0)\n",
            "Requirement already satisfied: jedi>=0.16 in d:\\anaconda\\envs\\fin\\lib\\site-packages (from ipython>=3.2.3->pyfolio->-r requirements.txt (line 8)) (0.18.1)\n",
            "Requirement already satisfied: certifi>=2017.4.17 in d:\\anaconda\\envs\\fin\\lib\\site-packages (from requests>=2.26->yfinance->-r requirements.txt (line 14)) (2022.12.7)\n",
            "Requirement already satisfied: idna<4,>=2.5 in d:\\anaconda\\envs\\fin\\lib\\site-packages (from requests>=2.26->yfinance->-r requirements.txt (line 14)) (3.4)\n",
            "Requirement already satisfied: threadpoolctl>=2.0.0 in d:\\anaconda\\envs\\fin\\lib\\site-packages (from scikit-learn>=0.16.1->pyfolio->-r requirements.txt (line 8)) (3.1.0)\n",
            "Requirement already satisfied: joblib>=1.1.1 in d:\\anaconda\\envs\\fin\\lib\\site-packages (from scikit-learn>=0.16.1->pyfolio->-r requirements.txt (line 8)) (1.2.0)\n",
            "Requirement already satisfied: MarkupSafe>=2.1.1 in d:\\anaconda\\envs\\fin\\lib\\site-packages (from werkzeug>=1.0.1->tensorboard->-r requirements.txt (line 18)) (2.1.1)\n",
            "Requirement already satisfied: greenlet!=0.4.17 in d:\\anaconda\\envs\\fin\\lib\\site-packages (from sqlalchemy->wrds->-r requirements.txt (line 1)) (2.0.1)\n",
            "Requirement already satisfied: pycparser in d:\\anaconda\\envs\\fin\\lib\\site-packages (from cffi>=1.12->cryptography>=3.3.2->yfinance->-r requirements.txt (line 14)) (2.21)\n",
            "Requirement already satisfied: parso<0.9.0,>=0.8.0 in d:\\anaconda\\envs\\fin\\lib\\site-packages (from jedi>=0.16->ipython>=3.2.3->pyfolio->-r requirements.txt (line 8)) (0.8.3)\n",
            "Requirement already satisfied: wcwidth in d:\\anaconda\\envs\\fin\\lib\\site-packages (from prompt-toolkit<3.1.0,>=3.0.11->ipython>=3.2.3->pyfolio->-r requirements.txt (line 8)) (0.2.5)\n",
            "Requirement already satisfied: pyasn1<0.5.0,>=0.4.6 in d:\\anaconda\\envs\\fin\\lib\\site-packages (from pyasn1-modules>=0.2.1->google-auth<3,>=1.6.3->tensorboard->-r requirements.txt (line 18)) (0.4.8)\n",
            "Requirement already satisfied: oauthlib>=3.0.0 in d:\\anaconda\\envs\\fin\\lib\\site-packages (from requests-oauthlib>=0.7.0->google-auth-oauthlib<0.5,>=0.4.1->tensorboard->-r requirements.txt (line 18)) (3.2.1)\n",
            "Requirement already satisfied: asttokens in d:\\anaconda\\envs\\fin\\lib\\site-packages (from stack-data->ipython>=3.2.3->pyfolio->-r requirements.txt (line 8)) (2.0.5)\n",
            "Requirement already satisfied: executing in d:\\anaconda\\envs\\fin\\lib\\site-packages (from stack-data->ipython>=3.2.3->pyfolio->-r requirements.txt (line 8)) (0.8.3)\n",
            "Requirement already satisfied: pure-eval in d:\\anaconda\\envs\\fin\\lib\\site-packages (from stack-data->ipython>=3.2.3->pyfolio->-r requirements.txt (line 8)) (0.2.2)\n"
          ]
        }
      ],
      "source": [
        "# ## install finrl library\n",
        "import os\n",
        "print(os.getcwd())\n",
        "! pip install wrds\n",
        "! pip install swig\n",
        "# !pip install git+https://github.com/AI4Finance-Foundation/FinRL.git\n",
        "! pip install -r requirements.txt"
      ]
    },
    {
      "cell_type": "code",
      "execution_count": 2,
      "metadata": {
        "id": "EeMK7Uentj1V"
      },
      "outputs": [],
      "source": [
        "import warnings\n",
        "warnings.filterwarnings(\"ignore\")"
      ]
    },
    {
      "cell_type": "code",
      "execution_count": 3,
      "metadata": {
        "id": "lPqeTTwoh1hn"
      },
      "outputs": [],
      "source": [
        "import pandas as pd\n",
        "import numpy as np\n",
        "import matplotlib\n",
        "import matplotlib.pyplot as plt\n",
        "# matplotlib.use('Agg')\n",
        "import datetime\n",
        "\n",
        "# %matplotlib inline\n",
        "from finrl.config_tickers import DOW_30_TICKER, SSE_50_TICKER, CRYPTO_TICKERS, FX_TICKER, HSI_50_TICKER,NAS_100_TICKER\n",
        "from finrl.meta.preprocessor.yahoodownloader import YahooDownloader\n",
        "from finrl.meta.preprocessor.preprocessors import FeatureEngineer, data_split\n",
        "from finrl.meta.env_stock_trading.env_stocktrading import StockTradingEnv\n",
        "from finrl.agents.stablebaselines3.models import DRLAgent,DRLEnsembleAgent\n",
        "from finrl.plot import backtest_stats, backtest_plot, get_daily_return, get_baseline\n",
        "\n",
        "from pprint import pprint\n",
        "\n",
        "# import sys\n",
        "# sys.path.append(\"../FinRL-Library\")\n",
        "import itertools\n",
        "DATASET = {'DOW_30_TICKER':DOW_30_TICKER,'SSE_50_TICKER':SSE_50_TICKER,\n",
        "           'CRYPTO_TICKERS':CRYPTO_TICKERS,'FX_TICKER':FX_TICKER,\n",
        "           'HSI_50_TICKER':HSI_50_TICKER,'NAS_100_TICKER':NAS_100_TICKER}\n",
        "data_str = 'DOW_30_TICKER'\n",
        "PORTFOLIO = DATASET[data_str]"
      ]
    },
    {
      "cell_type": "code",
      "execution_count": 4,
      "metadata": {
        "id": "w9A8CN5R5PuZ"
      },
      "outputs": [],
      "source": [
        "import os\n",
        "from finrl.main import check_and_make_directories\n",
        "from finrl.config import (\n",
        "    DATA_SAVE_DIR,\n",
        "    TRAINED_MODEL_DIR,\n",
        "    TENSORBOARD_LOG_DIR,\n",
        "    RESULTS_DIR,\n",
        "    INDICATORS,\n",
        "    TRAIN_START_DATE,\n",
        "    TRAIN_END_DATE,\n",
        "    TEST_START_DATE,\n",
        "    TEST_END_DATE,\n",
        "    TRADE_START_DATE,\n",
        "    TRADE_END_DATE,\n",
        ")\n",
        "\n",
        "check_and_make_directories([DATA_SAVE_DIR, TRAINED_MODEL_DIR, TENSORBOARD_LOG_DIR, RESULTS_DIR])"
      ]
    },
    {
      "cell_type": "code",
      "execution_count": 5,
      "metadata": {
        "colab": {
          "base_uri": "https://localhost:8080/"
        },
        "id": "JzqRRTOX6aFu",
        "outputId": "178c70ab-72e5-4ed7-cfa8-fd6ea7b1e8ad"
      },
      "outputs": [
        {
          "name": "stdout",
          "output_type": "stream",
          "text": [
            "['AXP', 'AMGN', 'AAPL', 'BA', 'CAT', 'CSCO', 'CVX', 'GS', 'HD', 'HON', 'IBM', 'INTC', 'JNJ', 'KO', 'JPM', 'MCD', 'MMM', 'MRK', 'MSFT', 'NKE', 'PG', 'TRV', 'UNH', 'CRM', 'VZ', 'V', 'WBA', 'WMT', 'DIS', 'DOW']\n"
          ]
        }
      ],
      "source": [
        "print(PORTFOLIO)"
      ]
    },
    {
      "cell_type": "code",
      "execution_count": 6,
      "metadata": {
        "colab": {
          "base_uri": "https://localhost:8080/"
        },
        "id": "yCKm4om-s9kE",
        "outputId": "0a5b0405-7c4f-4afd-c3e1-1dabd55c81fb"
      },
      "outputs": [
        {
          "name": "stdout",
          "output_type": "stream",
          "text": [
            "[*********************100%***********************]  1 of 1 completed\n",
            "[*********************100%***********************]  1 of 1 completed\n",
            "[*********************100%***********************]  1 of 1 completed\n",
            "[*********************100%***********************]  1 of 1 completed\n",
            "[*********************100%***********************]  1 of 1 completed\n",
            "[*********************100%***********************]  1 of 1 completed\n",
            "[*********************100%***********************]  1 of 1 completed\n",
            "[*********************100%***********************]  1 of 1 completed\n",
            "[*********************100%***********************]  1 of 1 completed\n",
            "[*********************100%***********************]  1 of 1 completed\n",
            "[*********************100%***********************]  1 of 1 completed\n",
            "[*********************100%***********************]  1 of 1 completed\n",
            "[*********************100%***********************]  1 of 1 completed\n",
            "[*********************100%***********************]  1 of 1 completed\n",
            "[*********************100%***********************]  1 of 1 completed\n",
            "[*********************100%***********************]  1 of 1 completed\n",
            "[*********************100%***********************]  1 of 1 completed\n",
            "[*********************100%***********************]  1 of 1 completed\n",
            "[*********************100%***********************]  1 of 1 completed\n",
            "[*********************100%***********************]  1 of 1 completed\n",
            "[*********************100%***********************]  1 of 1 completed\n",
            "[*********************100%***********************]  1 of 1 completed\n",
            "[*********************100%***********************]  1 of 1 completed\n",
            "[*********************100%***********************]  1 of 1 completed\n",
            "[*********************100%***********************]  1 of 1 completed\n",
            "[*********************100%***********************]  1 of 1 completed\n",
            "[*********************100%***********************]  1 of 1 completed\n",
            "[*********************100%***********************]  1 of 1 completed\n",
            "[*********************100%***********************]  1 of 1 completed\n",
            "[*********************100%***********************]  1 of 1 completed\n",
            "Shape of DataFrame:  (36867, 8)\n"
          ]
        }
      ],
      "source": [
        "# crypto currency\n",
        "TRAIN_START_DATE = '2018-04-01'\n",
        "TRAIN_END_DATE = '2021-10-01'\n",
        "TEST_START_DATE = '2021-10-01'\n",
        "TEST_END_DATE = '2023-03-01'\n",
        "\n",
        "# TRAIN_START_DATE = '2010-01-01'\n",
        "# TRAIN_END_DATE = '2021-10-01'\n",
        "# TEST_START_DATE = '2021-10-01'\n",
        "# TEST_END_DATE = '2023-03-01'\n",
        "\n",
        "df = YahooDownloader(start_date = TRAIN_START_DATE,\n",
        "                     end_date = TEST_END_DATE,\n",
        "                     ticker_list = PORTFOLIO).fetch_data()"
      ]
    },
    {
      "cell_type": "code",
      "execution_count": 7,
      "metadata": {
        "colab": {
          "base_uri": "https://localhost:8080/",
          "height": 206
        },
        "id": "GiRuFOTOtj1Y",
        "outputId": "402874c0-b13f-437b-a67f-a83f88de66eb"
      },
      "outputs": [
        {
          "data": {
            "text/html": [
              "<div>\n",
              "<style scoped>\n",
              "    .dataframe tbody tr th:only-of-type {\n",
              "        vertical-align: middle;\n",
              "    }\n",
              "\n",
              "    .dataframe tbody tr th {\n",
              "        vertical-align: top;\n",
              "    }\n",
              "\n",
              "    .dataframe thead th {\n",
              "        text-align: right;\n",
              "    }\n",
              "</style>\n",
              "<table border=\"1\" class=\"dataframe\">\n",
              "  <thead>\n",
              "    <tr style=\"text-align: right;\">\n",
              "      <th></th>\n",
              "      <th>date</th>\n",
              "      <th>open</th>\n",
              "      <th>high</th>\n",
              "      <th>low</th>\n",
              "      <th>close</th>\n",
              "      <th>volume</th>\n",
              "      <th>tic</th>\n",
              "      <th>day</th>\n",
              "    </tr>\n",
              "  </thead>\n",
              "  <tbody>\n",
              "    <tr>\n",
              "      <th>0</th>\n",
              "      <td>2018-04-02</td>\n",
              "      <td>41.660000</td>\n",
              "      <td>42.235001</td>\n",
              "      <td>41.117500</td>\n",
              "      <td>39.724884</td>\n",
              "      <td>150347200</td>\n",
              "      <td>AAPL</td>\n",
              "      <td>0</td>\n",
              "    </tr>\n",
              "    <tr>\n",
              "      <th>1</th>\n",
              "      <td>2018-04-02</td>\n",
              "      <td>169.919998</td>\n",
              "      <td>170.580002</td>\n",
              "      <td>163.309998</td>\n",
              "      <td>143.063889</td>\n",
              "      <td>4759800</td>\n",
              "      <td>AMGN</td>\n",
              "      <td>0</td>\n",
              "    </tr>\n",
              "    <tr>\n",
              "      <th>2</th>\n",
              "      <td>2018-04-02</td>\n",
              "      <td>93.139999</td>\n",
              "      <td>93.550003</td>\n",
              "      <td>89.959999</td>\n",
              "      <td>84.752602</td>\n",
              "      <td>4998400</td>\n",
              "      <td>AXP</td>\n",
              "      <td>0</td>\n",
              "    </tr>\n",
              "    <tr>\n",
              "      <th>3</th>\n",
              "      <td>2018-04-02</td>\n",
              "      <td>325.200012</td>\n",
              "      <td>329.940002</td>\n",
              "      <td>317.170013</td>\n",
              "      <td>308.799866</td>\n",
              "      <td>5024900</td>\n",
              "      <td>BA</td>\n",
              "      <td>0</td>\n",
              "    </tr>\n",
              "    <tr>\n",
              "      <th>4</th>\n",
              "      <td>2018-04-02</td>\n",
              "      <td>146.440002</td>\n",
              "      <td>147.350006</td>\n",
              "      <td>141.759995</td>\n",
              "      <td>127.136780</td>\n",
              "      <td>5397500</td>\n",
              "      <td>CAT</td>\n",
              "      <td>0</td>\n",
              "    </tr>\n",
              "  </tbody>\n",
              "</table>\n",
              "</div>"
            ],
            "text/plain": [
              "         date        open        high         low       close     volume  \\\n",
              "0  2018-04-02   41.660000   42.235001   41.117500   39.724884  150347200   \n",
              "1  2018-04-02  169.919998  170.580002  163.309998  143.063889    4759800   \n",
              "2  2018-04-02   93.139999   93.550003   89.959999   84.752602    4998400   \n",
              "3  2018-04-02  325.200012  329.940002  317.170013  308.799866    5024900   \n",
              "4  2018-04-02  146.440002  147.350006  141.759995  127.136780    5397500   \n",
              "\n",
              "    tic  day  \n",
              "0  AAPL    0  \n",
              "1  AMGN    0  \n",
              "2   AXP    0  \n",
              "3    BA    0  \n",
              "4   CAT    0  "
            ]
          },
          "execution_count": 7,
          "metadata": {},
          "output_type": "execute_result"
        }
      ],
      "source": [
        "df.head()"
      ]
    },
    {
      "cell_type": "code",
      "execution_count": 8,
      "metadata": {
        "colab": {
          "base_uri": "https://localhost:8080/",
          "height": 206
        },
        "id": "DSw4ZEzVtj1Z",
        "outputId": "94617d16-432c-40eb-f758-16d2fdab09e0"
      },
      "outputs": [
        {
          "data": {
            "text/html": [
              "<div>\n",
              "<style scoped>\n",
              "    .dataframe tbody tr th:only-of-type {\n",
              "        vertical-align: middle;\n",
              "    }\n",
              "\n",
              "    .dataframe tbody tr th {\n",
              "        vertical-align: top;\n",
              "    }\n",
              "\n",
              "    .dataframe thead th {\n",
              "        text-align: right;\n",
              "    }\n",
              "</style>\n",
              "<table border=\"1\" class=\"dataframe\">\n",
              "  <thead>\n",
              "    <tr style=\"text-align: right;\">\n",
              "      <th></th>\n",
              "      <th>date</th>\n",
              "      <th>open</th>\n",
              "      <th>high</th>\n",
              "      <th>low</th>\n",
              "      <th>close</th>\n",
              "      <th>volume</th>\n",
              "      <th>tic</th>\n",
              "      <th>day</th>\n",
              "    </tr>\n",
              "  </thead>\n",
              "  <tbody>\n",
              "    <tr>\n",
              "      <th>36862</th>\n",
              "      <td>2023-02-28</td>\n",
              "      <td>482.670013</td>\n",
              "      <td>483.359985</td>\n",
              "      <td>473.920013</td>\n",
              "      <td>474.250854</td>\n",
              "      <td>3902100</td>\n",
              "      <td>UNH</td>\n",
              "      <td>1</td>\n",
              "    </tr>\n",
              "    <tr>\n",
              "      <th>36863</th>\n",
              "      <td>2023-02-28</td>\n",
              "      <td>220.000000</td>\n",
              "      <td>221.770004</td>\n",
              "      <td>219.500000</td>\n",
              "      <td>219.940002</td>\n",
              "      <td>5385400</td>\n",
              "      <td>V</td>\n",
              "      <td>1</td>\n",
              "    </tr>\n",
              "    <tr>\n",
              "      <th>36864</th>\n",
              "      <td>2023-02-28</td>\n",
              "      <td>38.700001</td>\n",
              "      <td>38.970001</td>\n",
              "      <td>38.549999</td>\n",
              "      <td>38.810001</td>\n",
              "      <td>16685300</td>\n",
              "      <td>VZ</td>\n",
              "      <td>1</td>\n",
              "    </tr>\n",
              "    <tr>\n",
              "      <th>36865</th>\n",
              "      <td>2023-02-28</td>\n",
              "      <td>35.480000</td>\n",
              "      <td>35.779999</td>\n",
              "      <td>35.320000</td>\n",
              "      <td>35.529999</td>\n",
              "      <td>8847000</td>\n",
              "      <td>WBA</td>\n",
              "      <td>1</td>\n",
              "    </tr>\n",
              "    <tr>\n",
              "      <th>36866</th>\n",
              "      <td>2023-02-28</td>\n",
              "      <td>141.000000</td>\n",
              "      <td>142.649994</td>\n",
              "      <td>140.949997</td>\n",
              "      <td>141.549850</td>\n",
              "      <td>6018000</td>\n",
              "      <td>WMT</td>\n",
              "      <td>1</td>\n",
              "    </tr>\n",
              "  </tbody>\n",
              "</table>\n",
              "</div>"
            ],
            "text/plain": [
              "             date        open        high         low       close    volume  \\\n",
              "36862  2023-02-28  482.670013  483.359985  473.920013  474.250854   3902100   \n",
              "36863  2023-02-28  220.000000  221.770004  219.500000  219.940002   5385400   \n",
              "36864  2023-02-28   38.700001   38.970001   38.549999   38.810001  16685300   \n",
              "36865  2023-02-28   35.480000   35.779999   35.320000   35.529999   8847000   \n",
              "36866  2023-02-28  141.000000  142.649994  140.949997  141.549850   6018000   \n",
              "\n",
              "       tic  day  \n",
              "36862  UNH    1  \n",
              "36863    V    1  \n",
              "36864   VZ    1  \n",
              "36865  WBA    1  \n",
              "36866  WMT    1  "
            ]
          },
          "execution_count": 8,
          "metadata": {},
          "output_type": "execute_result"
        }
      ],
      "source": [
        "df.tail()"
      ]
    },
    {
      "cell_type": "code",
      "execution_count": 9,
      "metadata": {
        "colab": {
          "base_uri": "https://localhost:8080/"
        },
        "id": "CV3HrZHLh1hy",
        "outputId": "73944c23-5a4e-49f8-b9e5-da382b4fc7f5"
      },
      "outputs": [
        {
          "data": {
            "text/plain": [
              "(36867, 8)"
            ]
          },
          "execution_count": 9,
          "metadata": {},
          "output_type": "execute_result"
        }
      ],
      "source": [
        "df.shape"
      ]
    },
    {
      "cell_type": "code",
      "execution_count": 10,
      "metadata": {
        "colab": {
          "base_uri": "https://localhost:8080/",
          "height": 206
        },
        "id": "4hYkeaPiICHS",
        "outputId": "87cca0b1-8d3c-4a61-e061-ea0d9989daa1"
      },
      "outputs": [
        {
          "data": {
            "text/html": [
              "<div>\n",
              "<style scoped>\n",
              "    .dataframe tbody tr th:only-of-type {\n",
              "        vertical-align: middle;\n",
              "    }\n",
              "\n",
              "    .dataframe tbody tr th {\n",
              "        vertical-align: top;\n",
              "    }\n",
              "\n",
              "    .dataframe thead th {\n",
              "        text-align: right;\n",
              "    }\n",
              "</style>\n",
              "<table border=\"1\" class=\"dataframe\">\n",
              "  <thead>\n",
              "    <tr style=\"text-align: right;\">\n",
              "      <th></th>\n",
              "      <th>date</th>\n",
              "      <th>open</th>\n",
              "      <th>high</th>\n",
              "      <th>low</th>\n",
              "      <th>close</th>\n",
              "      <th>volume</th>\n",
              "      <th>tic</th>\n",
              "      <th>day</th>\n",
              "    </tr>\n",
              "  </thead>\n",
              "  <tbody>\n",
              "    <tr>\n",
              "      <th>0</th>\n",
              "      <td>2018-04-02</td>\n",
              "      <td>41.660000</td>\n",
              "      <td>42.235001</td>\n",
              "      <td>41.117500</td>\n",
              "      <td>39.724884</td>\n",
              "      <td>150347200</td>\n",
              "      <td>AAPL</td>\n",
              "      <td>0</td>\n",
              "    </tr>\n",
              "    <tr>\n",
              "      <th>1</th>\n",
              "      <td>2018-04-02</td>\n",
              "      <td>169.919998</td>\n",
              "      <td>170.580002</td>\n",
              "      <td>163.309998</td>\n",
              "      <td>143.063889</td>\n",
              "      <td>4759800</td>\n",
              "      <td>AMGN</td>\n",
              "      <td>0</td>\n",
              "    </tr>\n",
              "    <tr>\n",
              "      <th>2</th>\n",
              "      <td>2018-04-02</td>\n",
              "      <td>93.139999</td>\n",
              "      <td>93.550003</td>\n",
              "      <td>89.959999</td>\n",
              "      <td>84.752602</td>\n",
              "      <td>4998400</td>\n",
              "      <td>AXP</td>\n",
              "      <td>0</td>\n",
              "    </tr>\n",
              "    <tr>\n",
              "      <th>3</th>\n",
              "      <td>2018-04-02</td>\n",
              "      <td>325.200012</td>\n",
              "      <td>329.940002</td>\n",
              "      <td>317.170013</td>\n",
              "      <td>308.799866</td>\n",
              "      <td>5024900</td>\n",
              "      <td>BA</td>\n",
              "      <td>0</td>\n",
              "    </tr>\n",
              "    <tr>\n",
              "      <th>4</th>\n",
              "      <td>2018-04-02</td>\n",
              "      <td>146.440002</td>\n",
              "      <td>147.350006</td>\n",
              "      <td>141.759995</td>\n",
              "      <td>127.136780</td>\n",
              "      <td>5397500</td>\n",
              "      <td>CAT</td>\n",
              "      <td>0</td>\n",
              "    </tr>\n",
              "  </tbody>\n",
              "</table>\n",
              "</div>"
            ],
            "text/plain": [
              "         date        open        high         low       close     volume  \\\n",
              "0  2018-04-02   41.660000   42.235001   41.117500   39.724884  150347200   \n",
              "1  2018-04-02  169.919998  170.580002  163.309998  143.063889    4759800   \n",
              "2  2018-04-02   93.139999   93.550003   89.959999   84.752602    4998400   \n",
              "3  2018-04-02  325.200012  329.940002  317.170013  308.799866    5024900   \n",
              "4  2018-04-02  146.440002  147.350006  141.759995  127.136780    5397500   \n",
              "\n",
              "    tic  day  \n",
              "0  AAPL    0  \n",
              "1  AMGN    0  \n",
              "2   AXP    0  \n",
              "3    BA    0  \n",
              "4   CAT    0  "
            ]
          },
          "execution_count": 10,
          "metadata": {},
          "output_type": "execute_result"
        }
      ],
      "source": [
        "df.sort_values(['date','tic']).head()"
      ]
    },
    {
      "cell_type": "code",
      "execution_count": 11,
      "metadata": {
        "colab": {
          "base_uri": "https://localhost:8080/"
        },
        "id": "a2vryMsdNL9H",
        "outputId": "6691ba9b-e613-412b-dba5-dee592bb0ff2"
      },
      "outputs": [
        {
          "data": {
            "text/plain": [
              "30"
            ]
          },
          "execution_count": 11,
          "metadata": {},
          "output_type": "execute_result"
        }
      ],
      "source": [
        "len(df.tic.unique())"
      ]
    },
    {
      "cell_type": "code",
      "execution_count": 12,
      "metadata": {
        "colab": {
          "base_uri": "https://localhost:8080/"
        },
        "id": "XcNyXa7RNPrF",
        "outputId": "edb04575-9b82-4d5e-f13a-55c884214725"
      },
      "outputs": [
        {
          "data": {
            "text/plain": [
              "AAPL    1237\n",
              "AMGN    1237\n",
              "WMT     1237\n",
              "WBA     1237\n",
              "VZ      1237\n",
              "V       1237\n",
              "UNH     1237\n",
              "TRV     1237\n",
              "PG      1237\n",
              "NKE     1237\n",
              "MSFT    1237\n",
              "MRK     1237\n",
              "MMM     1237\n",
              "MCD     1237\n",
              "KO      1237\n",
              "JPM     1237\n",
              "JNJ     1237\n",
              "INTC    1237\n",
              "IBM     1237\n",
              "HON     1237\n",
              "HD      1237\n",
              "GS      1237\n",
              "DIS     1237\n",
              "CVX     1237\n",
              "CSCO    1237\n",
              "CRM     1237\n",
              "CAT     1237\n",
              "BA      1237\n",
              "AXP     1237\n",
              "DOW      994\n",
              "Name: tic, dtype: int64"
            ]
          },
          "execution_count": 12,
          "metadata": {},
          "output_type": "execute_result"
        }
      ],
      "source": [
        "df.tic.value_counts()"
      ]
    },
    {
      "cell_type": "code",
      "execution_count": 13,
      "metadata": {
        "id": "kM5bH9uroCeg"
      },
      "outputs": [],
      "source": [
        "#  INDICATORS = ['macd',\n",
        "#                'rsi_30',\n",
        "#                'cci_30',\n",
        "#                'dx_30']"
      ]
    },
    {
      "cell_type": "code",
      "execution_count": 14,
      "metadata": {
        "colab": {
          "base_uri": "https://localhost:8080/"
        },
        "id": "jgXfBcjxtj1a",
        "outputId": "bd80d5c7-6ab7-4938-e1aa-f60ff642dc02"
      },
      "outputs": [
        {
          "name": "stdout",
          "output_type": "stream",
          "text": [
            "Successfully added technical indicators\n",
            "Successfully added turbulence index\n"
          ]
        }
      ],
      "source": [
        "fe = FeatureEngineer(use_technical_indicator=True,\n",
        "                     tech_indicator_list = INDICATORS,\n",
        "                     use_turbulence=True,\n",
        "                     user_defined_feature = False)\n",
        "\n",
        "processed = fe.preprocess_data(df)\n",
        "processed = processed.copy()\n",
        "processed = processed.fillna(0)\n",
        "processed = processed.replace(np.inf,0)\n",
        "processed.to_csv('../datasets/{}.csv'.format(data_str))"
      ]
    },
    {
      "cell_type": "code",
      "execution_count": 15,
      "metadata": {
        "colab": {
          "base_uri": "https://localhost:8080/",
          "height": 337
        },
        "id": "grvhGJJII3Xn",
        "outputId": "06a440dc-bb85-4ce9-83ab-53b3a62f0cc6"
      },
      "outputs": [
        {
          "data": {
            "text/html": [
              "<div>\n",
              "<style scoped>\n",
              "    .dataframe tbody tr th:only-of-type {\n",
              "        vertical-align: middle;\n",
              "    }\n",
              "\n",
              "    .dataframe tbody tr th {\n",
              "        vertical-align: top;\n",
              "    }\n",
              "\n",
              "    .dataframe thead th {\n",
              "        text-align: right;\n",
              "    }\n",
              "</style>\n",
              "<table border=\"1\" class=\"dataframe\">\n",
              "  <thead>\n",
              "    <tr style=\"text-align: right;\">\n",
              "      <th></th>\n",
              "      <th>date</th>\n",
              "      <th>open</th>\n",
              "      <th>high</th>\n",
              "      <th>low</th>\n",
              "      <th>close</th>\n",
              "      <th>volume</th>\n",
              "      <th>tic</th>\n",
              "      <th>day</th>\n",
              "      <th>macd</th>\n",
              "      <th>boll_ub</th>\n",
              "      <th>boll_lb</th>\n",
              "      <th>rsi_30</th>\n",
              "      <th>cci_30</th>\n",
              "      <th>dx_30</th>\n",
              "      <th>close_30_sma</th>\n",
              "      <th>close_60_sma</th>\n",
              "      <th>turbulence</th>\n",
              "    </tr>\n",
              "  </thead>\n",
              "  <tbody>\n",
              "    <tr>\n",
              "      <th>11219</th>\n",
              "      <td>2019-10-11</td>\n",
              "      <td>176.869995</td>\n",
              "      <td>179.199997</td>\n",
              "      <td>176.850006</td>\n",
              "      <td>172.960297</td>\n",
              "      <td>8754400</td>\n",
              "      <td>V</td>\n",
              "      <td>4</td>\n",
              "      <td>-0.654635</td>\n",
              "      <td>173.872719</td>\n",
              "      <td>167.174364</td>\n",
              "      <td>51.515249</td>\n",
              "      <td>29.758732</td>\n",
              "      <td>4.924632</td>\n",
              "      <td>172.305798</td>\n",
              "      <td>173.310026</td>\n",
              "      <td>20.443345</td>\n",
              "    </tr>\n",
              "    <tr>\n",
              "      <th>30173</th>\n",
              "      <td>2022-05-17</td>\n",
              "      <td>43.820000</td>\n",
              "      <td>44.419998</td>\n",
              "      <td>43.650002</td>\n",
              "      <td>42.848381</td>\n",
              "      <td>28596600</td>\n",
              "      <td>INTC</td>\n",
              "      <td>1</td>\n",
              "      <td>-0.905303</td>\n",
              "      <td>46.121423</td>\n",
              "      <td>40.317864</td>\n",
              "      <td>46.240275</td>\n",
              "      <td>-69.703337</td>\n",
              "      <td>7.082116</td>\n",
              "      <td>43.831884</td>\n",
              "      <td>44.870845</td>\n",
              "      <td>245.328534</td>\n",
              "    </tr>\n",
              "    <tr>\n",
              "      <th>23166</th>\n",
              "      <td>2021-06-02</td>\n",
              "      <td>409.140015</td>\n",
              "      <td>409.140015</td>\n",
              "      <td>404.549988</td>\n",
              "      <td>395.158447</td>\n",
              "      <td>2232900</td>\n",
              "      <td>UNH</td>\n",
              "      <td>2</td>\n",
              "      <td>3.902762</td>\n",
              "      <td>407.744479</td>\n",
              "      <td>393.050910</td>\n",
              "      <td>58.937150</td>\n",
              "      <td>-12.182834</td>\n",
              "      <td>14.372070</td>\n",
              "      <td>396.694220</td>\n",
              "      <td>378.079639</td>\n",
              "      <td>10.192512</td>\n",
              "    </tr>\n",
              "    <tr>\n",
              "      <th>28038</th>\n",
              "      <td>2022-01-31</td>\n",
              "      <td>465.000000</td>\n",
              "      <td>473.179993</td>\n",
              "      <td>464.399994</td>\n",
              "      <td>464.938446</td>\n",
              "      <td>3500500</td>\n",
              "      <td>UNH</td>\n",
              "      <td>0</td>\n",
              "      <td>-3.417969</td>\n",
              "      <td>485.115386</td>\n",
              "      <td>437.777177</td>\n",
              "      <td>53.239929</td>\n",
              "      <td>-34.887390</td>\n",
              "      <td>0.394436</td>\n",
              "      <td>470.365054</td>\n",
              "      <td>460.256142</td>\n",
              "      <td>51.612357</td>\n",
              "    </tr>\n",
              "    <tr>\n",
              "      <th>6100</th>\n",
              "      <td>2019-01-31</td>\n",
              "      <td>181.500000</td>\n",
              "      <td>184.669998</td>\n",
              "      <td>181.059998</td>\n",
              "      <td>165.579025</td>\n",
              "      <td>5138000</td>\n",
              "      <td>HD</td>\n",
              "      <td>3</td>\n",
              "      <td>1.930201</td>\n",
              "      <td>166.299508</td>\n",
              "      <td>154.794648</td>\n",
              "      <td>54.839683</td>\n",
              "      <td>120.949775</td>\n",
              "      <td>25.587366</td>\n",
              "      <td>157.356482</td>\n",
              "      <td>158.001266</td>\n",
              "      <td>0.000000</td>\n",
              "    </tr>\n",
              "  </tbody>\n",
              "</table>\n",
              "</div>"
            ],
            "text/plain": [
              "             date        open        high         low       close    volume  \\\n",
              "11219  2019-10-11  176.869995  179.199997  176.850006  172.960297   8754400   \n",
              "30173  2022-05-17   43.820000   44.419998   43.650002   42.848381  28596600   \n",
              "23166  2021-06-02  409.140015  409.140015  404.549988  395.158447   2232900   \n",
              "28038  2022-01-31  465.000000  473.179993  464.399994  464.938446   3500500   \n",
              "6100   2019-01-31  181.500000  184.669998  181.059998  165.579025   5138000   \n",
              "\n",
              "        tic  day      macd     boll_ub     boll_lb     rsi_30      cci_30  \\\n",
              "11219     V    4 -0.654635  173.872719  167.174364  51.515249   29.758732   \n",
              "30173  INTC    1 -0.905303   46.121423   40.317864  46.240275  -69.703337   \n",
              "23166   UNH    2  3.902762  407.744479  393.050910  58.937150  -12.182834   \n",
              "28038   UNH    0 -3.417969  485.115386  437.777177  53.239929  -34.887390   \n",
              "6100     HD    3  1.930201  166.299508  154.794648  54.839683  120.949775   \n",
              "\n",
              "           dx_30  close_30_sma  close_60_sma  turbulence  \n",
              "11219   4.924632    172.305798    173.310026   20.443345  \n",
              "30173   7.082116     43.831884     44.870845  245.328534  \n",
              "23166  14.372070    396.694220    378.079639   10.192512  \n",
              "28038   0.394436    470.365054    460.256142   51.612357  \n",
              "6100   25.587366    157.356482    158.001266    0.000000  "
            ]
          },
          "execution_count": 15,
          "metadata": {},
          "output_type": "execute_result"
        }
      ],
      "source": [
        "processed.sample(5)"
      ]
    },
    {
      "cell_type": "code",
      "execution_count": 16,
      "metadata": {
        "colab": {
          "base_uri": "https://localhost:8080/"
        },
        "id": "Q2zqII8rMIqn",
        "outputId": "e16902dc-86b3-488e-ec15-234a3d6039c2"
      },
      "outputs": [
        {
          "name": "stdout",
          "output_type": "stream",
          "text": [
            "Stock Dimension: 29, State Space: 291\n"
          ]
        }
      ],
      "source": [
        "stock_dimension = len(processed.tic.unique())\n",
        "state_space = 1 + 2*stock_dimension + len(INDICATORS)*stock_dimension\n",
        "print(f\"Stock Dimension: {stock_dimension}, State Space: {state_space}\")"
      ]
    },
    {
      "cell_type": "code",
      "execution_count": 17,
      "metadata": {
        "id": "AWyp84Ltto19"
      },
      "outputs": [],
      "source": [
        "env_kwargs = {\n",
        "    \"hmax\": 100, \n",
        "    \"initial_amount\": 1000000, \n",
        "    \"buy_cost_pct\": 0.001, \n",
        "    \"sell_cost_pct\": 0.001, \n",
        "    \"state_space\": state_space, \n",
        "    \"stock_dim\": stock_dimension, \n",
        "    \"tech_indicator_list\": INDICATORS, \n",
        "    \"action_space\": stock_dimension, \n",
        "    \"reward_scaling\": 1e-4,\n",
        "    \"print_verbosity\":5\n",
        "    \n",
        "}"
      ]
    },
    {
      "cell_type": "code",
      "execution_count": 18,
      "metadata": {
        "id": "v-gthCxMtj1d"
      },
      "outputs": [],
      "source": [
        "rebalance_window = 63 # rebalance_window is the number of days to retrain the model\n",
        "validation_window = 63 # validation_window is the number of days to do validation and trading (e.g. if validation_window=63, then both validation and trading period will be 63 days)\n",
        "\n",
        "ensemble_agent = DRLEnsembleAgent(df=processed,\n",
        "                 train_period=(TRAIN_START_DATE,TRAIN_END_DATE),\n",
        "                 val_test_period=(TEST_START_DATE,TEST_END_DATE),\n",
        "                 rebalance_window=rebalance_window, \n",
        "                 validation_window=validation_window, \n",
        "                 **env_kwargs)\n",
        "\n"
      ]
    },
    {
      "cell_type": "code",
      "execution_count": 19,
      "metadata": {
        "id": "KsfEHa_Etj1d",
        "scrolled": false
      },
      "outputs": [],
      "source": [
        "A2C_model_kwargs = {\n",
        "                    'n_steps': 5,\n",
        "                    'ent_coef': 0.005,\n",
        "                    'learning_rate': 0.0007\n",
        "                    }\n",
        "\n",
        "PPO_model_kwargs = {\n",
        "                    \"ent_coef\":0.01,\n",
        "                    \"n_steps\": 2048,\n",
        "                    \"learning_rate\": 0.00025,\n",
        "                    \"batch_size\": 128\n",
        "                    }\n",
        "\n",
        "DDPG_model_kwargs = {\n",
        "                      #\"action_noise\":\"ornstein_uhlenbeck\",\n",
        "                      \"buffer_size\": 10_000,\n",
        "                      \"learning_rate\": 0.0005,\n",
        "                      \"batch_size\": 64\n",
        "                    }\n",
        "\n",
        "timesteps_dict = {'a2c' : 100, \n",
        "                 'ppo' : 100, \n",
        "                 'ddpg' : 100\n",
        "                 }"
      ]
    },
    {
      "cell_type": "code",
      "execution_count": 20,
      "metadata": {
        "colab": {
          "base_uri": "https://localhost:8080/"
        },
        "id": "_1lyCECstj1e",
        "outputId": "73e2d3f8-463a-42d5-d49f-c71385a26c92",
        "scrolled": true
      },
      "outputs": [
        {
          "name": "stdout",
          "output_type": "stream",
          "text": [
            "============Start Ensemble Strategy============\n",
            "============================================\n",
            "turbulence_threshold:  393.72208168167333\n",
            "======Model training from:  2018-04-01 to  2021-10-04\n",
            "======A2C Training========\n",
            "{'n_steps': 5, 'ent_coef': 0.005, 'learning_rate': 0.0007}\n",
            "Using cpu device\n",
            "Logging to tensorboard_log/a2c\\a2c_126_5\n",
            "======A2C Validation from:  2021-10-04 to  2022-01-03\n",
            "A2C Sharpe Ratio:  0.2515923979111514\n",
            "======PPO Training========\n",
            "{'ent_coef': 0.01, 'n_steps': 2048, 'learning_rate': 0.00025, 'batch_size': 128}\n",
            "Using cpu device\n",
            "Logging to tensorboard_log/ppo\\ppo_126_5\n",
            "-----------------------------------\n",
            "| time/              |            |\n",
            "|    fps             | 87         |\n",
            "|    iterations      | 1          |\n",
            "|    time_elapsed    | 23         |\n",
            "|    total_timesteps | 2048       |\n",
            "| train/             |            |\n",
            "|    reward          | -1.8145897 |\n",
            "-----------------------------------\n",
            "======PPO Validation from:  2021-10-04 to  2022-01-03\n",
            "PPO Sharpe Ratio:  0.2913654649197741\n",
            "======DDPG Training========\n",
            "{'buffer_size': 10000, 'learning_rate': 0.0005, 'batch_size': 64}\n",
            "Using cpu device\n",
            "Logging to tensorboard_log/ddpg\\ddpg_126_5\n",
            "day: 883, episode: 5\n",
            "begin_total_asset: 1000000.00\n",
            "end_total_asset: 1479658.35\n",
            "total_reward: 479658.35\n",
            "total_cost: 16741.28\n",
            "total_trades: 12718\n",
            "Sharpe: 0.686\n",
            "=================================\n",
            "======DDPG Validation from:  2021-10-04 to  2022-01-03\n",
            "======Best Model Retraining from:  2018-04-01 to  2022-01-03\n",
            "======Trading from:  2022-01-03 to  2022-04-04\n",
            "============================================\n",
            "turbulence_threshold:  393.72208168167333\n",
            "======Model training from:  2018-04-01 to  2022-01-03\n",
            "======A2C Training========\n",
            "{'n_steps': 5, 'ent_coef': 0.005, 'learning_rate': 0.0007}\n",
            "Using cpu device\n",
            "Logging to tensorboard_log/a2c\\a2c_189_5\n",
            "======A2C Validation from:  2022-01-03 to  2022-04-04\n",
            "A2C Sharpe Ratio:  -0.09849584573776857\n",
            "======PPO Training========\n",
            "{'ent_coef': 0.01, 'n_steps': 2048, 'learning_rate': 0.00025, 'batch_size': 128}\n",
            "Using cpu device\n",
            "Logging to tensorboard_log/ppo\\ppo_189_5\n",
            "----------------------------------\n",
            "| time/              |           |\n",
            "|    fps             | 100       |\n",
            "|    iterations      | 1         |\n",
            "|    time_elapsed    | 20        |\n",
            "|    total_timesteps | 2048      |\n",
            "| train/             |           |\n",
            "|    reward          | 1.5168715 |\n",
            "----------------------------------\n",
            "======PPO Validation from:  2022-01-03 to  2022-04-04\n",
            "PPO Sharpe Ratio:  -0.05384813093534501\n",
            "======DDPG Training========\n",
            "{'buffer_size': 10000, 'learning_rate': 0.0005, 'batch_size': 64}\n",
            "Using cpu device\n",
            "Logging to tensorboard_log/ddpg\\ddpg_189_5\n",
            "day: 946, episode: 5\n",
            "begin_total_asset: 1000000.00\n",
            "end_total_asset: 1557253.61\n",
            "total_reward: 557253.61\n",
            "total_cost: 16922.34\n",
            "total_trades: 13013\n",
            "Sharpe: 0.670\n",
            "=================================\n",
            "======DDPG Validation from:  2022-01-03 to  2022-04-04\n",
            "======Best Model Retraining from:  2018-04-01 to  2022-04-04\n",
            "======Trading from:  2022-04-04 to  2022-07-06\n",
            "============================================\n",
            "turbulence_threshold:  393.72208168167333\n",
            "======Model training from:  2018-04-01 to  2022-04-04\n",
            "======A2C Training========\n",
            "{'n_steps': 5, 'ent_coef': 0.005, 'learning_rate': 0.0007}\n",
            "Using cpu device\n",
            "Logging to tensorboard_log/a2c\\a2c_252_4\n",
            "======A2C Validation from:  2022-04-04 to  2022-07-06\n",
            "A2C Sharpe Ratio:  -0.2741309870812349\n",
            "======PPO Training========\n",
            "{'ent_coef': 0.01, 'n_steps': 2048, 'learning_rate': 0.00025, 'batch_size': 128}\n",
            "Using cpu device\n",
            "Logging to tensorboard_log/ppo\\ppo_252_4\n",
            "-----------------------------------\n",
            "| time/              |            |\n",
            "|    fps             | 98         |\n",
            "|    iterations      | 1          |\n",
            "|    time_elapsed    | 20         |\n",
            "|    total_timesteps | 2048       |\n",
            "| train/             |            |\n",
            "|    reward          | 0.57649624 |\n",
            "-----------------------------------\n",
            "======PPO Validation from:  2022-04-04 to  2022-07-06\n",
            "PPO Sharpe Ratio:  -0.2942194594751673\n",
            "======DDPG Training========\n",
            "{'buffer_size': 10000, 'learning_rate': 0.0005, 'batch_size': 64}\n",
            "Using cpu device\n",
            "Logging to tensorboard_log/ddpg\\ddpg_252_4\n",
            "day: 1009, episode: 5\n",
            "begin_total_asset: 1000000.00\n",
            "end_total_asset: 1361627.33\n",
            "total_reward: 361627.33\n",
            "total_cost: 16425.84\n",
            "total_trades: 14813\n",
            "Sharpe: 0.434\n",
            "=================================\n",
            "======DDPG Validation from:  2022-04-04 to  2022-07-06\n",
            "======Best Model Retraining from:  2018-04-01 to  2022-07-06\n",
            "======Trading from:  2022-07-06 to  2022-10-04\n",
            "============================================\n",
            "turbulence_threshold:  393.72208168167333\n",
            "======Model training from:  2018-04-01 to  2022-07-06\n",
            "======A2C Training========\n",
            "{'n_steps': 5, 'ent_coef': 0.005, 'learning_rate': 0.0007}\n",
            "Using cpu device\n",
            "Logging to tensorboard_log/a2c\\a2c_315_3\n",
            "======A2C Validation from:  2022-07-06 to  2022-10-04\n",
            "A2C Sharpe Ratio:  -0.1944353741166179\n",
            "======PPO Training========\n",
            "{'ent_coef': 0.01, 'n_steps': 2048, 'learning_rate': 0.00025, 'batch_size': 128}\n",
            "Using cpu device\n",
            "Logging to tensorboard_log/ppo\\ppo_315_3\n",
            "-----------------------------------\n",
            "| time/              |            |\n",
            "|    fps             | 86         |\n",
            "|    iterations      | 1          |\n",
            "|    time_elapsed    | 23         |\n",
            "|    total_timesteps | 2048       |\n",
            "| train/             |            |\n",
            "|    reward          | -1.7755572 |\n",
            "-----------------------------------\n",
            "======PPO Validation from:  2022-07-06 to  2022-10-04\n",
            "PPO Sharpe Ratio:  -0.188424567158962\n",
            "======DDPG Training========\n",
            "{'buffer_size': 10000, 'learning_rate': 0.0005, 'batch_size': 64}\n",
            "Using cpu device\n",
            "Logging to tensorboard_log/ddpg\\ddpg_315_3\n",
            "======DDPG Validation from:  2022-07-06 to  2022-10-04\n",
            "======Best Model Retraining from:  2018-04-01 to  2022-10-04\n",
            "======Trading from:  2022-10-04 to  2023-01-04\n",
            "Ensemble Strategy took:  6.2126510063807165  minutes\n"
          ]
        }
      ],
      "source": [
        "df_summary = ensemble_agent.run_ensemble_strategy(A2C_model_kwargs,\n",
        "                                                 PPO_model_kwargs,\n",
        "                                                 DDPG_model_kwargs,\n",
        "                                                 timesteps_dict)"
      ]
    },
    {
      "cell_type": "code",
      "execution_count": 21,
      "metadata": {
        "colab": {
          "base_uri": "https://localhost:8080/",
          "height": 175
        },
        "id": "-0qd8acMtj1f",
        "outputId": "9f0cbf89-5f4b-4691-9e43-daa093ebceae"
      },
      "outputs": [
        {
          "data": {
            "text/html": [
              "<div>\n",
              "<style scoped>\n",
              "    .dataframe tbody tr th:only-of-type {\n",
              "        vertical-align: middle;\n",
              "    }\n",
              "\n",
              "    .dataframe tbody tr th {\n",
              "        vertical-align: top;\n",
              "    }\n",
              "\n",
              "    .dataframe thead th {\n",
              "        text-align: right;\n",
              "    }\n",
              "</style>\n",
              "<table border=\"1\" class=\"dataframe\">\n",
              "  <thead>\n",
              "    <tr style=\"text-align: right;\">\n",
              "      <th></th>\n",
              "      <th>Iter</th>\n",
              "      <th>Val Start</th>\n",
              "      <th>Val End</th>\n",
              "      <th>Model Used</th>\n",
              "      <th>A2C Sharpe</th>\n",
              "      <th>PPO Sharpe</th>\n",
              "      <th>DDPG Sharpe</th>\n",
              "    </tr>\n",
              "  </thead>\n",
              "  <tbody>\n",
              "    <tr>\n",
              "      <th>0</th>\n",
              "      <td>126</td>\n",
              "      <td>2021-10-04</td>\n",
              "      <td>2022-01-03</td>\n",
              "      <td>PPO</td>\n",
              "      <td>0.251592</td>\n",
              "      <td>0.291365</td>\n",
              "      <td>0.198454</td>\n",
              "    </tr>\n",
              "    <tr>\n",
              "      <th>1</th>\n",
              "      <td>189</td>\n",
              "      <td>2022-01-03</td>\n",
              "      <td>2022-04-04</td>\n",
              "      <td>PPO</td>\n",
              "      <td>-0.098496</td>\n",
              "      <td>-0.053848</td>\n",
              "      <td>-0.187079</td>\n",
              "    </tr>\n",
              "    <tr>\n",
              "      <th>2</th>\n",
              "      <td>252</td>\n",
              "      <td>2022-04-04</td>\n",
              "      <td>2022-07-06</td>\n",
              "      <td>DDPG</td>\n",
              "      <td>-0.274131</td>\n",
              "      <td>-0.294219</td>\n",
              "      <td>-0.204316</td>\n",
              "    </tr>\n",
              "    <tr>\n",
              "      <th>3</th>\n",
              "      <td>315</td>\n",
              "      <td>2022-07-06</td>\n",
              "      <td>2022-10-04</td>\n",
              "      <td>DDPG</td>\n",
              "      <td>-0.194435</td>\n",
              "      <td>-0.188425</td>\n",
              "      <td>-0.095973</td>\n",
              "    </tr>\n",
              "  </tbody>\n",
              "</table>\n",
              "</div>"
            ],
            "text/plain": [
              "  Iter   Val Start     Val End Model Used A2C Sharpe PPO Sharpe DDPG Sharpe\n",
              "0  126  2021-10-04  2022-01-03        PPO   0.251592   0.291365    0.198454\n",
              "1  189  2022-01-03  2022-04-04        PPO  -0.098496  -0.053848   -0.187079\n",
              "2  252  2022-04-04  2022-07-06       DDPG  -0.274131  -0.294219   -0.204316\n",
              "3  315  2022-07-06  2022-10-04       DDPG  -0.194435  -0.188425   -0.095973"
            ]
          },
          "execution_count": 21,
          "metadata": {},
          "output_type": "execute_result"
        }
      ],
      "source": [
        "df_summary"
      ]
    },
    {
      "cell_type": "code",
      "execution_count": 22,
      "metadata": {
        "id": "X4JKB--8tj1g"
      },
      "outputs": [],
      "source": [
        "unique_trade_date = processed[(processed.date > TEST_START_DATE)&(processed.date <= TEST_END_DATE)].date.unique()"
      ]
    },
    {
      "cell_type": "code",
      "execution_count": 23,
      "metadata": {
        "colab": {
          "base_uri": "https://localhost:8080/"
        },
        "id": "q9mKF7GGtj1g",
        "outputId": "99c5e5f8-2e3f-49c3-e5a6-4e66ed92e40a",
        "scrolled": true
      },
      "outputs": [
        {
          "name": "stdout",
          "output_type": "stream",
          "text": [
            "Sharpe Ratio:  -0.4199748574115693\n"
          ]
        }
      ],
      "source": [
        "df_trade_date = pd.DataFrame({'datadate':unique_trade_date})\n",
        "\n",
        "df_account_value=pd.DataFrame()\n",
        "for i in range(rebalance_window+validation_window, len(unique_trade_date)+1,rebalance_window):\n",
        "    temp = pd.read_csv('results/account_value_trade_{}_{}.csv'.format('ensemble',i))\n",
        "    df_account_value = df_account_value.append(temp,ignore_index=True)\n",
        "sharpe=(252**0.5)*df_account_value.account_value.pct_change(1).mean()/df_account_value.account_value.pct_change(1).std()\n",
        "print('Sharpe Ratio: ',sharpe)\n",
        "df_account_value=df_account_value.join(df_trade_date[validation_window:].reset_index(drop=True))"
      ]
    },
    {
      "cell_type": "code",
      "execution_count": 24,
      "metadata": {
        "colab": {
          "base_uri": "https://localhost:8080/",
          "height": 206
        },
        "id": "oyosyW7_tj1g",
        "outputId": "0e54f2d5-6057-4a14-c94a-5f2af26ad171"
      },
      "outputs": [
        {
          "data": {
            "text/html": [
              "<div>\n",
              "<style scoped>\n",
              "    .dataframe tbody tr th:only-of-type {\n",
              "        vertical-align: middle;\n",
              "    }\n",
              "\n",
              "    .dataframe tbody tr th {\n",
              "        vertical-align: top;\n",
              "    }\n",
              "\n",
              "    .dataframe thead th {\n",
              "        text-align: right;\n",
              "    }\n",
              "</style>\n",
              "<table border=\"1\" class=\"dataframe\">\n",
              "  <thead>\n",
              "    <tr style=\"text-align: right;\">\n",
              "      <th></th>\n",
              "      <th>account_value</th>\n",
              "      <th>date</th>\n",
              "      <th>daily_return</th>\n",
              "      <th>datadate</th>\n",
              "    </tr>\n",
              "  </thead>\n",
              "  <tbody>\n",
              "    <tr>\n",
              "      <th>0</th>\n",
              "      <td>1.000000e+06</td>\n",
              "      <td>2022-01-03</td>\n",
              "      <td>NaN</td>\n",
              "      <td>2022-01-03</td>\n",
              "    </tr>\n",
              "    <tr>\n",
              "      <th>1</th>\n",
              "      <td>1.004319e+06</td>\n",
              "      <td>2022-01-04</td>\n",
              "      <td>0.004319</td>\n",
              "      <td>2022-01-04</td>\n",
              "    </tr>\n",
              "    <tr>\n",
              "      <th>2</th>\n",
              "      <td>1.000320e+06</td>\n",
              "      <td>2022-01-05</td>\n",
              "      <td>-0.003982</td>\n",
              "      <td>2022-01-05</td>\n",
              "    </tr>\n",
              "    <tr>\n",
              "      <th>3</th>\n",
              "      <td>9.984907e+05</td>\n",
              "      <td>2022-01-06</td>\n",
              "      <td>-0.001829</td>\n",
              "      <td>2022-01-06</td>\n",
              "    </tr>\n",
              "    <tr>\n",
              "      <th>4</th>\n",
              "      <td>9.993466e+05</td>\n",
              "      <td>2022-01-07</td>\n",
              "      <td>0.000857</td>\n",
              "      <td>2022-01-07</td>\n",
              "    </tr>\n",
              "  </tbody>\n",
              "</table>\n",
              "</div>"
            ],
            "text/plain": [
              "   account_value        date  daily_return    datadate\n",
              "0   1.000000e+06  2022-01-03           NaN  2022-01-03\n",
              "1   1.004319e+06  2022-01-04      0.004319  2022-01-04\n",
              "2   1.000320e+06  2022-01-05     -0.003982  2022-01-05\n",
              "3   9.984907e+05  2022-01-06     -0.001829  2022-01-06\n",
              "4   9.993466e+05  2022-01-07      0.000857  2022-01-07"
            ]
          },
          "execution_count": 24,
          "metadata": {},
          "output_type": "execute_result"
        }
      ],
      "source": [
        "df_account_value.head()"
      ]
    },
    {
      "cell_type": "code",
      "execution_count": 25,
      "metadata": {
        "colab": {
          "base_uri": "https://localhost:8080/",
          "height": 293
        },
        "id": "wLsRdw2Ctj1h",
        "outputId": "0e2b0bc2-840c-47fd-87d4-01201d8e4e3d"
      },
      "outputs": [
        {
          "data": {
            "text/plain": [
              "<AxesSubplot: >"
            ]
          },
          "execution_count": 25,
          "metadata": {},
          "output_type": "execute_result"
        },
        {
          "data": {
            "image/png": "[encoded data removed]",
            "text/plain": [
              "<Figure size 640x480 with 1 Axes>"
            ]
          },
          "metadata": {},
          "output_type": "display_data"
        }
      ],
      "source": [
        "%matplotlib inline\n",
        "df_account_value.account_value.plot()"
      ]
    },
    {
      "cell_type": "code",
      "execution_count": 26,
      "metadata": {
        "colab": {
          "base_uri": "https://localhost:8080/"
        },
        "id": "Nzkr9yv-AdV_",
        "outputId": "ab0971b8-10b0-4fb1-a151-71a1de89cdf2",
        "scrolled": true
      },
      "outputs": [
        {
          "name": "stdout",
          "output_type": "stream",
          "text": [
            "==============Get Backtest Results===========\n",
            "Annual return         -0.099198\n",
            "Cumulative returns    -0.099198\n",
            "Annual volatility      0.201491\n",
            "Sharpe ratio          -0.419975\n",
            "Calmar ratio          -0.420042\n",
            "Stability              0.202843\n",
            "Max drawdown          -0.236163\n",
            "Omega ratio            0.932780\n",
            "Sortino ratio         -0.581923\n",
            "Skew                        NaN\n",
            "Kurtosis                    NaN\n",
            "Tail ratio             1.022327\n",
            "Daily value at risk   -0.025721\n",
            "dtype: float64\n"
          ]
        }
      ],
      "source": [
        "print(\"==============Get Backtest Results===========\")\n",
        "now = datetime.datetime.now().strftime('%Y%m%d-%Hh%M')\n",
        "\n",
        "perf_stats_all = backtest_stats(account_value=df_account_value)\n",
        "print(perf_stats_all)\n",
        "perf_stats_all = pd.DataFrame(perf_stats_all)"
      ]
    },
    {
      "cell_type": "code",
      "execution_count": 27,
      "metadata": {
        "colab": {
          "base_uri": "https://localhost:8080/"
        },
        "id": "DiHhM1YkoCel",
        "outputId": "c233f613-67a3-4882-8710-c1839247590e"
      },
      "outputs": [
        {
          "name": "stdout",
          "output_type": "stream",
          "text": [
            "==============Get Baseline Stats===========\n",
            "[*********************100%***********************]  1 of 1 completed\n",
            "Shape of DataFrame:  (251, 8)\n"
          ]
        }
      ],
      "source": [
        "#baseline stats\n",
        "print(\"==============Get Baseline Stats===========\")\n",
        "df_dji_ = get_baseline(\n",
        "        ticker=\"^DJI\", \n",
        "        start = df_account_value.loc[0,'date'],\n",
        "        end = df_account_value.loc[len(df_account_value)-1,'date'])\n",
        "\n",
        "stats = backtest_stats(df_dji_, value_col_name = 'close')"
      ]
    },
    {
      "cell_type": "code",
      "execution_count": 28,
      "metadata": {
        "colab": {
          "base_uri": "https://localhost:8080/"
        },
        "id": "RhJ9whD75WTs",
        "outputId": "8ae25787-8400-4357-ecc0-af7538689cee"
      },
      "outputs": [
        {
          "name": "stdout",
          "output_type": "stream",
          "text": [
            "df_dji:             date           dji\n",
            "0    2022-01-03  1.000000e+06\n",
            "1    2022-01-04  1.005866e+06\n",
            "2    2022-01-05  9.951360e+05\n",
            "3    2022-01-06  9.904718e+05\n",
            "4    2022-01-07  9.903404e+05\n",
            "..          ...           ...\n",
            "247  2022-12-27  9.086102e+05\n",
            "248  2022-12-28  8.986103e+05\n",
            "249  2022-12-29  9.080428e+05\n",
            "250  2022-12-30  9.060324e+05\n",
            "251  2023-01-03           NaN\n",
            "\n",
            "[252 rows x 2 columns]\n",
            "df_dji:                       dji\n",
            "date                    \n",
            "2022-01-03  1.000000e+06\n",
            "2022-01-04  1.005866e+06\n",
            "2022-01-05  9.951360e+05\n",
            "2022-01-06  9.904718e+05\n",
            "2022-01-07  9.903404e+05\n",
            "...                  ...\n",
            "2022-12-27  9.086102e+05\n",
            "2022-12-28  8.986103e+05\n",
            "2022-12-29  9.080428e+05\n",
            "2022-12-30  9.060324e+05\n",
            "2023-01-03           NaN\n",
            "\n",
            "[252 rows x 1 columns]\n"
          ]
        }
      ],
      "source": [
        "df_dji = pd.DataFrame()\n",
        "df_dji['date'] = df_account_value['date']\n",
        "df_dji['dji'] = df_dji_['close'] / df_dji_['close'][0] * env_kwargs[\"initial_amount\"]\n",
        "print(\"df_dji: \", df_dji)\n",
        "df_dji.to_csv(\"df_dji.csv\")\n",
        "df_dji = df_dji.set_index(df_dji.columns[0])\n",
        "print(\"df_dji: \", df_dji)\n",
        "df_dji.to_csv(\"df_dji+.csv\")\n",
        "\n",
        "df_account_value.to_csv('df_account_value.csv')\n"
      ]
    },
    {
      "cell_type": "code",
      "execution_count": 29,
      "metadata": {
        "colab": {
          "base_uri": "https://localhost:8080/",
          "height": 1000
        },
        "id": "HggausPRoCem",
        "outputId": "615e8d79-f3d7-47e9-c886-3cd18e4535f2"
      },
      "outputs": [
        {
          "name": "stdout",
          "output_type": "stream",
          "text": [
            "df_result_ensemble.columns:  Index(['ensemble'], dtype='object')\n",
            "df_trade_date:         datadate\n",
            "0    2021-10-04\n",
            "1    2021-10-05\n",
            "2    2021-10-06\n",
            "3    2021-10-07\n",
            "4    2021-10-08\n",
            "..          ...\n",
            "348  2023-02-22\n",
            "349  2023-02-23\n",
            "350  2023-02-24\n",
            "351  2023-02-27\n",
            "352  2023-02-28\n",
            "\n",
            "[353 rows x 1 columns]\n",
            "df_result_ensemble:                  ensemble\n",
            "date                    \n",
            "2022-01-03  1.000000e+06\n",
            "2022-01-04  1.004319e+06\n",
            "2022-01-05  1.000320e+06\n",
            "2022-01-06  9.984907e+05\n",
            "2022-01-07  9.993466e+05\n",
            "...                  ...\n",
            "2022-12-27  9.011052e+05\n",
            "2022-12-28  8.920279e+05\n",
            "2022-12-29  9.012886e+05\n",
            "2022-12-30  9.021371e+05\n",
            "2023-01-03  9.008016e+05\n",
            "\n",
            "[252 rows x 1 columns]\n",
            "==============Compare to DJIA===========\n",
            "result:                  ensemble           dji\n",
            "date                                  \n",
            "2022-01-03  1.000000e+06  1.000000e+06\n",
            "2022-01-04  1.004319e+06  1.005866e+06\n",
            "2022-01-05  1.000320e+06  9.951360e+05\n",
            "2022-01-06  9.984907e+05  9.904718e+05\n",
            "2022-01-07  9.993466e+05  9.903404e+05\n",
            "...                  ...           ...\n",
            "2022-12-27  9.011052e+05  9.086102e+05\n",
            "2022-12-28  8.920279e+05  8.986103e+05\n",
            "2022-12-29  9.012886e+05  9.080428e+05\n",
            "2022-12-30  9.021371e+05  9.060324e+05\n",
            "2023-01-03  9.008016e+05           NaN\n",
            "\n",
            "[252 rows x 2 columns]\n"
          ]
        },
        {
          "data": {
            "text/plain": [
              "<AxesSubplot: xlabel='date'>"
            ]
          },
          "execution_count": 29,
          "metadata": {},
          "output_type": "execute_result"
        },
        {
          "data": {
            "text/plain": [
              "<Figure size 1500x500 with 0 Axes>"
            ]
          },
          "metadata": {},
          "output_type": "display_data"
        },
        {
          "data": {
            "image/png": "[encoded data removed]",
            "text/plain": [
              "<Figure size 1500x500 with 1 Axes>"
            ]
          },
          "metadata": {},
          "output_type": "display_data"
        }
      ],
      "source": [
        "\n",
        "\n",
        "# print(\"==============Compare to DJIA===========\")\n",
        "# %matplotlib inline\n",
        "# # S&P 500: ^GSPC\n",
        "# # Dow Jones Index: ^DJI\n",
        "# # NASDAQ 100: ^NDX\n",
        "# backtest_plot(df_account_value, \n",
        "#               baseline_ticker = '^DJI', \n",
        "#               baseline_start = df_account_value.loc[0,'date'],\n",
        "#               baseline_end = df_account_value.loc[len(df_account_value)-1,'date'])\n",
        "df.to_csv(\"df.csv\")\n",
        "df_result_ensemble = pd.DataFrame({'date': df_account_value['date'], 'ensemble': df_account_value['account_value']})\n",
        "df_result_ensemble = df_result_ensemble.set_index('date')\n",
        "\n",
        "print(\"df_result_ensemble.columns: \", df_result_ensemble.columns)\n",
        "\n",
        "# df_result_ensemble.drop(df_result_ensemble.columns[0], axis = 1)\n",
        "print(\"df_trade_date: \", df_trade_date)\n",
        "# df_result_ensemble['date'] = df_trade_date['datadate']\n",
        "# df_result_ensemble['account_value'] = df_account_value['account_value']\n",
        "df_result_ensemble.to_csv(\"df_result_ensemble.csv\")\n",
        "print(\"df_result_ensemble: \", df_result_ensemble)\n",
        "print(\"==============Compare to DJIA===========\")\n",
        "result = pd.DataFrame()\n",
        "# result = pd.merge(result, df_result_ensemble, left_index=True, right_index=True)\n",
        "# result = pd.merge(result, df_dji, left_index=True, right_index=True)\n",
        "result = pd.merge(df_result_ensemble, df_dji, left_index=True, right_index=True)\n",
        "print(\"result: \", result)\n",
        "result.to_csv(\"result.csv\")\n",
        "result.columns = ['ensemble', 'dji']\n",
        "\n",
        "%matplotlib inline\n",
        "plt.rcParams[\"figure.figsize\"] = (15,5)\n",
        "plt.figure()\n",
        "result.plot()"
      ]
    }
  ],
  "metadata": {
    "accelerator": "GPU",
    "colab": {
      "name": "FinRL_Ensemble_StockTrading_ICAIF_2020.ipynb",
      "provenance": []
    },
    "kernelspec": {
      "display_name": "Python 3",
      "language": "python",
      "name": "python3"
    },
    "language_info": {
      "codemirror_mode": {
        "name": "ipython",
        "version": 3
      },
      "file_extension": ".py",
      "mimetype": "text/x-python",
      "name": "python",
      "nbconvert_exporter": "python",
      "pygments_lexer": "ipython3",
      "version": "3.10.9"
    },
    "pycharm": {
      "stem_cell": {
        "cell_type": "raw",
        "metadata": {
          "collapsed": false
        },
        "source": []
      }
    }
  },
  "nbformat": 4,
  "nbformat_minor": 0
}
